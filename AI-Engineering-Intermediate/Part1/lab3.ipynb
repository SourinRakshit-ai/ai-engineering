{
 "cells": [
  {
   "cell_type": "markdown",
   "id": "1a650a62",
   "metadata": {},
   "source": [
    "# Function Calling/Tool Use\n",
    "\n",
    "\n",
    "## Just a quick definition\n",
    "\n",
    "Function calling in the context of Large Language Models (LLMs) refers to the ability of the model to invoke external functions or tools during its response generation. Instead of only generating text, the LLM can recognize when a task requires external data or computation, call a predefined function with the appropriate arguments, and then use the function's output to continue its response.\n",
    "\n",
    "Think of having a super smart robot that you can only speak with. Pretty useless at doing anything aside from talking. Now imagine you have given that robot a hammer and some nails. It can now put up that wall painting that's been waiting forever to be hung :D\n",
    "\n",
    "Except, the way we as AI Engineers give AI tools is by defining python functions and describing that function in detail to the LLM so it knows what tools it has access to, what each tool can do, what are its inputs and expected outputs.\n",
    "\n",
    "Just remember, a *tool* in its simplest form is just a *python function* that you have defined. It can be as simple as a calculator function or something like being able to call external APIs."
   ]
  },
  {
   "cell_type": "markdown",
   "id": "057f0cfa",
   "metadata": {},
   "source": [
    "![tool-use](../../images/tool-use.png)\n",
    "\n",
    "*Image courtesy of [API Deck](https://www.apideck.com/blog/llm-tool-use-and-function-calling)*"
   ]
  },
  {
   "cell_type": "markdown",
   "id": "3aa669de",
   "metadata": {},
   "source": [
    "## Step 1: Import libraries"
   ]
  },
  {
   "cell_type": "code",
   "execution_count": 1,
   "id": "16015c67",
   "metadata": {},
   "outputs": [],
   "source": [
    "import os\n",
    "from openai import OpenAI\n",
    "from dotenv import load_dotenv\n",
    "from IPython.display import Markdown, display\n",
    "\n",
    "load_dotenv()\n",
    "\n",
    "OPENAI_API_KEY = os.getenv(\"OPENAI_API_KEY\")\n",
    "\n",
    "if OPENAI_API_KEY is None:\n",
    "    raise Exception(\"API key is missing\")"
   ]
  },
  {
   "cell_type": "markdown",
   "id": "9d3d86cc",
   "metadata": {},
   "source": [
    "## Step 2: Define a tool\n",
    "\n",
    "**The tool:** [OpenWeather API](https://openweathermap.org/api/one-call-3)\n",
    "\n",
    "**API Call:** `https://api.open-meteo.com/v1/forecast?latitude={latitude}&longitude={longitude}&current=temperature_2m,wind_speed_10m&hourly=temperature_2m,relative_humidity_2m,wind_speed_10m`"
   ]
  },
  {
   "cell_type": "code",
   "execution_count": 2,
   "id": "3997d169",
   "metadata": {},
   "outputs": [],
   "source": [
    "import requests\n",
    "\n",
    "# Define the python function\n",
    "def get_weather(lat, lon):\n",
    "    response = requests.get(f\"https://api.open-meteo.com/v1/forecast?latitude={lat}&longitude={lon}&current=temperature_2m,wind_speed_10m&hourly=temperature_2m,relative_humidity_2m,wind_speed_10m\")\n",
    "    data = response.json()\n",
    "    return data['current']['temperature_2m']\n"
   ]
  },
  {
   "cell_type": "code",
   "execution_count": 3,
   "id": "dfddda44",
   "metadata": {},
   "outputs": [
    {
     "data": {
      "text/plain": [
       "37.3"
      ]
     },
     "execution_count": 3,
     "metadata": {},
     "output_type": "execute_result"
    }
   ],
   "source": [
    "# Call the function\n",
    "get_weather(24.343627, 54.497922)"
   ]
  },
  {
   "cell_type": "markdown",
   "id": "cc4b3e24",
   "metadata": {},
   "source": [
    "## Step 3: Call a chat model normally"
   ]
  },
  {
   "cell_type": "code",
   "execution_count": 4,
   "id": "23326ac5",
   "metadata": {},
   "outputs": [
    {
     "name": "stdout",
     "output_type": "stream",
     "text": [
      "I don't have real-time data access to provide current weather conditions. However, Dubai typically has a desert climate, characterized by hot summers and mild winters. In summer (June to September), temperatures can exceed 40°C (104°F), while winter (December to February) sees milder temperatures, ranging from around 14°C to 24°C (57°F to 75°F) during the day.\n",
      "\n",
      "For the most accurate and up-to-date weather information, I recommend checking a reliable weather website or app.\n"
     ]
    }
   ],
   "source": [
    "# Call OpenAI Chat model\n",
    "\n",
    "client = OpenAI()\n",
    "\n",
    "response = client.responses.create(\n",
    "    model=\"gpt-4o-mini\",\n",
    "    input=[\n",
    "        {\"role\": \"user\", \"content\": \"What's the weather like in Dubai?\"}\n",
    "    ]\n",
    ")\n",
    "\n",
    "print(response.output_text)"
   ]
  },
  {
   "cell_type": "code",
   "execution_count": 5,
   "id": "eb899262",
   "metadata": {},
   "outputs": [
    {
     "data": {
      "text/plain": [
       "{'id': 'resp_68a814342a68819cb30f1da5b7723921014223f5b3c50db0',\n",
       " 'created_at': 1755845684.0,\n",
       " 'error': None,\n",
       " 'incomplete_details': None,\n",
       " 'instructions': None,\n",
       " 'metadata': {},\n",
       " 'model': 'gpt-4o-mini-2024-07-18',\n",
       " 'object': 'response',\n",
       " 'output': [ResponseOutputMessage(id='msg_68a81434ea40819cbce2a490383da69e014223f5b3c50db0', content=[ResponseOutputText(annotations=[], text=\"I don't have real-time data access to provide current weather conditions. However, Dubai typically has a desert climate, characterized by hot summers and mild winters. In summer (June to September), temperatures can exceed 40°C (104°F), while winter (December to February) sees milder temperatures, ranging from around 14°C to 24°C (57°F to 75°F) during the day.\\n\\nFor the most accurate and up-to-date weather information, I recommend checking a reliable weather website or app.\", type='output_text', logprobs=[])], role='assistant', status='completed', type='message')],\n",
       " 'parallel_tool_calls': True,\n",
       " 'temperature': 1.0,\n",
       " 'tool_choice': 'auto',\n",
       " 'tools': [],\n",
       " 'top_p': 1.0,\n",
       " 'background': False,\n",
       " 'max_output_tokens': None,\n",
       " 'max_tool_calls': None,\n",
       " 'previous_response_id': None,\n",
       " 'prompt': None,\n",
       " 'prompt_cache_key': None,\n",
       " 'reasoning': Reasoning(effort=None, generate_summary=None, summary=None),\n",
       " 'safety_identifier': None,\n",
       " 'service_tier': 'default',\n",
       " 'status': 'completed',\n",
       " 'text': ResponseTextConfig(format=ResponseFormatText(type='text'), verbosity='medium'),\n",
       " 'top_logprobs': 0,\n",
       " 'truncation': 'disabled',\n",
       " 'usage': ResponseUsage(input_tokens=14, input_tokens_details=InputTokensDetails(cached_tokens=0), output_tokens=103, output_tokens_details=OutputTokensDetails(reasoning_tokens=0), total_tokens=117),\n",
       " 'user': None,\n",
       " '_request_id': 'req_d289b4a8a9655ee4eb5dd74ebba378c2'}"
      ]
     },
     "execution_count": 5,
     "metadata": {},
     "output_type": "execute_result"
    }
   ],
   "source": [
    "# View all outputs\n",
    "response.__dict__"
   ]
  },
  {
   "cell_type": "code",
   "execution_count": 6,
   "id": "2fa9bee9",
   "metadata": {},
   "outputs": [
    {
     "data": {
      "text/plain": [
       "{'id': 'msg_68a81434ea40819cbce2a490383da69e014223f5b3c50db0',\n",
       " 'content': [ResponseOutputText(annotations=[], text=\"I don't have real-time data access to provide current weather conditions. However, Dubai typically has a desert climate, characterized by hot summers and mild winters. In summer (June to September), temperatures can exceed 40°C (104°F), while winter (December to February) sees milder temperatures, ranging from around 14°C to 24°C (57°F to 75°F) during the day.\\n\\nFor the most accurate and up-to-date weather information, I recommend checking a reliable weather website or app.\", type='output_text', logprobs=[])],\n",
       " 'role': 'assistant',\n",
       " 'status': 'completed',\n",
       " 'type': 'message'}"
      ]
     },
     "execution_count": 6,
     "metadata": {},
     "output_type": "execute_result"
    }
   ],
   "source": [
    "response.output[0].__dict__"
   ]
  },
  {
   "cell_type": "markdown",
   "id": "c45ab349",
   "metadata": {},
   "source": [
    "## Step 4: Define the input schema for our tool\n",
    "\n",
    "Lets try giving our `get_weather` function as a tool to our AI.\n",
    "\n",
    "A basic format of a tool schema is defined in the [OpenAI function calling docs](https://platform.openai.com/docs/guides/function-calling)\n",
    "\n",
    "Step 1: Define the tool in a format OpenAI can understand"
   ]
  },
  {
   "cell_type": "code",
   "execution_count": 35,
   "id": "e9ead465",
   "metadata": {},
   "outputs": [],
   "source": [
    "# Tool schema\n",
    "\n",
    "tools = [{\n",
    "    \"type\": \"function\",\n",
    "    \"name\": \"get_weather\",\n",
    "    \"description\": \"Get the current temperature in Celsius for a given latitude and longitude\",\n",
    "    \"parameters\": {\n",
    "        \"type\": \"object\",\n",
    "        \"properties\": {\n",
    "            \"lat\": {\"type\": \"number\"},\n",
    "            \"lon\": {\"type\": \"number\"}\n",
    "        },\n",
    "        \"required\": [\"lat\", \"lon\"],\n",
    "        \"additionalProperties\": False\n",
    "    },\n",
    "    \"strict\": True\n",
    "}]"
   ]
  },
  {
   "cell_type": "markdown",
   "id": "98a9f2e8",
   "metadata": {},
   "source": [
    "## Step 5: Pass the tool schema over to the model"
   ]
  },
  {
   "cell_type": "code",
   "execution_count": 38,
   "id": "23a7fe78",
   "metadata": {},
   "outputs": [],
   "source": [
    "# Pass in the function schema to our model\n",
    "\n",
    "input_messages = [{\"role\":\"user\", \"content\":\"What's the weather like in Dubai?\"}]\n",
    "\n",
    "response = client.responses.create(\n",
    "    model=\"gpt-4o-mini\",\n",
    "    input=input_messages,\n",
    "    tools=tools\n",
    ")"
   ]
  },
  {
   "cell_type": "code",
   "execution_count": 39,
   "id": "22212547",
   "metadata": {},
   "outputs": [
    {
     "data": {
      "text/plain": [
       "{'id': 'resp_68a830b2951c81a39c3495b37dd0b75c0f2075a84493bad4',\n",
       " 'created_at': 1755852978.0,\n",
       " 'error': None,\n",
       " 'incomplete_details': None,\n",
       " 'instructions': None,\n",
       " 'metadata': {},\n",
       " 'model': 'gpt-4o-mini-2024-07-18',\n",
       " 'object': 'response',\n",
       " 'output': [ResponseFunctionToolCall(arguments='{\"lat\":25.276987,\"lon\":55.296249}', call_id='call_iQfbtH8KavCRy736tXaEGbQX', name='get_weather', type='function_call', id='fc_68a830b3abd881a39233bbbe3838e5bf0f2075a84493bad4', status='completed')],\n",
       " 'parallel_tool_calls': True,\n",
       " 'temperature': 1.0,\n",
       " 'tool_choice': 'auto',\n",
       " 'tools': [FunctionTool(name='get_weather', parameters={'type': 'object', 'properties': {'lat': {'type': 'number'}, 'lon': {'type': 'number'}}, 'required': ['lat', 'lon'], 'additionalProperties': False}, strict=True, type='function', description='Get the current temperature in Celsius for a given latitude and longitude')],\n",
       " 'top_p': 1.0,\n",
       " 'background': False,\n",
       " 'max_output_tokens': None,\n",
       " 'max_tool_calls': None,\n",
       " 'previous_response_id': None,\n",
       " 'prompt': None,\n",
       " 'prompt_cache_key': None,\n",
       " 'reasoning': Reasoning(effort=None, generate_summary=None, summary=None),\n",
       " 'safety_identifier': None,\n",
       " 'service_tier': 'default',\n",
       " 'status': 'completed',\n",
       " 'text': ResponseTextConfig(format=ResponseFormatText(type='text'), verbosity='medium'),\n",
       " 'top_logprobs': 0,\n",
       " 'truncation': 'disabled',\n",
       " 'usage': ResponseUsage(input_tokens=55, input_tokens_details=InputTokensDetails(cached_tokens=0), output_tokens=25, output_tokens_details=OutputTokensDetails(reasoning_tokens=0), total_tokens=80),\n",
       " 'user': None,\n",
       " '_request_id': 'req_d708f58e491a8e7c3f29459b94b9b714'}"
      ]
     },
     "execution_count": 39,
     "metadata": {},
     "output_type": "execute_result"
    }
   ],
   "source": [
    "# Print the response dict\n",
    "response.__dict__"
   ]
  },
  {
   "cell_type": "code",
   "execution_count": 40,
   "id": "62dfeef0",
   "metadata": {},
   "outputs": [
    {
     "data": {
      "text/plain": [
       "{'arguments': '{\"lat\":25.276987,\"lon\":55.296249}',\n",
       " 'call_id': 'call_iQfbtH8KavCRy736tXaEGbQX',\n",
       " 'name': 'get_weather',\n",
       " 'type': 'function_call',\n",
       " 'id': 'fc_68a830b3abd881a39233bbbe3838e5bf0f2075a84493bad4',\n",
       " 'status': 'completed'}"
      ]
     },
     "execution_count": 40,
     "metadata": {},
     "output_type": "execute_result"
    }
   ],
   "source": [
    "response.output[0].__dict__"
   ]
  },
  {
   "cell_type": "markdown",
   "id": "c4fea85f",
   "metadata": {},
   "source": [
    "## Step 6: Format the tool call response from the LLM"
   ]
  },
  {
   "cell_type": "code",
   "execution_count": 41,
   "id": "fb1a149f",
   "metadata": {},
   "outputs": [
    {
     "data": {
      "text/plain": [
       "ResponseFunctionToolCall(arguments='{\"lat\":25.276987,\"lon\":55.296249}', call_id='call_iQfbtH8KavCRy736tXaEGbQX', name='get_weather', type='function_call', id='fc_68a830b3abd881a39233bbbe3838e5bf0f2075a84493bad4', status='completed')"
      ]
     },
     "execution_count": 41,
     "metadata": {},
     "output_type": "execute_result"
    }
   ],
   "source": [
    "response.output[0]"
   ]
  },
  {
   "cell_type": "code",
   "execution_count": 42,
   "id": "93497210",
   "metadata": {},
   "outputs": [
    {
     "name": "stdout",
     "output_type": "stream",
     "text": [
      "Tool Call:  ResponseFunctionToolCall(arguments='{\"lat\":25.276987,\"lon\":55.296249}', call_id='call_iQfbtH8KavCRy736tXaEGbQX', name='get_weather', type='function_call', id='fc_68a830b3abd881a39233bbbe3838e5bf0f2075a84493bad4', status='completed')\n",
      "Arguments:  {'lat': 25.276987, 'lon': 55.296249}\n"
     ]
    }
   ],
   "source": [
    "# Format tool call response\n",
    "import json\n",
    "\n",
    "tool_call = response.output[0]\n",
    "args = json.loads(tool_call.arguments)\n",
    "\n",
    "print(\"Tool Call: \", tool_call)\n",
    "print(\"Arguments: \", args)"
   ]
  },
  {
   "cell_type": "markdown",
   "id": "df9ff324",
   "metadata": {},
   "source": [
    "## Step 7: Pass on the tool call arguments to our tool/python function\n",
    "\n",
    "We now need to pass on the arguments received by the model to our python function or tool"
   ]
  },
  {
   "cell_type": "code",
   "execution_count": 43,
   "id": "33adbf82",
   "metadata": {},
   "outputs": [],
   "source": [
    "# Pass tool call into python function\n",
    "result = get_weather(args[\"lat\"], args[\"lon\"])"
   ]
  },
  {
   "cell_type": "code",
   "execution_count": 44,
   "id": "4c90522c",
   "metadata": {},
   "outputs": [
    {
     "data": {
      "text/plain": [
       "35.4"
      ]
     },
     "execution_count": 44,
     "metadata": {},
     "output_type": "execute_result"
    }
   ],
   "source": [
    "result"
   ]
  },
  {
   "cell_type": "markdown",
   "id": "e1829435",
   "metadata": {},
   "source": [
    "## Step 8: Append the response of the tool into the message list"
   ]
  },
  {
   "cell_type": "code",
   "execution_count": 49,
   "id": "93c04033",
   "metadata": {},
   "outputs": [
    {
     "data": {
      "text/plain": [
       "[{'role': 'user', 'content': \"What's the weather like in Dubai?\"},\n",
       " ResponseFunctionToolCall(arguments='{\"lat\":25.276987,\"lon\":55.296249}', call_id='call_iQfbtH8KavCRy736tXaEGbQX', name='get_weather', type='function_call', id='fc_68a830b3abd881a39233bbbe3838e5bf0f2075a84493bad4', status='completed'),\n",
       " {'type': 'function_call_output',\n",
       "  'call_id': 'call_iQfbtH8KavCRy736tXaEGbQX',\n",
       "  'output': '35.4'}]"
      ]
     },
     "execution_count": 49,
     "metadata": {},
     "output_type": "execute_result"
    }
   ],
   "source": [
    "# Convert tool call and response of tool to messages list\n",
    "\n",
    "# input_messages.append(tool_call)\n",
    "input_messages"
   ]
  },
  {
   "cell_type": "code",
   "execution_count": 48,
   "id": "60e8ccf0",
   "metadata": {},
   "outputs": [],
   "source": [
    "input_messages.append({\n",
    "    \"type\": \"function_call_output\",\n",
    "    \"call_id\": tool_call.call_id,\n",
    "    \"output\": str(result)\n",
    "})"
   ]
  },
  {
   "cell_type": "markdown",
   "id": "09a76b0c",
   "metadata": {},
   "source": [
    "## Step 9: Pass the message list into the model"
   ]
  },
  {
   "cell_type": "code",
   "execution_count": 50,
   "id": "7219132b",
   "metadata": {},
   "outputs": [
    {
     "data": {
      "text/plain": [
       "[{'role': 'user', 'content': \"What's the weather like in Dubai?\"},\n",
       " ResponseFunctionToolCall(arguments='{\"lat\":25.276987,\"lon\":55.296249}', call_id='call_iQfbtH8KavCRy736tXaEGbQX', name='get_weather', type='function_call', id='fc_68a830b3abd881a39233bbbe3838e5bf0f2075a84493bad4', status='completed'),\n",
       " {'type': 'function_call_output',\n",
       "  'call_id': 'call_iQfbtH8KavCRy736tXaEGbQX',\n",
       "  'output': '35.4'}]"
      ]
     },
     "execution_count": 50,
     "metadata": {},
     "output_type": "execute_result"
    }
   ],
   "source": [
    "input_messages"
   ]
  },
  {
   "cell_type": "code",
   "execution_count": 51,
   "id": "4a23ed4b",
   "metadata": {},
   "outputs": [
    {
     "name": "stdout",
     "output_type": "stream",
     "text": [
      "The current temperature in Dubai is approximately 35.4°C. Let me know if you need more details or a weather forecast!\n"
     ]
    }
   ],
   "source": [
    "response_2 = client.responses.create(\n",
    "    model=\"gpt-4.1\",\n",
    "    input=input_messages,\n",
    "    tools=tools,\n",
    ")\n",
    "print(response_2.output_text)"
   ]
  },
  {
   "cell_type": "markdown",
   "id": "d30de53b",
   "metadata": {},
   "source": [
    "# Resources:\n",
    "\n",
    "- [OpenAIs Function Calling Guide](https://platform.openai.com/docs/guides/function-calling?api-mode=responses)"
   ]
  },
  {
   "cell_type": "markdown",
   "id": "26bc4aab",
   "metadata": {},
   "source": [
    "## Your Turn: Build Your Own Custom Tool\n",
    "\n",
    "Now that you've seen how to define a Python function as a tool and connect it to an LLM, it's time to get creative!\n",
    "\n",
    "### Pick your challenge\n",
    "**1. Wikipedia Article Summarizer**\n",
    "- Fetch a wikipedia article you are interested in learning about and have an LLM summarize it\n",
    "- [Wikipedia API](https://pypi.org/project/Wikipedia-API/)\n",
    "\n",
    "**2. News Summarizer**\n",
    "- Fetch latest headlines or news by topic.\n",
    "- [NewsAPI](https://newsapi.org)\n",
    "- [CurrentsAPI](https://currentsapi.services/en/docs/)\n",
    "\n",
    "**3. Stock Market Data**\n",
    "- Get real-time stock prices or company info\n",
    "- [Alpha Vantage](https://www.alphavantage.co/)\n",
    "- [yfinance](https://pypi.org/project/yfinance/)\n",
    "\n",
    "**4. Movie Info**\n",
    "- Get movie ratings, cast, plot summaries.\n",
    "- [IMDb](https://imdbapi.dev/)\n",
    "- [OMDb API](https://www.omdbapi.com/)\n",
    "\n",
    "**5. NASA API**\n",
    "- Astronomy facts, country data, etc.\n",
    "- [NASA APIs](https://api.nasa.gov/)\n",
    "\n",
    "**6. Your own custom tool**\n",
    "- Think of a real-world use case where an LLM could benefit from calling a custom function.\n",
    "\n",
    "\n",
    "---\n",
    "\n",
    "**Tips**:\n",
    "- Use clear function names and docstrings.\n",
    "- Handle input arguments and outputs carefully.\n",
    "- Print the LLM's tool call and your function's output in a readable way.\n",
    "\n",
    "Be sure to place your submissions in `AI-Engineering-Intermediate/Part1/community-contributions`\n",
    "\n",
    "I'm super excited to see what you come up with :D"
   ]
  }
 ],
 "metadata": {
  "kernelspec": {
   "display_name": "ai_env",
   "language": "python",
   "name": "python3"
  },
  "language_info": {
   "codemirror_mode": {
    "name": "ipython",
    "version": 3
   },
   "file_extension": ".py",
   "mimetype": "text/x-python",
   "name": "python",
   "nbconvert_exporter": "python",
   "pygments_lexer": "ipython3",
   "version": "3.12.3"
  }
 },
 "nbformat": 4,
 "nbformat_minor": 5
}
