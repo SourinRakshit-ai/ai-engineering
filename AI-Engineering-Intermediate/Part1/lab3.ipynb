{
 "cells": [
  {
   "cell_type": "markdown",
   "id": "1a650a62",
   "metadata": {},
   "source": [
    "# Function Calling/Tool Use\n",
    "\n",
    "\n",
    "## Just a quick definition\n",
    "\n",
    "Function calling in the context of Large Language Models (LLMs) refers to the ability of the model to invoke external functions or tools during its response generation. Instead of only generating text, the LLM can recognize when a task requires external data or computation, call a predefined function with the appropriate arguments, and then use the function's output to continue its response.\n",
    "\n",
    "Think of having a super smart robot that you can only speak with. Pretty useless at doing anything aside from talking. Now imagine you have given that robot a hammer and some nails. It can now put up that wall painting that's been waiting forever to be hung :D\n",
    "\n",
    "Except, the way we as AI Engineers give AI tools is by defining python functions and describing that function in detail to the LLM so it knows what tools it has access to, what each tool can do, what are its inputs and expected outputs.\n",
    "\n",
    "Just remember, a *tool* in its simplest form is just a *python function* that you have defined. It can be as simple as a calculator function or something like being able to call external APIs."
   ]
  },
  {
   "cell_type": "code",
   "execution_count": 4,
   "id": "16015c67",
   "metadata": {},
   "outputs": [
    {
     "ename": "Exception",
     "evalue": "API key is missing",
     "output_type": "error",
     "traceback": [
      "\u001b[31m---------------------------------------------------------------------------\u001b[39m",
      "\u001b[31mException\u001b[39m                                 Traceback (most recent call last)",
      "\u001b[36mCell\u001b[39m\u001b[36m \u001b[39m\u001b[32mIn[4]\u001b[39m\u001b[32m, line 10\u001b[39m\n\u001b[32m      7\u001b[39m OPENAI_API_KEY = os.getenv(\u001b[33m\"\u001b[39m\u001b[33mOPENAI_API_KEY\u001b[39m\u001b[33m\"\u001b[39m)\n\u001b[32m      9\u001b[39m \u001b[38;5;28;01mif\u001b[39;00m OPENAI_API_KEY \u001b[38;5;129;01mis\u001b[39;00m \u001b[38;5;28;01mNone\u001b[39;00m:\n\u001b[32m---> \u001b[39m\u001b[32m10\u001b[39m     \u001b[38;5;28;01mraise\u001b[39;00m \u001b[38;5;167;01mException\u001b[39;00m(\u001b[33m\"\u001b[39m\u001b[33mAPI key is missing\u001b[39m\u001b[33m\"\u001b[39m)\n",
      "\u001b[31mException\u001b[39m: API key is missing"
     ]
    }
   ],
   "source": [
    "import os\n",
    "from dotenv import load_dotenv\n",
    "from IPython.display import Markdown, display\n",
    "\n",
    "load_dotenv()\n",
    "\n",
    "OPENAI_API_KEY = os.getenv(\"OPENAI_API_KEY\")\n",
    "\n",
    "if OPENAI_API_KEY is None:\n",
    "    raise Exception(\"API key is missing\")"
   ]
  },
  {
   "cell_type": "code",
   "execution_count": 1,
   "id": "3997d169",
   "metadata": {},
   "outputs": [],
   "source": [
    "import requests\n",
    "\n",
    "def get_weather(latitude, longitude):\n",
    "    response = requests.get(f\"https://api.open-meteo.com/v1/forecast?latitude={latitude}&longitude={longitude}&current=temperature_2m,wind_speed_10m&hourly=temperature_2m,relative_humidity_2m,wind_speed_10m\")\n",
    "    data = response.json()\n",
    "    return data['current']['temperature_2m']"
   ]
  },
  {
   "cell_type": "code",
   "execution_count": 2,
   "id": "dfddda44",
   "metadata": {},
   "outputs": [
    {
     "data": {
      "text/plain": [
       "39.2"
      ]
     },
     "execution_count": 2,
     "metadata": {},
     "output_type": "execute_result"
    }
   ],
   "source": [
    "get_weather(24.343627, 54.497922)"
   ]
  },
  {
   "cell_type": "code",
   "execution_count": 3,
   "id": "23326ac5",
   "metadata": {},
   "outputs": [
    {
     "ename": "OpenAIError",
     "evalue": "The api_key client option must be set either by passing api_key to the client or by setting the OPENAI_API_KEY environment variable",
     "output_type": "error",
     "traceback": [
      "\u001b[31m---------------------------------------------------------------------------\u001b[39m",
      "\u001b[31mOpenAIError\u001b[39m                               Traceback (most recent call last)",
      "\u001b[36mCell\u001b[39m\u001b[36m \u001b[39m\u001b[32mIn[3]\u001b[39m\u001b[32m, line 3\u001b[39m\n\u001b[32m      1\u001b[39m \u001b[38;5;28;01mimport\u001b[39;00m\u001b[38;5;250m \u001b[39m\u001b[34;01mopenai\u001b[39;00m\n\u001b[32m----> \u001b[39m\u001b[32m3\u001b[39m client = \u001b[43mopenai\u001b[49m\u001b[43m.\u001b[49m\u001b[43mClient\u001b[49m\u001b[43m(\u001b[49m\u001b[43m)\u001b[49m\n\u001b[32m      5\u001b[39m response = client.responses.create(\n\u001b[32m      6\u001b[39m     model=\u001b[33m\"\u001b[39m\u001b[33mgpt-4o-mini\u001b[39m\u001b[33m\"\u001b[39m,\n\u001b[32m      7\u001b[39m     \u001b[38;5;28minput\u001b[39m=[\n\u001b[32m   (...)\u001b[39m\u001b[32m     10\u001b[39m     ]\n\u001b[32m     11\u001b[39m )\n\u001b[32m     13\u001b[39m \u001b[38;5;28mprint\u001b[39m(response.output_text)\n",
      "\u001b[36mFile \u001b[39m\u001b[32m~/projects/ai-engineering/ai_env/lib/python3.12/site-packages/openai/_client.py:130\u001b[39m, in \u001b[36mOpenAI.__init__\u001b[39m\u001b[34m(self, api_key, organization, project, webhook_secret, base_url, websocket_base_url, timeout, max_retries, default_headers, default_query, http_client, _strict_response_validation)\u001b[39m\n\u001b[32m    128\u001b[39m     api_key = os.environ.get(\u001b[33m\"\u001b[39m\u001b[33mOPENAI_API_KEY\u001b[39m\u001b[33m\"\u001b[39m)\n\u001b[32m    129\u001b[39m \u001b[38;5;28;01mif\u001b[39;00m api_key \u001b[38;5;129;01mis\u001b[39;00m \u001b[38;5;28;01mNone\u001b[39;00m:\n\u001b[32m--> \u001b[39m\u001b[32m130\u001b[39m     \u001b[38;5;28;01mraise\u001b[39;00m OpenAIError(\n\u001b[32m    131\u001b[39m         \u001b[33m\"\u001b[39m\u001b[33mThe api_key client option must be set either by passing api_key to the client or by setting the OPENAI_API_KEY environment variable\u001b[39m\u001b[33m\"\u001b[39m\n\u001b[32m    132\u001b[39m     )\n\u001b[32m    133\u001b[39m \u001b[38;5;28mself\u001b[39m.api_key = api_key\n\u001b[32m    135\u001b[39m \u001b[38;5;28;01mif\u001b[39;00m organization \u001b[38;5;129;01mis\u001b[39;00m \u001b[38;5;28;01mNone\u001b[39;00m:\n",
      "\u001b[31mOpenAIError\u001b[39m: The api_key client option must be set either by passing api_key to the client or by setting the OPENAI_API_KEY environment variable"
     ]
    }
   ],
   "source": [
    "import openai\n",
    "\n",
    "client = openai.Client()\n",
    "\n",
    "response = client.responses.create(\n",
    "    model=\"gpt-4o-mini\",\n",
    "    input=[\n",
    "        {\"role\": \"system\", \"content\": \"You are a helpful assistant.\"},\n",
    "        {\"role\": \"user\", \"content\": \"What is the weather like in Abu Dhabi today? Reply only with the temperature in Celsius.\"},\n",
    "    ]\n",
    ")\n",
    "\n",
    "print(response.output_text)"
   ]
  },
  {
   "cell_type": "markdown",
   "id": "c45ab349",
   "metadata": {},
   "source": [
    "Lets try giving our `get_weather` function as a tool to our AI.\n",
    "\n",
    "Step 1: Define the tool in a format OpenAI can understand"
   ]
  },
  {
   "cell_type": "code",
   "execution_count": 5,
   "id": "e9ead465",
   "metadata": {},
   "outputs": [],
   "source": [
    "tools = [{\n",
    "    \"type\": \"function\",\n",
    "    \"name\": \"get_weather\",\n",
    "    \"description\": \"Get current temperature for provided coordinates in celsius.\",\n",
    "    \"parameters\": {\n",
    "        \"type\": \"object\",\n",
    "        \"properties\": {\n",
    "            \"latitude\": {\"type\": \"number\"},\n",
    "            \"longitude\": {\"type\": \"number\"}\n",
    "        },\n",
    "        \"required\": [\"latitude\", \"longitude\"],\n",
    "        \"additionalProperties\": False\n",
    "    },\n",
    "    \"strict\": True\n",
    "}]"
   ]
  },
  {
   "cell_type": "markdown",
   "id": "98a9f2e8",
   "metadata": {},
   "source": [
    "Step 2: Pass the json over to the model"
   ]
  },
  {
   "cell_type": "code",
   "execution_count": 61,
   "id": "c1403cfb",
   "metadata": {},
   "outputs": [
    {
     "name": "stdout",
     "output_type": "stream",
     "text": [
      "Response(id='resp_6868d1ff4e14819ca48122d8650fb857057744257722bbf5', created_at=1751699967.0, error=None, incomplete_details=None, instructions=None, metadata={}, model='gpt-4o-mini-2024-07-18', object='response', output=[ResponseFunctionToolCall(arguments='{\"latitude\":24.4534,\"longitude\":54.3773}', call_id='call_k4CywhJ6VmrhOAAkxYYpwKnT', name='get_weather', type='function_call', id='fc_6868d1ffb0c4819cba00c77edaa118b9057744257722bbf5', status='completed')], parallel_tool_calls=True, temperature=1.0, tool_choice='auto', tools=[FunctionTool(name='get_weather', parameters={'type': 'object', 'properties': {'latitude': {'type': 'number'}, 'longitude': {'type': 'number'}}, 'required': ['latitude', 'longitude'], 'additionalProperties': False}, strict=True, type='function', description='Get current temperature for provided coordinates in celsius.')], top_p=1.0, background=False, max_output_tokens=None, previous_response_id=None, prompt=None, reasoning=Reasoning(effort=None, generate_summary=None, summary=None), service_tier='default', status='completed', text=ResponseTextConfig(format=ResponseFormatText(type='text')), truncation='disabled', usage=ResponseUsage(input_tokens=54, input_tokens_details=InputTokensDetails(cached_tokens=0), output_tokens=25, output_tokens_details=OutputTokensDetails(reasoning_tokens=0), total_tokens=79), user=None, max_tool_calls=None, store=True, top_logprobs=0)\n"
     ]
    }
   ],
   "source": [
    "from pprint import pprint\n",
    "\n",
    "input_messages = [{\"role\": \"user\", \"content\": \"What's the weather like in Abu Dhabi today?\"}]\n",
    "\n",
    "response = client.responses.create(\n",
    "    model=\"gpt-4o-mini\",\n",
    "    input=input_messages,\n",
    "    tools=tools,\n",
    ")\n",
    "\n",
    "pprint(response)"
   ]
  },
  {
   "cell_type": "code",
   "execution_count": 62,
   "id": "22212547",
   "metadata": {},
   "outputs": [
    {
     "name": "stdout",
     "output_type": "stream",
     "text": [
      "{'_request_id': 'req_c47065250427b1e87d0d53a62d376db2',\n",
      " 'background': False,\n",
      " 'created_at': 1751699967.0,\n",
      " 'error': None,\n",
      " 'id': 'resp_6868d1ff4e14819ca48122d8650fb857057744257722bbf5',\n",
      " 'incomplete_details': None,\n",
      " 'instructions': None,\n",
      " 'max_output_tokens': None,\n",
      " 'metadata': {},\n",
      " 'model': 'gpt-4o-mini-2024-07-18',\n",
      " 'object': 'response',\n",
      " 'output': [ResponseFunctionToolCall(arguments='{\"latitude\":24.4534,\"longitude\":54.3773}', call_id='call_k4CywhJ6VmrhOAAkxYYpwKnT', name='get_weather', type='function_call', id='fc_6868d1ffb0c4819cba00c77edaa118b9057744257722bbf5', status='completed')],\n",
      " 'parallel_tool_calls': True,\n",
      " 'previous_response_id': None,\n",
      " 'prompt': None,\n",
      " 'reasoning': Reasoning(effort=None, generate_summary=None, summary=None),\n",
      " 'service_tier': 'default',\n",
      " 'status': 'completed',\n",
      " 'temperature': 1.0,\n",
      " 'text': ResponseTextConfig(format=ResponseFormatText(type='text')),\n",
      " 'tool_choice': 'auto',\n",
      " 'tools': [FunctionTool(name='get_weather', parameters={'type': 'object', 'properties': {'latitude': {'type': 'number'}, 'longitude': {'type': 'number'}}, 'required': ['latitude', 'longitude'], 'additionalProperties': False}, strict=True, type='function', description='Get current temperature for provided coordinates in celsius.')],\n",
      " 'top_p': 1.0,\n",
      " 'truncation': 'disabled',\n",
      " 'usage': ResponseUsage(input_tokens=54, input_tokens_details=InputTokensDetails(cached_tokens=0), output_tokens=25, output_tokens_details=OutputTokensDetails(reasoning_tokens=0), total_tokens=79),\n",
      " 'user': None}\n"
     ]
    }
   ],
   "source": [
    "pprint(response.__dict__)"
   ]
  },
  {
   "cell_type": "code",
   "execution_count": 64,
   "id": "d476bcd4",
   "metadata": {},
   "outputs": [
    {
     "name": "stdout",
     "output_type": "stream",
     "text": [
      "{'arguments': '{\"latitude\":24.4534,\"longitude\":54.3773}',\n",
      " 'call_id': 'call_k4CywhJ6VmrhOAAkxYYpwKnT',\n",
      " 'id': 'fc_6868d1ffb0c4819cba00c77edaa118b9057744257722bbf5',\n",
      " 'name': 'get_weather',\n",
      " 'status': 'completed',\n",
      " 'type': 'function_call'}\n"
     ]
    }
   ],
   "source": [
    "pprint(response.output[0].__dict__)"
   ]
  },
  {
   "cell_type": "code",
   "execution_count": 56,
   "id": "5b5268da",
   "metadata": {},
   "outputs": [
    {
     "name": "stdout",
     "output_type": "stream",
     "text": [
      "Tool call:  ResponseFunctionToolCall(arguments='{\"latitude\":24.4534,\"longitude\":54.3773}', call_id='call_GLk42oykZqUqKCQwKwvrdnNw', name='get_weather', type='function_call', id='fc_6868d0f9b2c081a3b06651ab5a582db0054c76087e396dce', status='completed')\n",
      "Arguments:  {'latitude': 24.4534, 'longitude': 54.3773}\n"
     ]
    }
   ],
   "source": [
    "import json\n",
    "\n",
    "tool_call = response.output[0]\n",
    "args = json.loads(tool_call.arguments)\n",
    "\n",
    "print(\"Tool call: \", tool_call)\n",
    "print(\"Arguments: \", args)"
   ]
  },
  {
   "cell_type": "code",
   "execution_count": 47,
   "id": "6460eee2",
   "metadata": {},
   "outputs": [
    {
     "data": {
      "text/plain": [
       "'{\"latitude\":24.4539,\"longitude\":54.3773}'"
      ]
     },
     "execution_count": 47,
     "metadata": {},
     "output_type": "execute_result"
    }
   ],
   "source": [
    "tool_call.arguments"
   ]
  },
  {
   "cell_type": "markdown",
   "id": "df9ff324",
   "metadata": {},
   "source": [
    "We now need to pass on the arguments received by the model to our python function or tool"
   ]
  },
  {
   "cell_type": "code",
   "execution_count": 50,
   "id": "33adbf82",
   "metadata": {},
   "outputs": [
    {
     "data": {
      "text/plain": [
       "35.0"
      ]
     },
     "execution_count": 50,
     "metadata": {},
     "output_type": "execute_result"
    }
   ],
   "source": [
    "result = get_weather(args[\"latitude\"], args[\"longitude\"])\n",
    "result"
   ]
  },
  {
   "cell_type": "code",
   "execution_count": 54,
   "id": "93c04033",
   "metadata": {},
   "outputs": [
    {
     "name": "stdout",
     "output_type": "stream",
     "text": [
      "[{'content': \"What's the weather like in Abu Dhabi today?\", 'role': 'user'},\n",
      " ResponseFunctionToolCall(arguments='{\"latitude\":24.4539,\"longitude\":54.3773}', call_id='call_D6Iyt1bMpVEJGxT4kQsEK3JA', name='get_weather', type='function_call', id='fc_6868cdc4d894819dbf9986307dfc0c7f0055801f3f828888', status='completed'),\n",
      " {'call_id': 'call_D6Iyt1bMpVEJGxT4kQsEK3JA',\n",
      "  'output': '35.0',\n",
      "  'type': 'function_call_output'}]\n"
     ]
    }
   ],
   "source": [
    "input_messages.append(tool_call)  # append model's function call message\n",
    "input_messages.append({                               # append result message\n",
    "    \"type\": \"function_call_output\",\n",
    "    \"call_id\": tool_call.call_id,\n",
    "    \"output\": str(result)\n",
    "})\n",
    "\n",
    "pprint(input_messages)"
   ]
  },
  {
   "cell_type": "code",
   "execution_count": 57,
   "id": "4a23ed4b",
   "metadata": {},
   "outputs": [
    {
     "name": "stdout",
     "output_type": "stream",
     "text": [
      "('The current temperature in Abu Dhabi today is approximately 35°C. If you '\n",
      " 'need more detailed weather information, let me know!')\n"
     ]
    }
   ],
   "source": [
    "response_2 = client.responses.create(\n",
    "    model=\"gpt-4.1\",\n",
    "    input=input_messages,\n",
    "    tools=tools,\n",
    ")\n",
    "pprint(response_2.output_text)"
   ]
  },
  {
   "cell_type": "markdown",
   "id": "d30de53b",
   "metadata": {},
   "source": [
    "# Resources:\n",
    "\n",
    "- [OpenAIs Function Calling Guide](https://platform.openai.com/docs/guides/function-calling?api-mode=responses)"
   ]
  },
  {
   "cell_type": "markdown",
   "id": "26bc4aab",
   "metadata": {},
   "source": [
    "## Your Turn: Build Your Own Custom Tool\n",
    "\n",
    "Now that you've seen how to define a Python function as a tool and connect it to an LLM, it's time to get creative!\n",
    "\n",
    "### Instructions\n",
    "- Think of a real-world use case where an LLM could benefit from calling a custom function.\n",
    "- Examples: currency conversion, fetching stock prices, summarizing text, generating random jokes, or anything you find interesting.\n",
    "- Define your function in Python.\n",
    "- Write a tool definition (JSON schema) for your function.\n",
    "- Pass your tool to the LLM and test it with a relevant prompt.\n",
    "- Print and inspect the results.\n",
    "\n",
    "---\n",
    "\n",
    "Try to:\n",
    "- Use clear function names and docstrings.\n",
    "- Handle input arguments and outputs carefully.\n",
    "- Print the LLM's tool call and your function's output in a readable way.\n",
    "\n",
    "Be sure to place your submissions in `AI-Engineering-Intermediate/Part1/community-contributions`\n",
    "\n",
    "I'm super excited to see what you come up with :D"
   ]
  }
 ],
 "metadata": {
  "kernelspec": {
   "display_name": "ai_env",
   "language": "python",
   "name": "python3"
  },
  "language_info": {
   "codemirror_mode": {
    "name": "ipython",
    "version": 3
   },
   "file_extension": ".py",
   "mimetype": "text/x-python",
   "name": "python",
   "nbconvert_exporter": "python",
   "pygments_lexer": "ipython3",
   "version": "3.12.3"
  }
 },
 "nbformat": 4,
 "nbformat_minor": 5
}
