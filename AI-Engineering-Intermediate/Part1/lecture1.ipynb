{
 "cells": [
  {
   "cell_type": "markdown",
   "id": "96520fca",
   "metadata": {},
   "source": [
    "# Lecture x: Response API vs Chat Completions\n",
    "\n",
    "## Topics to cover:\n",
    "1. Why use Response API over Chat Completions\n",
    "2. Streaming Responses\n",
    "3. Prompt Engineering\n",
    "4. Function Calling\n",
    "5. A Simple Agent\n",
    "\n",
    "It is a never-ending battle of being up-to-date with the latest changes in AI. There will always be changes to APIs and their documentation, new tools, deprecations of previous API endpoints and tools.\n",
    "\n",
    "Our job as AI Engineers is to make sure we are up-to-date with the relevant documentation of the tools we are using. Usually, providers will give ample notice before any major changes are introduced and old methods are depreciated.\n",
    "\n",
    "## Why the Responses API\n",
    "As mentioned in OpenAIs documentation for [Responses vs Chat Completions](https://platform.openai.com/docs/guides/responses-vs-chat-completions).\n",
    "\n",
    "- Better for agentic workflows\n",
    "- Stateful API\n",
    "- Model availability\n",
    "- Built-in tool use (Like OpenAIs own 'file search' and 'computer use')"
   ]
  },
  {
   "cell_type": "markdown",
   "id": "320a59a7",
   "metadata": {},
   "source": [
    "## What the basic Chat Completions looked like"
   ]
  },
  {
   "cell_type": "code",
   "execution_count": 1,
   "id": "c0fe3137",
   "metadata": {},
   "outputs": [],
   "source": [
    "import os\n",
    "from dotenv import load_dotenv\n",
    "from IPython.display import Markdown, display\n",
    "\n",
    "load_dotenv()\n",
    "\n",
    "OPENAI_API_KEY = os.getenv(\"OPENAI_API_KEY\")\n",
    "\n",
    "if OPENAI_API_KEY is None:\n",
    "    raise Exception(\"API key is missing\")"
   ]
  },
  {
   "cell_type": "code",
   "execution_count": 2,
   "id": "a900906f",
   "metadata": {},
   "outputs": [
    {
     "name": "stdout",
     "output_type": "stream",
     "text": [
      "ChatCompletionMessage(content='Robert Downey Jr. is an American actor and producer, born on April 4, 1965. He is best known for his charismatic screen presence and versatility, as well as his notable comeback story after facing personal and legal challenges earlier in his career.\\n\\nDowney gained early acclaim for films such as *Less Than Zero* (1987) and his Academy Award-nominated role as Charlie Chaplin in *Chaplin* (1992). However, he struggled with substance abuse issues throughout the 1990s and early 2000s.\\n\\nHe made a highly successful return to Hollywood in the late 2000s, most famously portraying Tony Stark/Iron Man in the Marvel Cinematic Universe, starting with *Iron Man* (2008). This role made him a global superstar and one of the highest-paid actors in the world. Downey Jr. has also starred in films like *Sherlock Holmes* (2009), for which he won a Golden Globe Award, and its sequel, as well as numerous other movies.\\n\\nIn addition to acting, he has worked as a producer and singer. Robert Downey Jr. is celebrated for his quick wit, depth in performance, and his inspiring journey of redemption in both his personal and professional life.', refusal=None, role='assistant', annotations=[], audio=None, function_call=None, tool_calls=None)\n"
     ]
    }
   ],
   "source": [
    "from openai import OpenAI\n",
    "client = OpenAI()\n",
    "\n",
    "completion = client.chat.completions.create(\n",
    "  model=\"gpt-4.1\",\n",
    "  messages=[\n",
    "    {\"role\": \"developer\", \"content\": \"You are a helpful assistant.\"},\n",
    "    {\"role\": \"user\", \"content\": \"Who is Robert Downey Jr.?\"}\n",
    "  ]\n",
    ")\n",
    "\n",
    "print(completion.choices[0].message)\n"
   ]
  },
  {
   "cell_type": "code",
   "execution_count": 3,
   "id": "f07f83c8",
   "metadata": {},
   "outputs": [
    {
     "name": "stdout",
     "output_type": "stream",
     "text": [
      "ChatCompletionMessage(content='Could you please specify which person or actor you are referring to? That way, I can provide you with the most accurate information about their most popular movie.', refusal=None, role='assistant', annotations=[], audio=None, function_call=None, tool_calls=None)\n"
     ]
    }
   ],
   "source": [
    "completion = client.chat.completions.create(\n",
    "  model=\"gpt-4.1\",\n",
    "  messages=[\n",
    "    {\"role\": \"developer\", \"content\": \"You are a helpful assistant.\"},\n",
    "    {\"role\": \"user\", \"content\": \"What is his most popular movie?\"}\n",
    "  ]\n",
    ")\n",
    "\n",
    "print(completion.choices[0].message)"
   ]
  },
  {
   "cell_type": "markdown",
   "id": "f5fabd86",
   "metadata": {},
   "source": [
    "## Responses API"
   ]
  },
  {
   "cell_type": "code",
   "execution_count": null,
   "id": "ae61e287",
   "metadata": {},
   "outputs": [],
   "source": [
    "\n",
    "response = client.responses.create(\n",
    "  model=\"gpt-4.1\",\n",
    "  input=[\n",
    "      {\n",
    "          \"role\": \"user\",\n",
    "          \"content\": \"Who is Robert Downey Jr.?\"\n",
    "      }\n",
    "  ]\n",
    ")\n",
    "\n",
    "print(response)\n"
   ]
  },
  {
   "cell_type": "code",
   "execution_count": null,
   "id": "a8df906a",
   "metadata": {},
   "outputs": [],
   "source": [
    "\n",
    "response = client.responses.create(\n",
    "  model=\"gpt-4.1\",\n",
    "  previous_response_id=response.id,\n",
    "  input=[\n",
    "      {\n",
    "          \"role\": \"user\",\n",
    "          \"content\": \"What is his most popular movie?\"\n",
    "      }\n",
    "  ]\n",
    ")\n",
    "\n",
    "print(response.output_text)\n"
   ]
  },
  {
   "cell_type": "markdown",
   "id": "85734e67",
   "metadata": {},
   "source": [
    "## Resources\n",
    "- [OpenAI Responses API Documentation](https://platform.openai.com/docs/guides/responses-vs-chat-completions)"
   ]
  }
 ],
 "metadata": {
  "kernelspec": {
   "display_name": "ai_env",
   "language": "python",
   "name": "python3"
  },
  "language_info": {
   "codemirror_mode": {
    "name": "ipython",
    "version": 3
   },
   "file_extension": ".py",
   "mimetype": "text/x-python",
   "name": "python",
   "nbconvert_exporter": "python",
   "pygments_lexer": "ipython3",
   "version": "3.12.3"
  }
 },
 "nbformat": 4,
 "nbformat_minor": 5
}
