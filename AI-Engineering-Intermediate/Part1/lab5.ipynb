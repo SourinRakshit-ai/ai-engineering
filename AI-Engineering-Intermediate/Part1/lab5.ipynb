{
 "cells": [
  {
   "cell_type": "markdown",
   "id": "53cb7ced",
   "metadata": {},
   "source": [
    "# An Introduction to Retrieval Augmented Generation (RAG)\n",
    "\n",
    "## Just a quick definition\n",
    "Retrieval Augmented Generation (RAG) is a technique that combines information retrieval with generative models, allowing the system to fetch relevant documents from a knowledge base and use them to generate more accurate and informed responses."
   ]
  },
  {
   "cell_type": "markdown",
   "id": "b6824e58",
   "metadata": {},
   "source": [
    "![OpenAI RAG Definition](../../images/openai-rag-image.png)\n",
    "\n",
    "*Image courtesy of [OpenAI](https://help.openai.com/en/articles/8868588-retrieval-augmented-generation-rag-and-semantic-search-for-gpts)*"
   ]
  },
  {
   "cell_type": "code",
   "execution_count": 1,
   "id": "9e5e371d",
   "metadata": {},
   "outputs": [],
   "source": [
    "import os\n",
    "import glob\n",
    "import gradio as gr\n",
    "from openai import OpenAI\n",
    "from dotenv import load_dotenv\n",
    "from IPython.display import Markdown, display\n",
    "\n",
    "load_dotenv()\n",
    "\n",
    "OPENAI_API_KEY = os.getenv(\"OPENAI_API_KEY\")\n",
    "\n",
    "if OPENAI_API_KEY is None:\n",
    "    raise Exception(\"API key is missing\")"
   ]
  },
  {
   "cell_type": "code",
   "execution_count": 2,
   "id": "2ad96f46",
   "metadata": {},
   "outputs": [],
   "source": [
    "MODEL = \"gpt-4o-mini\""
   ]
  },
  {
   "cell_type": "code",
   "execution_count": 3,
   "id": "4b0cc513",
   "metadata": {},
   "outputs": [],
   "source": [
    "context = {}\n",
    "\n",
    "employees = glob.glob(\"docs/*\")\n",
    "\n",
    "for employee in employees:\n",
    "    name = os.path.basename(employee).split()[0]\n",
    "    with open(employee, \"r\") as file:\n",
    "        content = file.read()\n",
    "    context[name] = content"
   ]
  },
  {
   "cell_type": "code",
   "execution_count": 4,
   "id": "bb3a5768",
   "metadata": {},
   "outputs": [
    {
     "data": {
      "text/plain": [
       "{'David': 'STERLING & ASSOCIATES LAW GROUP - ATTORNEY RECORD\\n===============================================\\n\\nAttorney ID: SAL-035\\nName: David Michael Thompson\\nPosition: Partner - Employment Law & Labor Relations\\nDepartment: Employment & Labor\\nBar Admission: New York (2008), New Jersey (2009), Connecticut (2010)\\nHire Date: June 1, 2008\\n\\nPROFESSIONAL BACKGROUND:\\n------------------------\\n\\nCurrent Position (2018 - Present):\\nPartner - Employment Law & Labor Relations\\n- Leads firm\\'s employment law and labor relations practice\\n- Represents management in complex employment disputes\\n- Handles class action employment litigation defense\\n- Manages team of 8 attorneys and 4 paralegals\\n- Annual billable target: 1,950 hours (averages 2,200 hours)\\n\\nPrevious Position (2013 - 2018):\\nSenior Associate - Employment Law\\n- Specialized in employment litigation and compliance\\n- Developed expertise in wage and hour disputes\\n- Built reputation for successful trial outcomes\\n- Led major discrimination and harassment defense cases\\n\\nPrevious Position (2008 - 2013):\\nAssociate - Employment Law\\n- Started in employment law group after law school\\n- Gained experience in all aspects of employment law\\n- Handled EEOC investigations and administrative proceedings\\n\\nPre-Law Experience:\\nHuman Resources Manager - Metropolitan Insurance Group (2004-2005)\\n- Managed HR operations for 500+ employee division\\n- Gained practical experience in employment issues\\n\\nEDUCATION:\\n----------\\n- Juris Doctor (J.D.), Fordham University School of Law (2008)\\n  - Fordham Law Review, Senior Editor\\n  - Labor and Employment Law Clinic\\n  - Dean\\'s List, Magna Cum Laude\\n- Master of Arts in Industrial Relations, Cornell University (2003)\\n  - School of Industrial and Labor Relations\\n  - Thesis: \"Union Avoidance Strategies in Modern Corporations\"\\n- Bachelor of Arts in Economics, Princeton University (2001)\\n  - Cum Laude, Economics Honor Society\\n\\nSPECIALIZATIONS:\\n----------------\\n- Employment Litigation Defense\\n- Wage and Hour Compliance and Litigation\\n- Discrimination and Harassment Defense\\n- Executive Compensation and Severance\\n- Labor Relations and Union Avoidance\\n- Workplace Policy Development\\n- Employment Aspects of M&A\\n- ERISA and Benefits Litigation\\n\\nNOTABLE CASES & MATTERS:\\n------------------------\\n- Successfully defended $85M class action wage and hour lawsuit (2023)\\n- Victory in landmark discrimination case: Martinez v. Global Financial Corp (2022)\\n- Negotiated favorable settlement in harassment class action (2021)\\n- Led union avoidance campaign at manufacturing facility (2021)\\n- Defended executive in high-profile wrongful termination case (2020)\\n\\nPROFESSIONAL ACHIEVEMENTS:\\n--------------------------\\n- Chambers USA \"Leading Individual\" - Employment (2020-2023)\\n- Best Lawyers \"Employment Law - Management\" (2019-2023)\\n- Super Lawyers \"Top 100 New York\" (2021-2023)\\n- Lawdragon \"500 Leading Lawyers in America\" (2022)\\n- New York Law Journal \"Distinguished Leader\" (2020)\\n\\nTRIAL & LITIGATION RECORD:\\n--------------------------\\n- Jury Trials: 15+ with 87% success rate for clients\\n- Arbitrations: 40+ proceedings with favorable outcomes\\n- EEOC Charges Handled: 200+ successful resolutions\\n- Class Actions Defended: 12 major cases (all favorable outcomes)\\n- Appeals: 8 appellate victories in state and federal courts\\n\\nBAR ASSOCIATIONS & MEMBERSHIPS:\\n-------------------------------\\n- New York State Bar Association (Labor & Employment Section Chair, 2021-2022)\\n- American Bar Association (Section of Labor & Employment Law)\\n- New York City Bar Association\\n- Society for Human Resource Management (SHRM) - Legal Advisory Board\\n- International Association of Defense Counsel\\n\\nPUBLICATIONS & SPEAKING:\\n------------------------\\n- \"Post-Pandemic Workplace: Legal Challenges and Solutions\" - Employment Law Quarterly (2023)\\n- \"Defending Wage and Hour Class Actions in the Modern Era\" - ABA Labor & Employment Law (2022)\\n- Co-author: \"Employment Law Compliance Handbook\" (5th Edition, 2021)\\n- Regular speaker at SHRM conferences and employment law seminars\\n- Faculty member: PLI Employment Law Institute\\n\\nCOMMUNITY INVOLVEMENT:\\n----------------------\\n- Board of Directors, Legal Aid Society Employment Law Unit\\n- Volunteer attorney, Veterans Legal Clinic (employment issues)\\n- Advisory Board, Fordham Law School Employment Law Program\\n- Pro Bono coordinator for workplace discrimination cases\\n\\nPERSONAL INFORMATION:\\n---------------------\\nOffice: 42nd Floor\\nDirect Phone: (212) 555-0142\\nEmail: dthompson@sterlinglaw.com\\nBar Numbers: NY-5839274, NJ-7462851, CT-4859372\\nMalpractice Insurance: $10M coverage\\n\\nBILLING INFORMATION:\\n--------------------\\nStandard Hourly Rate: $950\\nTrial/Hearing Rate: $1,100\\nClass Action Defense Rate: $1,050\\nTraining/Consulting Rate: $850\\nAnnual Billings (2023): $2.1 million\\nRealization Rate: 95%\\n\\nCLIENT BASE:\\n------------\\n- Fortune 500 corporations (HR and legal departments)\\n- Mid-market companies (200-5,000 employees)\\n- Private equity portfolio companies\\n- Healthcare organizations\\n- Financial services firms\\n- Technology and startup companies\\n\\nTRAINING & CERTIFICATIONS:\\n--------------------------\\n- Advanced Trial Advocacy - Harvard Law School (2019)\\n- Employment Law Update - Annual CLE (2008-2023)\\n- Workplace Investigation Certification - SHRM (2020)\\n- Mediation Training Certificate - CPR Institute (2018)\\n- Executive Compensation Compliance - Tax and Legal (2017)\\n\\nANNUAL REVIEWS:\\n---------------\\n2023: \"Outstanding partner performance with exceptional client development and case results.\"\\n2022: \"Successfully managed largest employment class action in firm history with favorable outcome.\"\\n2021: \"Strong leadership of employment practice group during challenging year for employers.\"\\n\\nPROFESSIONAL RECOGNITION:\\n--------------------------\\n- Martindale-Hubbell AV Preeminent Rating\\n- Benchmark Litigation \"Local Litigation Star\" (2020-2023)\\n- Who\\'s Who Legal \"Labour & Employment\" (2021-2023)\\n- Legal 500 \"Leading Individual\" - Employment\\n- Best of the Best - Human Resources Executive Magazine (2022)\\n\\nINDUSTRY INVOLVEMENT:\\n---------------------\\n- Advisory Board Member - HR Executive Council\\n- Regular contributor to Bloomberg Law Employment Brief\\n- Expert witness in employment law matters\\n- Consultant to management on employment law strategy\\n',\n",
       " 'Jennifer': 'STERLING & ASSOCIATES LAW GROUP - ATTORNEY RECORD\\n===============================================\\n\\nAttorney ID: SAL-043\\nName: Jennifer Marie Hayes\\nPosition: Associate - Real Estate & Construction Law\\nDepartment: Real Estate & Construction\\nBar Admission: New York (2020), New Jersey (2021)\\nHire Date: October 15, 2020\\n\\nPROFESSIONAL BACKGROUND:\\n------------------------\\n\\nCurrent Position (2022 - Present):\\nAssociate - Real Estate & Construction Law\\n- Handles complex commercial real estate transactions\\n- Specializes in construction contract negotiation and disputes\\n- Assists with zoning and land use matters\\n- Manages due diligence for real estate acquisitions\\n- Annual billable target: 2,000 hours (consistently meets targets)\\n\\nPrevious Position (2020 - 2022):\\nJunior Associate - Real Estate\\n- Started in real estate transactions group\\n- Gained experience in residential and commercial closings\\n- Assisted with lease negotiations and property management issues\\n- Developed expertise in title insurance and survey matters\\n\\nPre-Law Experience (2017 - 2020):\\nProject Coordinator - Meridian Construction Group\\n- Coordinated large-scale commercial construction projects\\n- Managed contractor relationships and permit processes\\n- Gained practical understanding of construction industry\\n\\nEDUCATION:\\n----------\\n- Juris Doctor (J.D.), Brooklyn Law School (2020)\\n  - Real Estate Law Society, President\\n  - Brooklyn Law Review, Staff Editor\\n  - Graduated Magna Cum Laude\\n  - Real Estate Law Clinic Participant\\n- Master of Urban Planning (MUP), Hunter College (2017)\\n  - Specialization in Land Use and Zoning\\n  - Graduate Research Assistant\\n- Bachelor of Science in Civil Engineering, Cooper Union (2015)\\n  - Dean\\'s List, Engineering Honor Society\\n  - Senior Design Project: Sustainable Urban Development\\n\\nTECHNICAL EXPERTISE:\\n--------------------\\n- Civil Engineering and Construction Methods\\n- Urban Planning and Zoning Regulations\\n- Environmental Impact Assessment\\n- Project Management and Scheduling\\n- CAD Software and Blueprint Reading\\n- Construction Cost Estimation\\n- Building Codes and Safety Regulations\\n\\nSPECIALIZATIONS:\\n----------------\\n- Commercial Real Estate Transactions\\n- Construction Contract Negotiation\\n- Zoning and Land Use Applications\\n- Construction Defect Litigation\\n- Environmental Due Diligence\\n- Real Estate Development Projects\\n- Landlord-Tenant Disputes\\n- Condominium and Cooperative Law\\n\\nNOTABLE MATTERS:\\n----------------\\n- Represented developer in $150M mixed-use project (2023)\\n- Negotiated construction contracts for $85M office building (2023)\\n- Successfully resolved construction defect claim saving client $12M (2022)\\n- Handled zoning variance application for major retail development (2022)\\n- Assisted in due diligence for $200M real estate portfolio acquisition (2021)\\n\\nPROFESSIONAL DEVELOPMENT:\\n--------------------------\\n- \"Rising Star\" - Super Lawyers New York (2023)\\n- \"Best Lawyers: Ones to Watch\" - Real Estate Law (2023)\\n- New York State Bar Association \"Outstanding Young Lawyer\" Nominee (2022)\\n- Brooklyn Law School \"Alumni Achievement Award\" (2021)\\n\\nTRANSACTION VOLUME:\\n-------------------\\n- Real Estate Transactions Closed: 85+ (total value $1.2B)\\n- Construction Contracts Negotiated: 40+ projects\\n- Zoning Applications: 15 successful approvals\\n- Lease Agreements: 120+ commercial and residential\\n- Due Diligence Projects: 25 major transactions\\n\\nBAR ASSOCIATIONS & MEMBERSHIPS:\\n-------------------------------\\n- New York State Bar Association (Real Estate Law Section)\\n- New York City Bar Association\\n- Real Estate Board of New York (Associate Member)\\n- American College of Real Estate Lawyers (Candidate Member)\\n- Women\\'s Bar Association of the State of New York\\n\\nPUBLICATIONS & SPEAKING:\\n------------------------\\n- \"Construction Law in Post-COVID Commercial Development\" - Real Estate Law Journal (2023)\\n- \"Zoning Challenges in Urban Infill Development\" - Brooklyn Law Review (2022)\\n- \"Environmental Due Diligence Best Practices\" - New York Law Journal (2021)\\n- Speaker at NY Real Estate Bar Association annual conference\\n- Panelist on construction law topics at industry events\\n\\nCOMMUNITY INVOLVEMENT:\\n----------------------\\n- Volunteer attorney, Legal Aid Society Housing Unit\\n- Board Member, Habitat for Humanity NYC (Legal Advisory)\\n- Mentor, Brooklyn Law School Real Estate Law Society\\n- Pro Bono housing law services (40+ hours annually)\\n\\nPERSONAL INFORMATION:\\n---------------------\\nOffice: 35th Floor\\nDirect Phone: (212) 555-0135\\nEmail: jhayes@sterlinglaw.com\\nBar Numbers: NY-8475962, NJ-9472851\\nMalpractice Insurance: $3M coverage\\n\\nBILLING INFORMATION:\\n--------------------\\nStandard Hourly Rate: $475\\nConstruction Law Rate: $525\\nComplex Transaction Rate: $500\\nDue Diligence Rate: $450\\nAnnual Billings (2023): $950,000\\nRealization Rate: 94%\\n\\nCLIENT PORTFOLIO:\\n-----------------\\n- Real estate developers and investors\\n- Construction companies and general contractors\\n- Commercial property owners and managers\\n- Institutional real estate funds\\n- Municipal agencies and authorities\\n- Individual high-net-worth real estate investors\\n\\nCONTINUING EDUCATION:\\n---------------------\\n- Advanced Real Estate Finance Seminar (2023)\\n- Construction Law Update - ABA Section (2023)\\n- Environmental Law in Real Estate Transactions (2022)\\n- Zoning and Land Use Law Certificate Program (2021)\\n- Title Insurance and Survey Issues Workshop (2021)\\n\\nCERTIFICATIONS & LICENSES:\\n---------------------------\\n- New York Real Estate Salesperson License (2021)\\n- LEED Green Associate Certification (2018)\\n- Project Management Professional (PMP) Candidate\\n- Notary Public - New York State (2020)\\n\\nANNUAL REVIEWS:\\n---------------\\n2023: \"Strong performance handling increasingly complex matters. Shows excellent judgment and client service.\"\\n2022: \"Successful transition to mid-level associate responsibilities. Clients consistently praise her work.\"\\n2021: \"Outstanding first year performance. Quickly established herself as valuable team member.\"\\n\\nLANGUAGES:\\n----------\\n- English (Native)\\n- Spanish (Conversational)\\n- Italian (Basic)\\n\\nPROFESSIONAL RECOGNITION:\\n--------------------------\\n- Client Choice Award - International Law Office (2023)\\n- \"Future Leader\" - Commercial Observer Real Estate Awards (2022)\\n- Excellence in Client Service - Sterling & Associates (2021, 2022)\\n- Brooklyn Law School \"Outstanding Graduate\" (2020)\\n\\nINDUSTRY INVOLVEMENT:\\n---------------------\\n- Member, Real Estate Finance Association\\n- Associate Member, Urban Land Institute (ULI)\\n- Regular attendee, International Council of Shopping Centers events\\n- Volunteer, New York Building Congress educational programs\\n\\nTECHNICAL SKILLS:\\n-----------------\\n- Legal research platforms (Westlaw, LexisNexis)\\n- Real estate software (RealtiGIS, PropertyShark)\\n- Document review platforms\\n- Construction project management software\\n- Financial modeling for real estate projects\\n',\n",
       " 'Marcus': 'STERLING & ASSOCIATES LAW GROUP - ATTORNEY RECORD\\n===============================================\\n\\nAttorney ID: SAL-012\\nName: Marcus Antonio Rodriguez\\nPosition: Senior Partner - Corporate Law & M&A\\nDepartment: Corporate & Securities\\nBar Admission: New York (2001), Delaware (2002), California (2005)\\nHire Date: August 3, 2001\\n\\nPROFESSIONAL BACKGROUND:\\n------------------------\\n\\nCurrent Position (2012 - Present):\\nSenior Partner - Corporate Law & M&A\\n- Leads the firm\\'s mergers and acquisitions practice group\\n- Handles complex corporate restructurings and joint ventures\\n- Manages team of 12 attorneys in corporate transactions\\n- Annual billable target: 2,000 hours (averages 2,300 hours)\\n- Generated $15.2M in revenue for firm (2023)\\n\\nPrevious Position (2008 - 2012):\\nPartner - Corporate Law\\n- Developed expertise in venture capital and private equity transactions\\n- Built strong relationships with investment banking community\\n- Led successful IPO representations for 8 companies\\n\\nPrevious Position (2001 - 2008):\\nAssociate to Senior Associate\\n- Started in corporate securities group\\n- Rapidly advanced through associate ranks\\n- Made partner in 7 years (firm record at the time)\\n\\nEDUCATION:\\n----------\\n- Juris Doctor (J.D.), Stanford Law School (2001)\\n  - Stanford Law Review, Executive Editor\\n  - Order of the Coif\\n  - Cum Laude\\n- Master of Business Administration (MBA), Wharton School (1997)\\n  - Finance Concentration\\n- Bachelor of Science in Economics, University of Chicago (1995)\\n  - Phi Beta Kappa\\n\\nSPECIALIZATIONS:\\n----------------\\n- Mergers & Acquisitions\\n- Private Equity and Venture Capital\\n- Securities Offerings (IPOs, Secondary Offerings)\\n- Corporate Governance\\n- Joint Ventures and Strategic Alliances\\n- Cross-Border Transactions\\n- SPAC Transactions\\n\\nMAJOR TRANSACTIONS (2023):\\n--------------------------\\n- Advised TechVision Corp on $4.2B acquisition by Global Systems Inc.\\n- Represented Quantum Ventures in $850M fund formation\\n- Led IPO of BioPharma Solutions ($1.1B offering)\\n- Structured joint venture between European Energy and American Power\\n- Advised on SPAC merger creating $2.8B public company\\n\\nPROFESSIONAL ACHIEVEMENTS:\\n--------------------------\\n- Chambers USA \"Leading Individual\" - Corporate/M&A (2015-2023)\\n- IFLR1000 \"Highly Regarded\" - M&A and Corporate (2018-2023)\\n- Legal 500 \"Recommended Lawyer\" - Corporate and M&A\\n- Lawdragon \"500 Leading Dealmakers\" (2020-2023)\\n- Hispanic National Bar Association \"Attorney of the Year\" (2019)\\n\\nTRANSACTION VOLUME:\\n-------------------\\nCareer Total: Over $85 billion in transaction value\\n2023 Deals: $12.4 billion across 47 transactions\\nAverage Deal Size: $850 million\\nIPO Experience: 23 successful public offerings\\nPrivate Equity: $18 billion in PE transactions\\n\\nBAR ASSOCIATIONS & MEMBERSHIPS:\\n-------------------------------\\n- American Bar Association (Business Law Section)\\n- New York State Bar Association\\n- Association of the Bar of the City of New York\\n- Hispanic National Bar Association (Former Board Member)\\n- International Bar Association\\n\\nPUBLICATIONS & SPEAKING:\\n------------------------\\n- \"Private Equity Trends in Post-COVID M&A\" - Harvard Business Review (2023)\\n- \"SPAC Revolution: Legal and Strategic Considerations\" - Columbia Law Review (2022)\\n- Co-author: \"Modern M&A Practice\" (3rd Edition, West Academic, 2021)\\n- Regular speaker at M&A conferences and private equity summits\\n\\nLANGUAGES:\\n----------\\n- English (Native)\\n- Spanish (Fluent)\\n- Portuguese (Conversational)\\n\\nCOMMUNITY INVOLVEMENT:\\n----------------------\\n- Board Member, Latino Business Association of New York\\n- Advisory Board, Stanford Law School Center for Corporate Governance\\n- Mentor, Hispanic Bar Association Student Program\\n- Pro Bono: Small business legal clinic (50+ hours annually)\\n\\nPERSONAL INFORMATION:\\n---------------------\\nOffice: 45th Floor, Corner Office\\nDirect Phone: (212) 555-0125\\nEmail: mrodriguez@sterlinglaw.com\\nBar Numbers: NY-4729583, DE-1847295, CA-9472851\\nMalpractice Insurance: $25M coverage (given transaction values)\\n\\nBILLING INFORMATION:\\n--------------------\\nStandard Hourly Rate: $1,150\\nComplex Transaction Rate: $1,300\\nDue Diligence Rate: $1,000\\nAnnual Billings (2023): $2.6 million\\nRealization Rate: 98%\\n\\nCLIENT BASE:\\n------------\\n- Fortune 500 corporations (15 regular clients)\\n- Private equity funds ($500M+ AUM)\\n- Investment banks and financial institutions\\n- Emerging growth companies\\n- Family offices and high-net-worth individuals\\n\\nANNUAL REVIEWS:\\n---------------\\n2023: \"Outstanding year with record-breaking transaction volume and client development.\"\\n2022: \"Exceptional leadership of corporate group during challenging market conditions.\"\\n2021: \"Successful navigation of complex regulatory environment in M&A transactions.\"\\n\\nPROFESSIONAL DEVELOPMENT:\\n--------------------------\\n- Director\\'s Education Institute, Stanford Graduate School of Business (2023)\\n- Advanced M&A Institute, Wharton Executive Education (2020)\\n- International M&A Conference, London Business School (Annual attendee)\\n- Private Equity Masterclass, Harvard Business School (2019)\\n',\n",
       " 'Sarah': 'STERLING & ASSOCIATES LAW GROUP - ATTORNEY RECORD\\n===============================================\\n\\nAttorney ID: SAL-027\\nName: Sarah Michelle Chen\\nPosition: Senior Associate - Intellectual Property & Technology Law\\nDepartment: Intellectual Property & Technology\\nBar Admission: New York (2018), Patent Bar (USPTO, 2019)\\nHire Date: September 10, 2018\\n\\nPROFESSIONAL BACKGROUND:\\n------------------------\\n\\nCurrent Position (2022 - Present):\\nSenior Associate - IP & Technology Law\\n- Lead attorney for intellectual property portfolio management\\n- Handles patent prosecution, trademark disputes, and licensing agreements\\n- Specializes in technology transfer and software licensing\\n- Manages relationships with 25+ technology clients\\n- Annual billable target: 2,100 hours (consistently exceeds)\\n\\nPrevious Position (2018 - 2022):\\nAssociate - IP & Technology Law\\n- Started in patent prosecution and IP due diligence\\n- Developed expertise in DMCA compliance and privacy law\\n- Built practice in cryptocurrency and blockchain IP issues\\n- Rapidly promoted to senior associate level\\n\\nPre-Law Experience (2015 - 2018):\\nSoftware Engineer - Google\\n- Full-stack developer on machine learning platforms\\n- Led development of internal IP management tools\\n- Gained deep technical understanding of software systems\\n\\nEDUCATION:\\n----------\\n- Juris Doctor (J.D.), New York University School of Law (2018)\\n  - NYU Law Review, Staff Editor\\n  - Technology Law & Policy Clinic\\n  - Graduated Cum Laude\\n- Master of Science in Computer Science, MIT (2015)\\n  - Artificial Intelligence Specialization\\n  - Graduate Research Assistant\\n- Bachelor of Science in Electrical Engineering, UC Berkeley (2013)\\n  - Magna Cum Laude\\n  - IEEE Honor Society\\n\\nTECHNICAL EXPERTISE:\\n--------------------\\n- Software Development (Python, Java, C++, JavaScript)\\n- Machine Learning and AI Systems\\n- Blockchain and Cryptocurrency Technologies\\n- Cloud Computing and SaaS Platforms\\n- Cybersecurity and Data Privacy\\n- Patent Analysis and Prior Art Searching\\n- Technical Due Diligence\\n\\nSPECIALIZATIONS:\\n----------------\\n- Patent Prosecution and Portfolio Management\\n- Trademark Registration and Enforcement\\n- Software and Technology Licensing\\n- Open Source Compliance\\n- Data Privacy and GDPR Compliance\\n- Cryptocurrency and Blockchain Law\\n- AI and Machine Learning IP Issues\\n- Trade Secret Protection\\n\\nNOTABLE MATTERS:\\n----------------\\n- Led patent portfolio strategy for $2.8B acquisition (2023)\\n- Defended major tech client in $150M patent infringement case (2023)\\n- Negotiated $45M software licensing deal for Fortune 100 company (2022)\\n- Successfully invalidated competitor patents in PTAB proceedings (2022)\\n- Advised on GDPR compliance for multi-national e-commerce platform (2021)\\n\\nPROFESSIONAL ACHIEVEMENTS:\\n--------------------------\\n- \"Rising Star\" - Super Lawyers (2022, 2023)\\n- \"Best Lawyers: Ones to Watch\" - Technology Law (2023)\\n- \"40 Under 40\" - National Law Journal (2023)\\n- Patent Prosecution Excellence Award - USPTO (2022)\\n- Women in IP Law Leadership Award (2021)\\n\\nPATENT STATISTICS:\\n------------------\\n- Patent Applications Filed: 180+\\n- Patents Granted: 145+\\n- PTAB Proceedings: 12 (10 successful outcomes)\\n- Patent Families Managed: 45+ (various technology sectors)\\n- Average Prosecution Time: 18 months (industry average: 24 months)\\n\\nBAR ASSOCIATIONS & MEMBERSHIPS:\\n-------------------------------\\n- New York Intellectual Property Law Association (Board Member)\\n- American Intellectual Property Law Association\\n- International Trademark Association\\n- Women in IP Law\\n- Asian Pacific American Bar Association of New York\\n\\nPUBLICATIONS & SPEAKING:\\n------------------------\\n- \"AI and Patent Law: Navigating the New Frontier\" - Stanford Technology Law Review (2023)\\n- \"Blockchain IP Strategy for Enterprises\" - Berkeley Technology Law Journal (2022)\\n- \"Open Source Compliance in M&A Transactions\" - IP Law360 (2022)\\n- Regular speaker at IP conferences and technology law symposiums\\n- Guest lecturer at NYU Law School IP clinic\\n\\nLANGUAGES:\\n----------\\n- English (Native)\\n- Mandarin Chinese (Native)\\n- Korean (Conversational)\\n\\nCOMMUNITY INVOLVEMENT:\\n----------------------\\n- Volunteer Attorney, Lawyers for the Creative Arts\\n- Mentor, Girls Who Code (Legal and IP education)\\n- Board Member, Asian American Bar Association Scholarship Fund\\n- Pro Bono IP services for nonprofit organizations\\n\\nPERSONAL INFORMATION:\\n---------------------\\nOffice: 38th Floor\\nDirect Phone: (212) 555-0138\\nEmail: schen@sterlinglaw.com\\nBar Numbers: NY-7859432, USPTO-89472\\nMalpractice Insurance: $5M coverage\\n\\nBILLING INFORMATION:\\n--------------------\\nStandard Hourly Rate: $650\\nPatent Prosecution Rate: $550\\nComplex IP Litigation Rate: $750\\nTechnical Consulting Rate: $800\\nAnnual Billings (2023): $1.4 million\\nRealization Rate: 96%\\n\\nCLIENT PORTFOLIO:\\n-----------------\\n- Technology startups and scale-ups\\n- Fortune 500 technology companies\\n- Pharmaceutical and biotech companies\\n- Financial services (fintech focus)\\n- Gaming and entertainment companies\\n- Open source software foundations\\n\\nCONTINUING EDUCATION:\\n---------------------\\n- Advanced Patent Prosecution Strategies (2023)\\n- AI and Machine Learning Legal Issues Seminar (2023)\\n- International IP Enforcement Workshop (2022)\\n- Blockchain and Cryptocurrency Law Certificate (2021)\\n- Privacy Law and GDPR Compliance Training (2021)\\n\\nANNUAL REVIEWS:\\n---------------\\n2023: \"Exceptional technical knowledge combined with strong legal skills. Client feedback consistently outstanding.\"\\n2022: \"Successful transition to senior associate level. Leading complex matters with confidence.\"\\n2021: \"Strong business development and excellent client relationships. Exceeds billable hour targets.\"\\n\\nAWARDS & RECOGNITION:\\n---------------------\\n- Client Choice Award - International Law Office (2023)\\n- \"Future Star\" - Benchmark Litigation (2022)\\n- Excellence in Pro Bono Service - Sterling & Associates (2021, 2022)\\n- Technical Innovation Award - NYIPLA (2020)\\n',\n",
       " 'Alexandra': 'STERLING & ASSOCIATES LAW GROUP - ATTORNEY RECORD\\n===============================================\\n\\nAttorney ID: SAL-001\\nName: Alexandra Catherine Sterling\\nPosition: Managing Partner & Senior Litigation Attorney\\nDepartment: Corporate Litigation\\nBar Admission: New York (1995), Pennsylvania (1996), Federal Courts (1997)\\nHire Date: January 15, 1995 (Founding Partner)\\n\\nPROFESSIONAL BACKGROUND:\\n------------------------\\n\\nCurrent Position (1995 - Present):\\nManaging Partner & Senior Litigation Attorney\\n- Founded Sterling & Associates Law Group in 1995\\n- Leads high-stakes corporate litigation and white-collar defense\\n- Manages firm operations and strategic direction\\n- Oversees 45+ attorneys and 80+ support staff\\n- Annual billable target: 1,800 hours (consistently exceeds 2,100 hours)\\n\\nEDUCATION:\\n----------\\n- Juris Doctor (J.D.), Harvard Law School (1994)\\n  - Harvard Law Review, Senior Editor\\n  - Magna Cum Laude\\n  - Order of the Coif\\n- Bachelor of Arts in Political Science, Yale University (1991)\\n  - Phi Beta Kappa\\n  - Summa Cum Laude\\n\\nSPECIALIZATIONS:\\n----------------\\n- Complex Commercial Litigation\\n- Securities Fraud Defense\\n- White-Collar Criminal Defense\\n- Mergers & Acquisitions Disputes\\n- Class Action Defense\\n- Corporate Governance\\n- Regulatory Compliance\\n\\nNOTABLE CASES:\\n--------------\\n- Meridian Industries v. TechGlobal Corp. - $2.8B acquisition dispute (2023)\\n- SEC v. Harrison Financial Group - Securities fraud defense, charges dismissed (2022)\\n- Blackstone Pharmaceuticals class action defense - Favorable settlement (2021)\\n- Commonwealth v. Reynolds Energy - Environmental compliance victory (2020)\\n- Patterson Industries insider trading defense - Not guilty verdict (2019)\\n\\nPROFESSIONAL ACHIEVEMENTS:\\n--------------------------\\n- Super Lawyers \"Top 100\" for 15 consecutive years (2009-2023)\\n- Best Lawyers \"Lawyer of the Year\" - Commercial Litigation (2020, 2018)\\n- Chambers USA \"Star Individual\" - Litigation (2015-2023)\\n- American Bar Association \"Outstanding Trial Lawyer\" Award (2017)\\n- New York Law Journal \"Top Women in Law\" (2019)\\n\\nBAR ASSOCIATIONS & MEMBERSHIPS:\\n-------------------------------\\n- New York State Bar Association (Board of Directors, 2018-2021)\\n- American Bar Association (Litigation Section, Former Chair)\\n- Federal Bar Association\\n- New York City Bar Association\\n- International Association of Defense Counsel\\n\\nPUBLICATIONS & SPEAKING:\\n------------------------\\n- \"Strategic Defense in Complex Securities Litigation\" - Harvard Law Review (2022)\\n- \"Corporate Governance in Crisis Management\" - Yale Law Journal (2021)\\n- Regular speaker at ABA conferences and CLE programs\\n- Guest lecturer at Harvard and Columbia Law Schools\\n\\nCOMMUNITY INVOLVEMENT:\\n----------------------\\n- Board Chair, New York Legal Aid Society (2019-Present)\\n- Trustee, Children\\'s Cancer Research Foundation (2015-Present)\\n- Pro Bono Coordinator, Immigration Rights Project\\n- Mentor, Women in Law Leadership Program\\n\\nPERSONAL INFORMATION:\\n---------------------\\nOffice: Corner Office, 47th Floor, Sterling Tower\\nDirect Phone: (212) 555-0101\\nEmail: asterling@sterlinglaw.com\\nBar Numbers: NY-2847519, PA-8294751\\nMalpractice Insurance: $10M coverage\\n\\nBILLING INFORMATION:\\n--------------------\\nStandard Hourly Rate: $1,250\\nPremium Client Rate: $1,400\\nExpert Witness Rate: $1,500\\nAnnual Billings (2023): $2.8 million\\nRealization Rate: 97%\\n\\nANNUAL REVIEWS:\\n---------------\\n2023: \"Exceptional leadership and outstanding client results. Firm revenue increased 18% under her guidance.\"\\n2022: \"Successfully navigated challenging market conditions while maintaining firm profitability.\"\\n2021: \"Outstanding trial victories and strategic firm growth. Expanded west coast presence.\"\\n\\nAWARDS & RECOGNITION:\\n---------------------\\n- Martindale-Hubbell AV Preeminent Rating\\n- Chambers Global \"Leading Individual\" \\n- Legal 500 \"Hall of Fame\" Lawyer\\n- Who\\'s Who Legal \"Litigation Star\"\\n- BTI Client Service All-Star (2020-2023)\\n'}"
      ]
     },
     "execution_count": 4,
     "metadata": {},
     "output_type": "execute_result"
    }
   ],
   "source": [
    "context"
   ]
  },
  {
   "cell_type": "code",
   "execution_count": 5,
   "id": "0f746bdf",
   "metadata": {},
   "outputs": [],
   "source": [
    "# build a function which will insspect a tect prompt for names of employees\n",
    "def get_context(prompt):\n",
    "    names = []\n",
    "    for name in context.keys():\n",
    "        if name.lower() in prompt.lower():\n",
    "            return context[name]"
   ]
  },
  {
   "cell_type": "code",
   "execution_count": 6,
   "id": "15686d09",
   "metadata": {},
   "outputs": [
    {
     "data": {
      "text/plain": [
       "'STERLING & ASSOCIATES LAW GROUP - ATTORNEY RECORD\\n===============================================\\n\\nAttorney ID: SAL-027\\nName: Sarah Michelle Chen\\nPosition: Senior Associate - Intellectual Property & Technology Law\\nDepartment: Intellectual Property & Technology\\nBar Admission: New York (2018), Patent Bar (USPTO, 2019)\\nHire Date: September 10, 2018\\n\\nPROFESSIONAL BACKGROUND:\\n------------------------\\n\\nCurrent Position (2022 - Present):\\nSenior Associate - IP & Technology Law\\n- Lead attorney for intellectual property portfolio management\\n- Handles patent prosecution, trademark disputes, and licensing agreements\\n- Specializes in technology transfer and software licensing\\n- Manages relationships with 25+ technology clients\\n- Annual billable target: 2,100 hours (consistently exceeds)\\n\\nPrevious Position (2018 - 2022):\\nAssociate - IP & Technology Law\\n- Started in patent prosecution and IP due diligence\\n- Developed expertise in DMCA compliance and privacy law\\n- Built practice in cryptocurrency and blockchain IP issues\\n- Rapidly promoted to senior associate level\\n\\nPre-Law Experience (2015 - 2018):\\nSoftware Engineer - Google\\n- Full-stack developer on machine learning platforms\\n- Led development of internal IP management tools\\n- Gained deep technical understanding of software systems\\n\\nEDUCATION:\\n----------\\n- Juris Doctor (J.D.), New York University School of Law (2018)\\n  - NYU Law Review, Staff Editor\\n  - Technology Law & Policy Clinic\\n  - Graduated Cum Laude\\n- Master of Science in Computer Science, MIT (2015)\\n  - Artificial Intelligence Specialization\\n  - Graduate Research Assistant\\n- Bachelor of Science in Electrical Engineering, UC Berkeley (2013)\\n  - Magna Cum Laude\\n  - IEEE Honor Society\\n\\nTECHNICAL EXPERTISE:\\n--------------------\\n- Software Development (Python, Java, C++, JavaScript)\\n- Machine Learning and AI Systems\\n- Blockchain and Cryptocurrency Technologies\\n- Cloud Computing and SaaS Platforms\\n- Cybersecurity and Data Privacy\\n- Patent Analysis and Prior Art Searching\\n- Technical Due Diligence\\n\\nSPECIALIZATIONS:\\n----------------\\n- Patent Prosecution and Portfolio Management\\n- Trademark Registration and Enforcement\\n- Software and Technology Licensing\\n- Open Source Compliance\\n- Data Privacy and GDPR Compliance\\n- Cryptocurrency and Blockchain Law\\n- AI and Machine Learning IP Issues\\n- Trade Secret Protection\\n\\nNOTABLE MATTERS:\\n----------------\\n- Led patent portfolio strategy for $2.8B acquisition (2023)\\n- Defended major tech client in $150M patent infringement case (2023)\\n- Negotiated $45M software licensing deal for Fortune 100 company (2022)\\n- Successfully invalidated competitor patents in PTAB proceedings (2022)\\n- Advised on GDPR compliance for multi-national e-commerce platform (2021)\\n\\nPROFESSIONAL ACHIEVEMENTS:\\n--------------------------\\n- \"Rising Star\" - Super Lawyers (2022, 2023)\\n- \"Best Lawyers: Ones to Watch\" - Technology Law (2023)\\n- \"40 Under 40\" - National Law Journal (2023)\\n- Patent Prosecution Excellence Award - USPTO (2022)\\n- Women in IP Law Leadership Award (2021)\\n\\nPATENT STATISTICS:\\n------------------\\n- Patent Applications Filed: 180+\\n- Patents Granted: 145+\\n- PTAB Proceedings: 12 (10 successful outcomes)\\n- Patent Families Managed: 45+ (various technology sectors)\\n- Average Prosecution Time: 18 months (industry average: 24 months)\\n\\nBAR ASSOCIATIONS & MEMBERSHIPS:\\n-------------------------------\\n- New York Intellectual Property Law Association (Board Member)\\n- American Intellectual Property Law Association\\n- International Trademark Association\\n- Women in IP Law\\n- Asian Pacific American Bar Association of New York\\n\\nPUBLICATIONS & SPEAKING:\\n------------------------\\n- \"AI and Patent Law: Navigating the New Frontier\" - Stanford Technology Law Review (2023)\\n- \"Blockchain IP Strategy for Enterprises\" - Berkeley Technology Law Journal (2022)\\n- \"Open Source Compliance in M&A Transactions\" - IP Law360 (2022)\\n- Regular speaker at IP conferences and technology law symposiums\\n- Guest lecturer at NYU Law School IP clinic\\n\\nLANGUAGES:\\n----------\\n- English (Native)\\n- Mandarin Chinese (Native)\\n- Korean (Conversational)\\n\\nCOMMUNITY INVOLVEMENT:\\n----------------------\\n- Volunteer Attorney, Lawyers for the Creative Arts\\n- Mentor, Girls Who Code (Legal and IP education)\\n- Board Member, Asian American Bar Association Scholarship Fund\\n- Pro Bono IP services for nonprofit organizations\\n\\nPERSONAL INFORMATION:\\n---------------------\\nOffice: 38th Floor\\nDirect Phone: (212) 555-0138\\nEmail: schen@sterlinglaw.com\\nBar Numbers: NY-7859432, USPTO-89472\\nMalpractice Insurance: $5M coverage\\n\\nBILLING INFORMATION:\\n--------------------\\nStandard Hourly Rate: $650\\nPatent Prosecution Rate: $550\\nComplex IP Litigation Rate: $750\\nTechnical Consulting Rate: $800\\nAnnual Billings (2023): $1.4 million\\nRealization Rate: 96%\\n\\nCLIENT PORTFOLIO:\\n-----------------\\n- Technology startups and scale-ups\\n- Fortune 500 technology companies\\n- Pharmaceutical and biotech companies\\n- Financial services (fintech focus)\\n- Gaming and entertainment companies\\n- Open source software foundations\\n\\nCONTINUING EDUCATION:\\n---------------------\\n- Advanced Patent Prosecution Strategies (2023)\\n- AI and Machine Learning Legal Issues Seminar (2023)\\n- International IP Enforcement Workshop (2022)\\n- Blockchain and Cryptocurrency Law Certificate (2021)\\n- Privacy Law and GDPR Compliance Training (2021)\\n\\nANNUAL REVIEWS:\\n---------------\\n2023: \"Exceptional technical knowledge combined with strong legal skills. Client feedback consistently outstanding.\"\\n2022: \"Successful transition to senior associate level. Leading complex matters with confidence.\"\\n2021: \"Strong business development and excellent client relationships. Exceeds billable hour targets.\"\\n\\nAWARDS & RECOGNITION:\\n---------------------\\n- Client Choice Award - International Law Office (2023)\\n- \"Future Star\" - Benchmark Litigation (2022)\\n- Excellence in Pro Bono Service - Sterling & Associates (2021, 2022)\\n- Technical Innovation Award - NYIPLA (2020)\\n'"
      ]
     },
     "execution_count": 6,
     "metadata": {},
     "output_type": "execute_result"
    }
   ],
   "source": [
    "prompt = \"I want to know about Sarahs role in the project.\"\n",
    "\n",
    "get_context(prompt)"
   ]
  },
  {
   "cell_type": "code",
   "execution_count": 7,
   "id": "1653aac9",
   "metadata": {},
   "outputs": [],
   "source": [
    "def add_context(prompt):\n",
    "    context = get_context(prompt)\n",
    "    if context:\n",
    "        prompt += \"\\n\\nThe following information is relevant:\\n\\n\" + context\n",
    "    return prompt"
   ]
  },
  {
   "cell_type": "code",
   "execution_count": 8,
   "id": "75f09563",
   "metadata": {},
   "outputs": [
    {
     "name": "stdout",
     "output_type": "stream",
     "text": [
      "I want to know about Sarahs role in the project.\n",
      "\n",
      "The following information is relevant:\n",
      "\n",
      "STERLING & ASSOCIATES LAW GROUP - ATTORNEY RECORD\n",
      "===============================================\n",
      "\n",
      "Attorney ID: SAL-027\n",
      "Name: Sarah Michelle Chen\n",
      "Position: Senior Associate - Intellectual Property & Technology Law\n",
      "Department: Intellectual Property & Technology\n",
      "Bar Admission: New York (2018), Patent Bar (USPTO, 2019)\n",
      "Hire Date: September 10, 2018\n",
      "\n",
      "PROFESSIONAL BACKGROUND:\n",
      "------------------------\n",
      "\n",
      "Current Position (2022 - Present):\n",
      "Senior Associate - IP & Technology Law\n",
      "- Lead attorney for intellectual property portfolio management\n",
      "- Handles patent prosecution, trademark disputes, and licensing agreements\n",
      "- Specializes in technology transfer and software licensing\n",
      "- Manages relationships with 25+ technology clients\n",
      "- Annual billable target: 2,100 hours (consistently exceeds)\n",
      "\n",
      "Previous Position (2018 - 2022):\n",
      "Associate - IP & Technology Law\n",
      "- Started in patent prosecution and IP due diligence\n",
      "- Developed expertise in DMCA compliance and privacy law\n",
      "- Built practice in cryptocurrency and blockchain IP issues\n",
      "- Rapidly promoted to senior associate level\n",
      "\n",
      "Pre-Law Experience (2015 - 2018):\n",
      "Software Engineer - Google\n",
      "- Full-stack developer on machine learning platforms\n",
      "- Led development of internal IP management tools\n",
      "- Gained deep technical understanding of software systems\n",
      "\n",
      "EDUCATION:\n",
      "----------\n",
      "- Juris Doctor (J.D.), New York University School of Law (2018)\n",
      "  - NYU Law Review, Staff Editor\n",
      "  - Technology Law & Policy Clinic\n",
      "  - Graduated Cum Laude\n",
      "- Master of Science in Computer Science, MIT (2015)\n",
      "  - Artificial Intelligence Specialization\n",
      "  - Graduate Research Assistant\n",
      "- Bachelor of Science in Electrical Engineering, UC Berkeley (2013)\n",
      "  - Magna Cum Laude\n",
      "  - IEEE Honor Society\n",
      "\n",
      "TECHNICAL EXPERTISE:\n",
      "--------------------\n",
      "- Software Development (Python, Java, C++, JavaScript)\n",
      "- Machine Learning and AI Systems\n",
      "- Blockchain and Cryptocurrency Technologies\n",
      "- Cloud Computing and SaaS Platforms\n",
      "- Cybersecurity and Data Privacy\n",
      "- Patent Analysis and Prior Art Searching\n",
      "- Technical Due Diligence\n",
      "\n",
      "SPECIALIZATIONS:\n",
      "----------------\n",
      "- Patent Prosecution and Portfolio Management\n",
      "- Trademark Registration and Enforcement\n",
      "- Software and Technology Licensing\n",
      "- Open Source Compliance\n",
      "- Data Privacy and GDPR Compliance\n",
      "- Cryptocurrency and Blockchain Law\n",
      "- AI and Machine Learning IP Issues\n",
      "- Trade Secret Protection\n",
      "\n",
      "NOTABLE MATTERS:\n",
      "----------------\n",
      "- Led patent portfolio strategy for $2.8B acquisition (2023)\n",
      "- Defended major tech client in $150M patent infringement case (2023)\n",
      "- Negotiated $45M software licensing deal for Fortune 100 company (2022)\n",
      "- Successfully invalidated competitor patents in PTAB proceedings (2022)\n",
      "- Advised on GDPR compliance for multi-national e-commerce platform (2021)\n",
      "\n",
      "PROFESSIONAL ACHIEVEMENTS:\n",
      "--------------------------\n",
      "- \"Rising Star\" - Super Lawyers (2022, 2023)\n",
      "- \"Best Lawyers: Ones to Watch\" - Technology Law (2023)\n",
      "- \"40 Under 40\" - National Law Journal (2023)\n",
      "- Patent Prosecution Excellence Award - USPTO (2022)\n",
      "- Women in IP Law Leadership Award (2021)\n",
      "\n",
      "PATENT STATISTICS:\n",
      "------------------\n",
      "- Patent Applications Filed: 180+\n",
      "- Patents Granted: 145+\n",
      "- PTAB Proceedings: 12 (10 successful outcomes)\n",
      "- Patent Families Managed: 45+ (various technology sectors)\n",
      "- Average Prosecution Time: 18 months (industry average: 24 months)\n",
      "\n",
      "BAR ASSOCIATIONS & MEMBERSHIPS:\n",
      "-------------------------------\n",
      "- New York Intellectual Property Law Association (Board Member)\n",
      "- American Intellectual Property Law Association\n",
      "- International Trademark Association\n",
      "- Women in IP Law\n",
      "- Asian Pacific American Bar Association of New York\n",
      "\n",
      "PUBLICATIONS & SPEAKING:\n",
      "------------------------\n",
      "- \"AI and Patent Law: Navigating the New Frontier\" - Stanford Technology Law Review (2023)\n",
      "- \"Blockchain IP Strategy for Enterprises\" - Berkeley Technology Law Journal (2022)\n",
      "- \"Open Source Compliance in M&A Transactions\" - IP Law360 (2022)\n",
      "- Regular speaker at IP conferences and technology law symposiums\n",
      "- Guest lecturer at NYU Law School IP clinic\n",
      "\n",
      "LANGUAGES:\n",
      "----------\n",
      "- English (Native)\n",
      "- Mandarin Chinese (Native)\n",
      "- Korean (Conversational)\n",
      "\n",
      "COMMUNITY INVOLVEMENT:\n",
      "----------------------\n",
      "- Volunteer Attorney, Lawyers for the Creative Arts\n",
      "- Mentor, Girls Who Code (Legal and IP education)\n",
      "- Board Member, Asian American Bar Association Scholarship Fund\n",
      "- Pro Bono IP services for nonprofit organizations\n",
      "\n",
      "PERSONAL INFORMATION:\n",
      "---------------------\n",
      "Office: 38th Floor\n",
      "Direct Phone: (212) 555-0138\n",
      "Email: schen@sterlinglaw.com\n",
      "Bar Numbers: NY-7859432, USPTO-89472\n",
      "Malpractice Insurance: $5M coverage\n",
      "\n",
      "BILLING INFORMATION:\n",
      "--------------------\n",
      "Standard Hourly Rate: $650\n",
      "Patent Prosecution Rate: $550\n",
      "Complex IP Litigation Rate: $750\n",
      "Technical Consulting Rate: $800\n",
      "Annual Billings (2023): $1.4 million\n",
      "Realization Rate: 96%\n",
      "\n",
      "CLIENT PORTFOLIO:\n",
      "-----------------\n",
      "- Technology startups and scale-ups\n",
      "- Fortune 500 technology companies\n",
      "- Pharmaceutical and biotech companies\n",
      "- Financial services (fintech focus)\n",
      "- Gaming and entertainment companies\n",
      "- Open source software foundations\n",
      "\n",
      "CONTINUING EDUCATION:\n",
      "---------------------\n",
      "- Advanced Patent Prosecution Strategies (2023)\n",
      "- AI and Machine Learning Legal Issues Seminar (2023)\n",
      "- International IP Enforcement Workshop (2022)\n",
      "- Blockchain and Cryptocurrency Law Certificate (2021)\n",
      "- Privacy Law and GDPR Compliance Training (2021)\n",
      "\n",
      "ANNUAL REVIEWS:\n",
      "---------------\n",
      "2023: \"Exceptional technical knowledge combined with strong legal skills. Client feedback consistently outstanding.\"\n",
      "2022: \"Successful transition to senior associate level. Leading complex matters with confidence.\"\n",
      "2021: \"Strong business development and excellent client relationships. Exceeds billable hour targets.\"\n",
      "\n",
      "AWARDS & RECOGNITION:\n",
      "---------------------\n",
      "- Client Choice Award - International Law Office (2023)\n",
      "- \"Future Star\" - Benchmark Litigation (2022)\n",
      "- Excellence in Pro Bono Service - Sterling & Associates (2021, 2022)\n",
      "- Technical Innovation Award - NYIPLA (2020)\n",
      "\n"
     ]
    }
   ],
   "source": [
    "print(add_context(prompt))"
   ]
  },
  {
   "cell_type": "code",
   "execution_count": null,
   "id": "478cd35f",
   "metadata": {},
   "outputs": [],
   "source": [
    "system_message = \"\"\"\n",
    "\n",
    "You are a helpful assistant. You will answer questions based only on the provided context. \n",
    "\n",
    "If you do not have information, do not make anything up.\n",
    "\n",
    "\"\"\""
   ]
  },
  {
   "cell_type": "code",
   "execution_count": 21,
   "id": "24f75601",
   "metadata": {},
   "outputs": [],
   "source": [
    "client = OpenAI()\n",
    "\n",
    "def chat(message, history):\n",
    "    messages = [{\"role\": \"system\", \"content\": system_message}] + history\n",
    "    message = add_context(message)\n",
    "    messages.append({\"role\": \"user\", \"content\": message})\n",
    "\n",
    "    stream = client.responses.create(\n",
    "        model=MODEL,\n",
    "        input=messages,\n",
    "        stream=True\n",
    "    )\n",
    "\n",
    "    for event in stream:\n",
    "        if event.type == \"response.output_text.delta\":\n",
    "            print(event.delta, end=\"\")"
   ]
  },
  {
   "cell_type": "code",
   "execution_count": 23,
   "id": "3f6704e5",
   "metadata": {},
   "outputs": [
    {
     "name": "stdout",
     "output_type": "stream",
     "text": [
      "Sarah Michelle Chen serves as a Senior Associate in the Intellectual Property & Technology Law department at Sterling & Associates Law Group. Her primary roles in the project include:\n",
      "\n",
      "- **Lead Attorney for Intellectual Property Portfolio Management**: Overseeing and managing clients' IP portfolios.\n",
      "- **Handling Patent Prosecution and Trademark Disputes**: Actively engaged in filing and defending patents and trademarks.\n",
      "- **Specializing in Technology Transfer and Software Licensing**: Focusing on the legal aspects of technology transfer and agreements related to software.\n",
      "- **Managing Client Relationships**: Overseeing relationships with over 25 technology clients, ensuring their legal needs are met.\n",
      "\n",
      "Her extensive background in both law and technology, alongside her notable achievements and technical expertise, positions her as a key player in navigating complex IP legal matters within the project."
     ]
    },
    {
     "data": {
      "text/plain": [
       "<IPython.core.display.Markdown object>"
      ]
     },
     "metadata": {},
     "output_type": "display_data"
    }
   ],
   "source": [
    "display(Markdown(chat(\"What is Sarah's role in the project?\", [])))"
   ]
  },
  {
   "cell_type": "code",
   "execution_count": 29,
   "id": "70acfeb0",
   "metadata": {},
   "outputs": [],
   "source": [
    "client = OpenAI()\n",
    "\n",
    "def chat(message, history):\n",
    "    # Convert Gradio history format to OpenAI messages format\n",
    "    messages = [{\"role\": \"system\", \"content\": system_message}]\n",
    "    \n",
    "    # Process history - Gradio passes it as list of [user_msg, assistant_msg] pairs\n",
    "    for user_msg, assistant_msg in history:\n",
    "        messages.append({\"role\": \"user\", \"content\": user_msg})\n",
    "        messages.append({\"role\": \"assistant\", \"content\": assistant_msg})\n",
    "    \n",
    "    # Add context to current message and append\n",
    "    message = add_context(message)\n",
    "    messages.append({\"role\": \"user\", \"content\": message})\n",
    "\n",
    "    stream = client.responses.create(\n",
    "        model=MODEL,\n",
    "        input=messages,\n",
    "        stream=True\n",
    "    )\n",
    "\n",
    "    accumulated_content = \"\"\n",
    "    \n",
    "    for event in stream:\n",
    "        if event.type == \"response.output_text.delta\":\n",
    "            accumulated_content += event.delta\n",
    "            yield accumulated_content"
   ]
  },
  {
   "cell_type": "code",
   "execution_count": 32,
   "id": "ab96ee15",
   "metadata": {},
   "outputs": [
    {
     "name": "stderr",
     "output_type": "stream",
     "text": [
      "/home/chucky/projects/ai-engineering/ai_env/lib/python3.12/site-packages/gradio/chat_interface.py:345: UserWarning: The 'tuples' format for chatbot messages is deprecated and will be removed in a future version of Gradio. Please set type='messages' instead, which uses openai-style 'role' and 'content' keys.\n",
      "  self.chatbot = Chatbot(\n"
     ]
    },
    {
     "name": "stdout",
     "output_type": "stream",
     "text": [
      "* Running on local URL:  http://127.0.0.1:7870\n",
      "* To create a public link, set `share=True` in `launch()`.\n"
     ]
    },
    {
     "data": {
      "text/html": [
       "<div><iframe src=\"http://127.0.0.1:7870/\" width=\"100%\" height=\"500\" allow=\"autoplay; camera; microphone; clipboard-read; clipboard-write;\" frameborder=\"0\" allowfullscreen></iframe></div>"
      ],
      "text/plain": [
       "<IPython.core.display.HTML object>"
      ]
     },
     "metadata": {},
     "output_type": "display_data"
    }
   ],
   "source": [
    "view = gr.ChatInterface(chat).launch()"
   ]
  },
  {
   "cell_type": "code",
   "execution_count": null,
   "id": "e308be8f",
   "metadata": {},
   "outputs": [],
   "source": []
  }
 ],
 "metadata": {
  "kernelspec": {
   "display_name": "ai_env",
   "language": "python",
   "name": "python3"
  },
  "language_info": {
   "codemirror_mode": {
    "name": "ipython",
    "version": 3
   },
   "file_extension": ".py",
   "mimetype": "text/x-python",
   "name": "python",
   "nbconvert_exporter": "python",
   "pygments_lexer": "ipython3",
   "version": "3.12.3"
  }
 },
 "nbformat": 4,
 "nbformat_minor": 5
}
