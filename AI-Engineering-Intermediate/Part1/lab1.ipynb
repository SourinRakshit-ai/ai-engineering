{
 "cells": [
  {
   "cell_type": "markdown",
   "id": "96520fca",
   "metadata": {},
   "source": [
    "# Response API vs Chat Completions\n",
    "\n",
    "It is a never-ending battle of being up-to-date with the latest changes in AI. There will always be changes to APIs and their documentation, new tools, deprecations of previous API endpoints and tools.\n",
    "\n",
    "Our job as AI Engineers is to make sure we are up-to-date with the relevant documentation of the tools we are using. Usually, providers will give ample notice before any major changes are introduced and old methods are depreciated.\n",
    "\n",
    "## Why the Responses API\n",
    "As mentioned in OpenAIs documentation for [Responses vs Chat Completions](https://platform.openai.com/docs/guides/responses-vs-chat-completions).\n",
    "\n",
    "- Better for agentic workflows\n",
    "- Stateful API\n",
    "- Model availability\n",
    "- Built-in tool use (Like OpenAIs own 'file search' and 'computer use')"
   ]
  },
  {
   "cell_type": "markdown",
   "id": "320a59a7",
   "metadata": {},
   "source": [
    "## What the basic Chat Completions looked like"
   ]
  },
  {
   "cell_type": "code",
   "execution_count": 1,
   "id": "c0fe3137",
   "metadata": {},
   "outputs": [],
   "source": [
    "import os\n",
    "from dotenv import load_dotenv\n",
    "from IPython.display import Markdown, display\n",
    "\n",
    "load_dotenv()\n",
    "\n",
    "OPENAI_API_KEY = os.getenv(\"OPENAI_API_KEY\")\n",
    "\n",
    "if OPENAI_API_KEY is None:\n",
    "    raise Exception(\"API key is missing\")"
   ]
  },
  {
   "cell_type": "code",
   "execution_count": 2,
   "id": "a900906f",
   "metadata": {},
   "outputs": [
    {
     "name": "stdout",
     "output_type": "stream",
     "text": [
      "ChatCompletionMessage(content='Robert Downey Jr. is an acclaimed American actor and producer, born on April 4, 1965, in New York City. He is widely recognized for his versatile performances in film and television, spanning several decades.\\n\\nDowney began acting as a child, appearing in films directed by his father, Robert Downey Sr. He gained prominence in the 1980s with roles in movies like **\"Less than Zero\"** and was nominated for an Academy Award for his portrayal of Charlie Chaplin in **\"Chaplin\"** (1992).\\n\\nDespite early career success, Downey struggled with substance abuse issues in the late 1990s and early 2000s, which affected his work. He later made a remarkable comeback, becoming one of Hollywood’s top actors.\\n\\nHe is best known globally for playing **Tony Stark/Iron Man** in the Marvel Cinematic Universe (MCU), beginning with **\"Iron Man\"** (2008) and continuing in numerous MCU films, including **\"The Avengers\"** series. His charismatic performance helped shape the MCU\\'s huge popularity.\\n\\nDowney’s other notable films include **\"Sherlock Holmes\"** (2009) and its sequel, **\"Tropic Thunder\"** (for which he received another Academy Award nomination), **\"Zodiac,\"** and **\"The Judge.\"**\\n\\nBoth critically and commercially successful, Robert Downey Jr. is regarded as one of the most talented and bankable actors in the industry.', refusal=None, role='assistant', annotations=[], audio=None, function_call=None, tool_calls=None)\n"
     ]
    }
   ],
   "source": [
    "from openai import OpenAI\n",
    "\n",
    "client = OpenAI()\n",
    "\n",
    "completion = client.chat.completions.create(\n",
    "  model=\"gpt-4.1\",\n",
    "  messages=[\n",
    "    {\"role\": \"system\", \"content\": \"You are a helpful assistant.\"},\n",
    "    {\"role\": \"user\", \"content\": \"Who is Robert Downey Jr.?\"}\n",
    "  ]\n",
    ")\n",
    "\n",
    "print(completion.choices[0].message)"
   ]
  },
  {
   "cell_type": "code",
   "execution_count": 3,
   "id": "f07f83c8",
   "metadata": {},
   "outputs": [
    {
     "name": "stdout",
     "output_type": "stream",
     "text": [
      "ChatCompletionMessage(content='Of course! Can you please specify which person or actor you are referring to? That way, I can provide you the most accurate information about their latest movie.', refusal=None, role='assistant', annotations=[], audio=None, function_call=None, tool_calls=None)\n"
     ]
    }
   ],
   "source": [
    "completion = client.chat.completions.create(\n",
    "  model=\"gpt-4.1\",\n",
    "  messages=[\n",
    "    {\"role\": \"system\", \"content\": \"You are a helpful assistant.\"},\n",
    "    {\"role\": \"user\", \"content\": \"What is his latest movie?\"}\n",
    "  ]\n",
    ")\n",
    "\n",
    "print(completion.choices[0].message)"
   ]
  },
  {
   "cell_type": "markdown",
   "id": "f5fabd86",
   "metadata": {},
   "source": [
    "## Responses API"
   ]
  },
  {
   "cell_type": "code",
   "execution_count": 10,
   "id": "89a3a9f3",
   "metadata": {},
   "outputs": [
    {
     "name": "stdout",
     "output_type": "stream",
     "text": [
      "Response(id='resp_68a034442e3c819e9ecf6b269dcc3d290620260fd646a63a', created_at=1755329604.0, error=None, incomplete_details=None, instructions=None, metadata={}, model='gpt-4.1-2025-04-14', object='response', output=[ResponseOutputMessage(id='msg_68a034451db0819eb0989c865b5a75940620260fd646a63a', content=[ResponseOutputText(annotations=[], text='**Robert Downey Jr.** is an acclaimed American actor and producer, widely recognized for his charismatic screen presence and versatile talent. Born on April 4, 1965, in New York City, Downey comes from a family with strong connections to the film industry—his father, Robert Downey Sr., was an influential filmmaker.\\n\\n### Career Highlights:\\n- **1980s & Early Career**: Downey began acting at a young age, earning attention in films like \"**Less Than Zero**\" (1987) and \"**Chaplin**\" (1992), the latter earning him an Academy Award nomination for his portrayal of Charlie Chaplin.\\n- **1990s Struggles**: His career was hampered by struggles with substance abuse, leading to legal and personal issues.\\n- **Comeback**: Downey staged a remarkable comeback in the mid-2000s, building a reputation for resilience and professionalism.\\n- **Iron Man & Marvel Cinematic Universe (MCU)**: Downey\\'s portrayal of **Tony Stark/Iron Man** beginning with \"**Iron Man**\" (2008) was pivotal in launching the MCU. He reprised the role in several successful Marvel films, including \"**The Avengers**\" series and \"**Avengers: Endgame**\" (2019).\\n- **Other Films**: Notable works include the \"**Sherlock Holmes**\" series (playing Sherlock Holmes), \"**Tropic Thunder**,\" and \"**Dolittle**\" (2020).\\n\\n### Personal Life:\\n- Known for his witty personality and openness about past struggles, Downey is often seen as an inspiration for personal growth and overcoming adversity.\\n- He is married to Susan Downey (a producer), and they have two children together.\\n\\n### Awards & Accolades:\\n- Academy Award nominations\\n- Golden Globe Awards\\n- BAFTA Award\\n\\n### Legacy:\\nRobert Downey Jr. is regarded as one of Hollywood\\'s top actors, especially for revitalizing the superhero film genre and demonstrating remarkable personal and professional resilience.', type='output_text', logprobs=[])], role='assistant', status='completed', type='message')], parallel_tool_calls=True, temperature=1.0, tool_choice='auto', tools=[], top_p=1.0, background=False, max_output_tokens=None, max_tool_calls=None, previous_response_id=None, prompt=None, prompt_cache_key=None, reasoning=Reasoning(effort=None, generate_summary=None, summary=None), safety_identifier=None, service_tier='default', status='completed', text=ResponseTextConfig(format=ResponseFormatText(type='text'), verbosity='medium'), top_logprobs=0, truncation='disabled', usage=ResponseUsage(input_tokens=14, input_tokens_details=InputTokensDetails(cached_tokens=0), output_tokens=409, output_tokens_details=OutputTokensDetails(reasoning_tokens=0), total_tokens=423), user=None, store=True)\n"
     ]
    }
   ],
   "source": [
    "responses = client.responses.create(\n",
    "  model=\"gpt-4.1\",\n",
    "  input=[\n",
    "    {\"role\": \"user\", \"content\": \"Who is Robert Downey Jr.?\"}\n",
    "  ]\n",
    ")\n",
    "\n",
    "print(responses)"
   ]
  },
  {
   "cell_type": "code",
   "execution_count": null,
   "id": "344daa03",
   "metadata": {},
   "outputs": [
    {
     "name": "stdout",
     "output_type": "stream",
     "text": [
      "**Robert Downey Jr.'s** most popular movie is widely considered to be ***Iron Man*** (2008).\n",
      "\n",
      "### Why *Iron Man*?\n",
      "\n",
      "- **Significance:** It was the first film in the Marvel Cinematic Universe (MCU), and Downey’s portrayal of Tony Stark/Iron Man transformed both his career and the superhero movie genre.\n",
      "- **Box Office Success:** *Iron Man* was a critical and commercial hit, grossing over $585 million worldwide.\n",
      "- **Cultural Impact:** The film redefined Downey’s public image and is often credited with launching the unprecedentedly successful MCU, in which Downey reprised the role in multiple sequels and team-up films.\n",
      "- **Fan Following:** His version of Tony Stark became iconic, making him one of the most beloved characters in modern cinema.\n",
      "\n",
      "#### Other very popular films featuring Downey as Iron Man:\n",
      "- *The Avengers* (2012)\n",
      "- *Avengers: Infinity War* (2018)\n",
      "- *Avengers: Endgame* (2019) — which is one of the highest-grossing films of all time.\n",
      "\n",
      "While Downey has starred in other acclaimed films (*Sherlock Holmes*, *Chaplin*, *Tropic Thunder*), his role as **Iron Man** is undoubtedly his most popular and influential.\n"
     ]
    }
   ],
   "source": [
    "responses = client.responses.create(\n",
    "  model=\"gpt-4.1\",\n",
    "  previous_response_id=responses.id,\n",
    "  input=[\n",
    "    {\"role\": \"user\", \"content\": \"What is his most popular movie.\"}\n",
    "  ]\n",
    ")\n",
    "\n",
    "print(responses.output_text)"
   ]
  },
  {
   "cell_type": "markdown",
   "id": "58557e44",
   "metadata": {},
   "source": [
    "## Streaming"
   ]
  },
  {
   "cell_type": "code",
   "execution_count": 25,
   "id": "746d273e",
   "metadata": {},
   "outputs": [
    {
     "name": "stdout",
     "output_type": "stream",
     "text": [
      "Robert Downey Jr. is an American actor and producer, widely regarded as one of the most talented and successful performers of his generation. Born on April 4, 1965, in New York City, he is the son of filmmaker Robert Downey Sr. Throughout his career, Downey has become known for both his remarkable acting abilities and his well-documented battles with substance abuse, from which he made a widely publicized recovery.\n",
      "\n",
      "Downey began acting as a child in his father's films, but rose to prominence in the 1980s and 1990s with notable roles in movies such as *Less Than Zero* (1987), *Chaplin* (1992)—for which he received an Academy Award nomination for Best Actor—and *Natural Born Killers* (1994).\n",
      "\n",
      "He achieved worldwide fame for his portrayal of Tony Stark/Iron Man in the Marvel Cinematic Universe, beginning with *Iron Man* (2008) and reprising the role in multiple Marvel films, including *The Avengers* series. This role established him as a superstar and made him one of the highest-paid actors in Hollywood.\n",
      "\n",
      "Apart from acting, Robert Downey Jr. has produced films and television shows. His other notable works include *Sherlock Holmes* (2009) and its sequel, as well as *Tropic Thunder* (2008). He is widely admired for his charismatic screen presence, quick wit, and ability to portray complex characters.None"
     ]
    }
   ],
   "source": [
    "stream = client.chat.completions.create(\n",
    "  model=\"gpt-4.1\",\n",
    "  messages=[\n",
    "    {\"role\": \"system\", \"content\": \"You are a helpful assistant.\"},\n",
    "    {\"role\": \"user\", \"content\": \"Who is Robert Downey Jr.?\"}\n",
    "  ],\n",
    "  stream=True\n",
    ")\n",
    "\n",
    "for chunk in stream:\n",
    "    print(chunk.choices[0].delta.content, end=\"\", flush=True)"
   ]
  },
  {
   "cell_type": "code",
   "execution_count": 27,
   "id": "cdbb9829",
   "metadata": {},
   "outputs": [
    {
     "name": "stdout",
     "output_type": "stream",
     "text": [
      "**Robert Downey Jr.** is an acclaimed American actor and producer known for his charismatic screen presence, versatility, and influential roles in both film and television.\n",
      "\n",
      "### Early Life:\n",
      "- **Born:** April 4, 1965\n",
      "- **Parents:** Robert Downey Sr. (actor and filmmaker) and Elsie Ann Ford (actress)\n",
      "- **Raised:** New York City\n",
      "\n",
      "### Career Highlights:\n",
      "- **Early Roles:** Gained recognition in the 1980s with films like *Less Than Zero* and *Weird Science*.\n",
      "- **Breakout:** Acclaimed performance as Charlie Chaplin in *Chaplin* (1992), earning him an Academy Award nomination for Best Actor.\n",
      "- **Resurgence:** After personal and legal struggles in the late 1990s and early 2000s, Downey made a major comeback.\n",
      "\n",
      "#### Major Roles:\n",
      "- **Tony Stark / Iron Man:** His performance in the Marvel Cinematic Universe (*Iron Man*, *The Avengers*, *Avengers: Endgame*, etc.) transformed him into a global superstar and the face of the MCU.\n",
      "- **Sherlock Holmes:** Starred in *Sherlock Holmes* (2009) and *Sherlock Holmes: A Game of Shadows* (2011).\n",
      "- **Other notable films:** *Tropic Thunder* (Oscar-nominated), *Zodiac*, *The Judge*, *Kiss Kiss Bang Bang*, *Chaplin*.\n",
      "\n",
      "### Awards:\n",
      "- Academy Award nominations (Best Actor for *Chaplin*, Best Supporting Actor for *Tropic Thunder*)\n",
      "- Multiple Golden Globe Awards, including for *Sherlock Holmes*.\n",
      "- Named one of the world’s highest-paid actors for several years, largely thanks to his Marvel roles.\n",
      "\n",
      "### Personal Life:\n",
      "- Downey struggled with substance abuse and legal issues in the 1990s but has since become an advocate for sobriety and a symbol of personal and professional recovery.\n",
      "- Married to Susan Downey since 2005, with whom he has children.\n",
      "\n",
      "### Cultural Impact:\n",
      "Robert Downey Jr. is widely credited with revitalizing the superhero film genre through his portrayal of Tony Stark, helping to kickstart the MCU and shape the direction of modern blockbuster cinema.\n",
      "\n",
      "---\n",
      "\n",
      "If you want to know more about his filmography, awards, or personal journey, let me know!"
     ]
    }
   ],
   "source": [
    "stream = client.responses.create(\n",
    "  model=\"gpt-4.1\",\n",
    "  input=[\n",
    "    {\"role\": \"user\", \"content\": \"Who is Robert Downey Jr.?\"}\n",
    "  ],\n",
    "  stream=True\n",
    ")\n",
    "\n",
    "for event in stream:\n",
    "    if event.type == \"response.output_text.delta\":\n",
    "        print(event.delta, end=\"\", flush=True)"
   ]
  },
  {
   "cell_type": "markdown",
   "id": "85734e67",
   "metadata": {},
   "source": [
    "## Resources\n",
    "- [OpenAI Responses API Documentation](https://platform.openai.com/docs/guides/responses-vs-chat-completions)\n",
    "- [OpenAI Streaming](https://platform.openai.com/docs/guides/streaming-responses?api-mode=responses)"
   ]
  }
 ],
 "metadata": {
  "kernelspec": {
   "display_name": "ai_env",
   "language": "python",
   "name": "python3"
  },
  "language_info": {
   "codemirror_mode": {
    "name": "ipython",
    "version": 3
   },
   "file_extension": ".py",
   "mimetype": "text/x-python",
   "name": "python",
   "nbconvert_exporter": "python",
   "pygments_lexer": "ipython3",
   "version": "3.12.3"
  }
 },
 "nbformat": 4,
 "nbformat_minor": 5
}
