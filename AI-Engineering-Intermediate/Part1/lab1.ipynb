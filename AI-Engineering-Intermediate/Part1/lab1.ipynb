{
 "cells": [
  {
   "cell_type": "markdown",
   "id": "96520fca",
   "metadata": {},
   "source": [
    "# Response API vs Chat Completions\n",
    "\n",
    "## Topics to cover:\n",
    "1. Why use Response API over Chat Completions\n",
    "2. Streaming Responses\n",
    "3. Prompt Engineering\n",
    "4. Function Calling\n",
    "5. A Simple Agent\n",
    "\n",
    "It is a never-ending battle of being up-to-date with the latest changes in AI. There will always be changes to APIs and their documentation, new tools, deprecations of previous API endpoints and tools.\n",
    "\n",
    "Our job as AI Engineers is to make sure we are up-to-date with the relevant documentation of the tools we are using. Usually, providers will give ample notice before any major changes are introduced and old methods are depreciated.\n",
    "\n",
    "## Why the Responses API\n",
    "As mentioned in OpenAIs documentation for [Responses vs Chat Completions](https://platform.openai.com/docs/guides/responses-vs-chat-completions).\n",
    "\n",
    "- Better for agentic workflows\n",
    "- Stateful API\n",
    "- Model availability\n",
    "- Built-in tool use (Like OpenAIs own 'file search' and 'computer use')"
   ]
  },
  {
   "cell_type": "markdown",
   "id": "320a59a7",
   "metadata": {},
   "source": [
    "## What the basic Chat Completions looked like"
   ]
  },
  {
   "cell_type": "code",
   "execution_count": 1,
   "id": "c0fe3137",
   "metadata": {},
   "outputs": [],
   "source": [
    "import os\n",
    "from dotenv import load_dotenv\n",
    "from IPython.display import Markdown, display\n",
    "\n",
    "load_dotenv()\n",
    "\n",
    "OPENAI_API_KEY = os.getenv(\"OPENAI_API_KEY\")\n",
    "\n",
    "if OPENAI_API_KEY is None:\n",
    "    raise Exception(\"API key is missing\")"
   ]
  },
  {
   "cell_type": "code",
   "execution_count": 2,
   "id": "a900906f",
   "metadata": {},
   "outputs": [
    {
     "name": "stdout",
     "output_type": "stream",
     "text": [
      "ChatCompletionMessage(content='Robert Downey Jr. is a renowned American actor and producer, widely recognized for his dynamic acting skills and charismatic screen presence. Born on April 4, 1965, in New York City, he began acting at a young age, appearing in films directed by his father, Robert Downey Sr.\\n\\nDowney Jr. gained critical acclaim in the 1980s and 1990s with roles in movies such as **\"Less Than Zero,\" \"Chaplin\"** (for which he received an Academy Award nomination for Best Actor), and **\"Natural Born Killers.\"** Despite personal struggles with substance abuse that impacted his career in the late 1990s and early 2000s, he made a remarkable comeback.\\n\\nHe achieved international superstardom for his role as Tony Stark / Iron Man in the Marvel Cinematic Universe (MCU), debuting in **\"Iron Man\"** (2008) and appearing in multiple MCU films, including the \"Avengers\" series. His portrayal of Tony Stark is considered iconic and has been pivotal to the MCU\\'s success. Downey has also starred as Sherlock Holmes in the popular Guy Ritchie films.\\n\\nRobert Downey Jr. is celebrated for his wit, versatility, and resilience—both onscreen and in overcoming personal challenges. He is regarded as one of the most talented and influential actors of his generation.', refusal=None, role='assistant', annotations=[], audio=None, function_call=None, tool_calls=None)\n"
     ]
    }
   ],
   "source": [
    "from openai import OpenAI\n",
    "client = OpenAI()\n",
    "\n",
    "completion = client.chat.completions.create(\n",
    "  model=\"gpt-4.1\",\n",
    "  messages=[\n",
    "    {\"role\": \"developer\", \"content\": \"You are a helpful assistant.\"},\n",
    "    {\"role\": \"user\", \"content\": \"Who is Robert Downey Jr.?\"}\n",
    "  ]\n",
    ")\n",
    "\n",
    "print(completion.choices[0].message)\n"
   ]
  },
  {
   "cell_type": "code",
   "execution_count": 3,
   "id": "f07f83c8",
   "metadata": {},
   "outputs": [
    {
     "name": "stdout",
     "output_type": "stream",
     "text": [
      "ChatCompletionMessage(content='I’d be happy to help! However, I need a bit more information—could you please tell me who “he” refers to?', refusal=None, role='assistant', annotations=[], audio=None, function_call=None, tool_calls=None)\n"
     ]
    }
   ],
   "source": [
    "completion = client.chat.completions.create(\n",
    "  model=\"gpt-4.1\",\n",
    "  messages=[\n",
    "    {\"role\": \"developer\", \"content\": \"You are a helpful assistant.\"},\n",
    "    {\"role\": \"user\", \"content\": \"What is his most popular movie?\"}\n",
    "  ]\n",
    ")\n",
    "\n",
    "print(completion.choices[0].message)"
   ]
  },
  {
   "cell_type": "markdown",
   "id": "f5fabd86",
   "metadata": {},
   "source": [
    "## Responses API"
   ]
  },
  {
   "cell_type": "code",
   "execution_count": 4,
   "id": "ae61e287",
   "metadata": {},
   "outputs": [
    {
     "name": "stdout",
     "output_type": "stream",
     "text": [
      "Response(id='resp_68937d61e394819180042b4b0da4da9603017c908e864349', created_at=1754496354.0, error=None, incomplete_details=None, instructions=None, metadata={}, model='gpt-4.1-2025-04-14', object='response', output=[ResponseOutputMessage(id='msg_68937d62dfe8819192f5acd54d7f7c2403017c908e864349', content=[ResponseOutputText(annotations=[], text='**Robert Downey Jr.** is an American actor and producer, widely recognized as one of the most talented and charismatic performers of his generation. Born on April 4, 1965, in Manhattan, New York City, he is the son of filmmaker Robert Downey Sr.\\n\\n### Career Highlights:\\n\\n- **Early Career:** Downey began acting as a child and gained early recognition in films like *Less Than Zero* (1987) and *Chaplin* (1992), for which he received an Academy Award nomination for Best Actor for his portrayal of Charlie Chaplin.\\n\\n- **Personal Struggles:** His career faced significant obstacles in the late 1990s and early 2000s due to repeated legal troubles and substance abuse issues. He made a remarkable comeback after getting sober.\\n\\n- **Marvel Cinematic Universe:** Downey is most famous for his role as Tony Stark/Iron Man in the Marvel Cinematic Universe (MCU), starting with *Iron Man* (2008). His performance helped launch the MCU and made him one of the highest-paid actors in Hollywood.\\n\\n- **Other Major Roles:** He has starred in major films such as *Sherlock Holmes* (2009) and *Sherlock Holmes: A Game of Shadows* (2011), as well as notable performances in *Tropic Thunder* (2008), which earned him another Oscar nomination.\\n\\n### Personal Life:\\n\\n- Downey is known for his wit, charisma, and candid discussions about his struggles with addiction and recovery.\\n- He has been married to Susan Downey since 2005, and they have two children together.\\n\\n### Legacy:\\n\\nRobert Downey Jr. is celebrated for his resilience, versatility, and his ability to reinvent himself. He is considered a key figure in contemporary cinema and one of the defining actors of his era.', type='output_text', logprobs=[])], role='assistant', status='completed', type='message')], parallel_tool_calls=True, temperature=1.0, tool_choice='auto', tools=[], top_p=1.0, background=False, max_output_tokens=None, max_tool_calls=None, previous_response_id=None, prompt=None, prompt_cache_key=None, reasoning=Reasoning(effort=None, generate_summary=None, summary=None), safety_identifier=None, service_tier='default', status='completed', text=ResponseTextConfig(format=ResponseFormatText(type='text')), top_logprobs=0, truncation='disabled', usage=ResponseUsage(input_tokens=14, input_tokens_details=InputTokensDetails(cached_tokens=0), output_tokens=370, output_tokens_details=OutputTokensDetails(reasoning_tokens=0), total_tokens=384), user=None, store=True)\n"
     ]
    }
   ],
   "source": [
    "response = client.responses.create(\n",
    "  model=\"gpt-4.1\",\n",
    "  input=[\n",
    "      {\n",
    "          \"role\": \"user\",\n",
    "          \"content\": \"Who is Robert Downey Jr.?\"\n",
    "      }\n",
    "  ]\n",
    ")\n",
    "\n",
    "print(response)\n"
   ]
  },
  {
   "cell_type": "code",
   "execution_count": 5,
   "id": "a8df906a",
   "metadata": {},
   "outputs": [
    {
     "name": "stdout",
     "output_type": "stream",
     "text": [
      "**Robert Downey Jr.'s most popular movie is widely considered to be *Iron Man* (2008).**\n",
      "\n",
      "### Why *Iron Man* (2008)?\n",
      "- *Iron Man* launched the Marvel Cinematic Universe (MCU), one of the most successful film franchises in history.\n",
      "- Downey’s portrayal of Tony Stark/Iron Man made the character iconic and redefined his career, turning him into a global superstar.\n",
      "- The film’s success led to multiple sequels and ensemble films, including *Avengers* movies, where Downey reprised his role.\n",
      "\n",
      "### Other Notable Popular Movies:\n",
      "- ***Avengers: Endgame* (2019):** The highest-grossing film of all time for a period, where Downey’s performance as Iron Man was a central emotional focus.\n",
      "- ***Sherlock Holmes* (2009) and *Sherlock Holmes: A Game of Shadows* (2011):** Both commercially successful, showing his range beyond superhero roles.\n",
      "\n",
      "**But in terms of impact, recognition, and box office success, *Iron Man* (2008) and his appearances as Tony Stark in the MCU are his most popular and influential works.**\n"
     ]
    }
   ],
   "source": [
    "response = client.responses.create(\n",
    "  model=\"gpt-4.1\",\n",
    "  previous_response_id=response.id,\n",
    "  input=[\n",
    "      {\n",
    "          \"role\": \"user\",\n",
    "          \"content\": \"What is his most popular movie?\"\n",
    "      }\n",
    "  ]\n",
    ")\n",
    "\n",
    "print(response.output_text)\n"
   ]
  },
  {
   "cell_type": "markdown",
   "id": "58557e44",
   "metadata": {},
   "source": [
    "## Streaming"
   ]
  },
  {
   "cell_type": "code",
   "execution_count": null,
   "id": "51e72e9e",
   "metadata": {},
   "outputs": [
    {
     "name": "stdout",
     "output_type": "stream",
     "text": [
      "Yes, **Robert Downey Jr.** has won numerous awards throughout his career, though he has not yet won an Academy Award (Oscar) as of 2024. Here’s an overview of his most notable awards:\n",
      "\n",
      "---\n",
      "\n",
      "### Major Wins\n",
      "\n",
      "**1. Golden Globe Awards**  \n",
      "- **Best Performance by an Actor in a Motion Picture – Musical or Comedy**\n",
      "  - *Sherlock Holmes* (2010)\n",
      "- **Best Supporting Actor – Series, Miniseries or Television Film**\n",
      "  - *Ally McBeal* (2001)\n",
      "\n",
      "**2. Screen Actors Guild (SAG) Awards**  \n",
      "- **Outstanding Performance by an Ensemble in a Drama Series**\n",
      "  - *Ally McBeal* (2001)\n",
      "\n",
      "**3. Other Awards**  \n",
      "- **People’s Choice Awards**: Multiple wins, including Favorite Movie Actor and Favorite Superhero (for Iron Man).\n",
      "- **MTV Movie + TV Awards**: Several wins/nominations for Iron Man/Tony Stark.\n",
      "- **Kids’ Choice Awards**: Multiple wins for favorite superhero roles.\n",
      "- **BAFTA**: Nominated for *Chaplin* but did not win.\n",
      "\n",
      "---\n",
      "\n",
      "### Notable Nominations\n",
      "\n",
      "- **Academy Awards (Oscars):**\n",
      "  - *Chaplin* (1993): Best Actor in a Leading Role (nominated)\n",
      "  - *Tropic Thunder* (2009): Best Supporting Actor (nominated)\n",
      "- **BAFTA**: *Chaplin* (nominated)\n",
      "- **Primetime Emmy Award**: Nominated for *Ally McBeal*\n",
      "\n",
      "---\n",
      "\n",
      "### In Summary:\n",
      "**Robert Downey Jr.** is a highly decorated actor with multiple major awards and yet, as of 2024, remains Oscar-less despite critically acclaimed performances. His work as Tony Stark/Iron Man, Sherlock Holmes, and in comedies like *Tropic Thunder* and TV shows like *Ally McBeal* have brought him widespread recognition and numerous accolades."
     ]
    }
   ],
   "source": [
    "stream = client.responses.create(\n",
    "  model=\"gpt-4.1\",\n",
    "  previous_response_id=response.id,\n",
    "  input=[\n",
    "      {\n",
    "          \"role\": \"user\",\n",
    "          \"content\": \"Has he won any awards?\"\n",
    "      }\n",
    "  ],\n",
    "  stream=True\n",
    ")\n",
    "\n",
    "for event in stream:\n",
    "    if event.type == \"response.output_text.delta\":\n",
    "        print(event.delta, end=\"\")\n",
    "\n",
    "# for event in stream:\n",
    "#     print(event)\n"
   ]
  },
  {
   "cell_type": "markdown",
   "id": "85734e67",
   "metadata": {},
   "source": [
    "## Resources\n",
    "- [OpenAI Responses API Documentation](https://platform.openai.com/docs/guides/responses-vs-chat-completions)\n",
    "- [OpenAI Streaming](https://platform.openai.com/docs/guides/streaming-responses?api-mode=responses)"
   ]
  }
 ],
 "metadata": {
  "kernelspec": {
   "display_name": "ai_env",
   "language": "python",
   "name": "python3"
  },
  "language_info": {
   "codemirror_mode": {
    "name": "ipython",
    "version": 3
   },
   "file_extension": ".py",
   "mimetype": "text/x-python",
   "name": "python",
   "nbconvert_exporter": "python",
   "pygments_lexer": "ipython3",
   "version": "3.12.3"
  }
 },
 "nbformat": 4,
 "nbformat_minor": 5
}
