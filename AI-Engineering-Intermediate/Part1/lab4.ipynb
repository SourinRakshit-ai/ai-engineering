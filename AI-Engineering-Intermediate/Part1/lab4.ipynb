{
 "cells": [
  {
   "cell_type": "markdown",
   "id": "8696980e",
   "metadata": {},
   "source": [
    "# Flight Agent: Your Travel Planner\n",
    "\n",
    "Time for an exciting use case. Now is the time to use all the knowledge we have gathered so far to build a complete AI Agent ourselves."
   ]
  },
  {
   "cell_type": "code",
   "execution_count": null,
   "id": "6933b082",
   "metadata": {},
   "outputs": [],
   "source": [
    "import os\n",
    "from dotenv import load_dotenv\n",
    "from IPython.display import Markdown, display\n",
    "\n",
    "load_dotenv()\n",
    "\n",
    "OPENAI_API_KEY = os.getenv(\"OPENAI_API_KEY\")\n",
    "\n",
    "if OPENAI_API_KEY is None:\n",
    "    raise Exception(\"API key is missing\")"
   ]
  },
  {
   "cell_type": "markdown",
   "id": "72c2b797",
   "metadata": {},
   "source": [
    "## Step 1: Responses API"
   ]
  },
  {
   "cell_type": "markdown",
   "id": "140d91a9",
   "metadata": {},
   "source": [
    "## Step 2: Our Tools"
   ]
  },
  {
   "cell_type": "code",
   "execution_count": null,
   "id": "1b353661",
   "metadata": {},
   "outputs": [],
   "source": []
  }
 ],
 "metadata": {
  "kernelspec": {
   "display_name": "ai_env",
   "language": "python",
   "name": "python3"
  },
  "language_info": {
   "name": "python",
   "version": "3.12.3"
  }
 },
 "nbformat": 4,
 "nbformat_minor": 5
}
