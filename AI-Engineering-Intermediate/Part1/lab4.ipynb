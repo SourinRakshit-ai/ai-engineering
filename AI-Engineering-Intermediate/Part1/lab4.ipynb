{
 "cells": [
  {
   "cell_type": "markdown",
   "id": "8696980e",
   "metadata": {},
   "source": [
    "# Flight Agent: Your Travel Planner\n",
    "\n",
    "Time for an exciting use case. Now is the time to use all the knowledge we have gathered so far to build a complete AI Agent ourselves.\n",
    "\n",
    "## Plan of Attack:\n",
    "\n",
    "1. Import libraries\n",
    "2. Define our tools\n",
    "3. Define our tools schema\n",
    "4. Call the OpenAI Responses API\n",
    "5. Handle tool calls\n",
    "6. Chat logic\n",
    "7. Gradio Interface"
   ]
  },
  {
   "cell_type": "markdown",
   "id": "d6a81668",
   "metadata": {},
   "source": [
    "## Step 1: Import libraries"
   ]
  },
  {
   "cell_type": "code",
   "execution_count": null,
   "id": "6933b082",
   "metadata": {},
   "outputs": [],
   "source": [
    "import os\n",
    "from tavily import TavilyClient\n",
    "from dotenv import load_dotenv\n",
    "import json\n",
    "from openai import OpenAI\n",
    "from utils import function_to_tool\n",
    "from IPython.display import display, Markdown\n",
    "import gradio as gr\n",
    "\n",
    "load_dotenv()\n",
    "\n",
    "TAVILY_API_KEY = os.getenv(\"TAVILY_API_KEY\")\n",
    "if not TAVILY_API_KEY:\n",
    "    raise ValueError(\"TAVILY_API_KEY is not set in the environment variables.\")\n",
    "\n",
    "OPENAI_API_KEY = os.getenv(\"OPENAI_API_KEY\")\n",
    "if not OPENAI_API_KEY:\n",
    "    raise ValueError(\"OPENAI_API_KEY is not set in the environment variables.\")\n",
    "\n",
    "tavily_client = TavilyClient()\n",
    "openai_client = OpenAI()"
   ]
  },
  {
   "cell_type": "markdown",
   "id": "3d619380",
   "metadata": {},
   "source": [
    "## Step 2: Define our tools"
   ]
  },
  {
   "cell_type": "code",
   "execution_count": null,
   "id": "1b353661",
   "metadata": {},
   "outputs": [],
   "source": [
    "query = \"I want to travel to tokyo and osaka tomorrow what are the best flights available\"\n",
    "\n",
    "# Flight search tool\n",
    "response = tavily_client.search(\n",
    "    query=query,\n",
    "    include_domains = [\"skysnanner.com\", \"expedia.com\", \"booking.com\"]\n",
    ")\n",
    "\n",
    "print(\"Search Results: \\n\", json.dumps(response, indent=2))"
   ]
  },
  {
   "cell_type": "code",
   "execution_count": null,
   "id": "73da5aed",
   "metadata": {},
   "outputs": [],
   "source": [
    "print(response[\"results\"][0]['content'])"
   ]
  },
  {
   "cell_type": "code",
   "execution_count": null,
   "id": "a6fafc54",
   "metadata": {},
   "outputs": [],
   "source": [
    "def flight_search(query: str) -> dict:\n",
    "    \"\"\"\n",
    "    Search for flights based on the provided query and optional domains.\n",
    "    \n",
    "    Args:\n",
    "        query (str): The search query for flights.\n",
    "        include_domains (list, optional): List of domains to include in the search.\n",
    "        \n",
    "    Returns:\n",
    "        dict: Search results containing flight information.\n",
    "    \"\"\"\n",
    "    response = tavily_client.search(\n",
    "        query=query,\n",
    "        include_domains=[\"skyscanner.com\", \"expedia.com\", \"booking.com\"]\n",
    "    )\n",
    "    return response"
   ]
  },
  {
   "cell_type": "code",
   "execution_count": null,
   "id": "4cd7550a",
   "metadata": {},
   "outputs": [],
   "source": [
    "query = \"What are the best hotels in tokyo and osaka for tomorrow?\"\n",
    "\n",
    "# Hotel search tool\n",
    "response = tavily_client.search(\n",
    "    query=query,\n",
    "    include_domains = [\"booking.com\", \"airbnb.com\"]\n",
    ")\n",
    "\n",
    "print(\"Search Results: \\n\", json.dumps(response, indent=2))"
   ]
  },
  {
   "cell_type": "code",
   "execution_count": null,
   "id": "c52c3276",
   "metadata": {},
   "outputs": [],
   "source": [
    "def hotel_search(query: str) -> dict:\n",
    "    \"\"\"\n",
    "    Search for hotels based on the provided query and optional domains.\n",
    "    \n",
    "    Args:\n",
    "        query (str): The search query for hotels.\n",
    "        include_domains (list, optional): List of domains to include in the search.\n",
    "        \n",
    "    Returns:\n",
    "        dict: Search results containing hotel information.\n",
    "    \"\"\"\n",
    "    response = tavily_client.search(\n",
    "        query=query,\n",
    "        include_domains=[\"booking.com\", \"airbnb.com\"]\n",
    "    )\n",
    "    return response"
   ]
  },
  {
   "cell_type": "markdown",
   "id": "456d3f02",
   "metadata": {},
   "source": [
    "## Step 3: Define our tools schema"
   ]
  },
  {
   "cell_type": "code",
   "execution_count": null,
   "id": "0531cbaf",
   "metadata": {},
   "outputs": [],
   "source": [
    "flight_tool_schema = function_to_tool(flight_search)\n",
    "hotel_tool_schema = function_to_tool(hotel_search)"
   ]
  },
  {
   "cell_type": "code",
   "execution_count": null,
   "id": "f78e93e5",
   "metadata": {},
   "outputs": [],
   "source": [
    "hotel_tool_schema"
   ]
  },
  {
   "cell_type": "markdown",
   "id": "d68b134f",
   "metadata": {},
   "source": [
    "## Step 4: Call the OpenAI Responses API"
   ]
  },
  {
   "cell_type": "code",
   "execution_count": null,
   "id": "702abd0b",
   "metadata": {},
   "outputs": [],
   "source": [
    "system_message = \"\"\"\n",
    "\n",
    "You are a helpful travel planner and your are to assist the user in planning their travel itinerary.\n",
    "\n",
    "You are to ask the user in a conversational manner about their travel plans and preferences, first start with their\n",
    "destination, wait for their response and then ask about the dates they plan to travel, and then search for the best flights available,\n",
    "build an itinerary based on their preferences and give them a summary of their travel plans.\n",
    "\n",
    "\n",
    "Eg.\n",
    "AI Assistant: Hello, I am your travel planner. Which country would you like to travel to?\n",
    "User: I want to travel to Japan\n",
    "AI Assistant: What is your preferred destination in Japan?\n",
    "User: Tokyo\n",
    "AI Assistant: Great! When do you plan to travel?\n",
    "User: I plan to travel tomorrow.\n",
    "\n",
    "* use your search tool to search for flight deals *\n",
    "\n",
    "* You will be provided with flight options *\n",
    "\n",
    "* use your search tool to search for hotel booking deals *\n",
    "\n",
    "* You will be provided the results of the hotel search *\n",
    "\n",
    "summarize results in a neatly formatted itinerary.\n",
    "\n",
    "provide the itinerary to the user\n",
    "\n",
    "AI Assistant: Here is your travel itinerary for Japan:\n",
    "\n",
    "-- Example Itinerary --\n",
    "\n",
    "Remember to only provide the user with the results once you have information about the flights as well as the hotels.\n",
    "\"\"\""
   ]
  },
  {
   "cell_type": "code",
   "execution_count": null,
   "id": "54ca3a6e",
   "metadata": {},
   "outputs": [],
   "source": [
    "input_list = [{\"role\": \"system\", \"content\": system_message}]\n",
    "\n",
    "def chat(input_list):\n",
    "    response = openai_client.responses.create(\n",
    "        model=\"gpt-4o-mini\",\n",
    "        input=input_list,\n",
    "        tools=[flight_tool_schema, hotel_tool_schema],\n",
    "        tool_choice=\"auto\",\n",
    "        parallel_tool_calls=False\n",
    "    )\n",
    "\n",
    "    if response.output[0].type == \"message\":\n",
    "        input_list.append({\"role\": \"assistant\", \"content\": response.output_text})\n",
    "    if response.output[0].type == \"function_call\":\n",
    "        input_list += response.output\n",
    "    return response\n",
    "\n",
    "response = chat(input_list)\n",
    "print(response.output)"
   ]
  },
  {
   "cell_type": "code",
   "execution_count": null,
   "id": "eec4a6a1",
   "metadata": {},
   "outputs": [],
   "source": [
    "input_list"
   ]
  },
  {
   "cell_type": "code",
   "execution_count": null,
   "id": "98efce69",
   "metadata": {},
   "outputs": [],
   "source": [
    "input_list.append({\"role\": \"user\", \"content\": \"TOmorrow\"})\n",
    "\n",
    "response = chat(input_list)\n",
    "\n",
    "print(response.output)"
   ]
  },
  {
   "cell_type": "markdown",
   "id": "50fe86ea",
   "metadata": {},
   "source": [
    "## Step 5: Handle tools calls"
   ]
  },
  {
   "cell_type": "code",
   "execution_count": null,
   "id": "6d5c6b86",
   "metadata": {},
   "outputs": [],
   "source": [
    "def call_function(name, args):\n",
    "    if name == \"flight_search\":\n",
    "        return flight_search(**args)\n",
    "    if name == \"hotel_search\":\n",
    "        return hotel_search(**args)"
   ]
  },
  {
   "cell_type": "code",
   "execution_count": null,
   "id": "ef085f67",
   "metadata": {},
   "outputs": [],
   "source": [
    "# Save function call outputs for subsequent requests\n",
    "\n",
    "name = response.output[0].name\n",
    "args = json.loads(response.output[0].arguments)\n",
    "\n",
    "result = call_function(name, args)\n",
    "\n",
    "input_list.append({\n",
    "    \"type\": \"function_call_output\",\n",
    "    \"call_id\": response.output[0].call_id,\n",
    "    \"output\": str(result)\n",
    "})\n"
   ]
  },
  {
   "cell_type": "code",
   "execution_count": null,
   "id": "18151ede",
   "metadata": {},
   "outputs": [],
   "source": [
    "input_list"
   ]
  },
  {
   "cell_type": "code",
   "execution_count": null,
   "id": "c30367b9",
   "metadata": {},
   "outputs": [],
   "source": [
    "response = chat(input_list)\n",
    "\n",
    "print(response.output)"
   ]
  },
  {
   "cell_type": "code",
   "execution_count": null,
   "id": "e9781737",
   "metadata": {},
   "outputs": [],
   "source": [
    "display(Markdown(response.output_text))"
   ]
  },
  {
   "cell_type": "markdown",
   "id": "25ca8ee2",
   "metadata": {},
   "source": [
    "## Step 6: Gradio UI"
   ]
  },
  {
   "cell_type": "code",
   "execution_count": null,
   "id": "f840d5c3",
   "metadata": {},
   "outputs": [],
   "source": [
    "def chat(message, history):\n",
    "\n",
    "    clean_history = [{\"role\": m[\"role\"], \"content\": m[\"content\"]} for m in history]\n",
    "\n",
    "    messages = [{\"role\": \"system\", \"content\": system_message}] + clean_history + [{\"role\": \"user\", \"content\": message}]\n",
    "\n",
    "    response = openai_client.responses.create(\n",
    "        model=\"gpt-4o-mini\",\n",
    "        input=messages,\n",
    "        tools=[flight_tool_schema, hotel_tool_schema],\n",
    "        tool_choice=\"auto\",\n",
    "        parallel_tool_calls=False\n",
    "    )\n",
    "\n",
    "    if response.output[0].type == \"function_call\":\n",
    "        while response.output[0].type == \"function_call\":\n",
    "            messages += response.output\n",
    "            \n",
    "            name = response.output[0].name\n",
    "            args = json.loads(response.output[0].arguments)\n",
    "\n",
    "            result = call_function(name, args)\n",
    "\n",
    "            messages.append({\n",
    "                \"type\": \"function_call_output\",   # or role=\"tool\" if you want proper chat-style\n",
    "                \"call_id\": response.output[0].call_id,\n",
    "                \"output\": str(result)\n",
    "            })\n",
    "\n",
    "            response = openai_client.responses.create(\n",
    "                model=\"gpt-4o-mini\",\n",
    "                input=messages,   # pass full conversation\n",
    "                tools=[flight_tool_schema, hotel_tool_schema],\n",
    "                tool_choice=\"auto\",\n",
    "                parallel_tool_calls=False\n",
    "            )\n",
    "\n",
    "    return response.output_text\n",
    "\n",
    "view = gr.ChatInterface(fn=chat, type=\"messages\").launch()\n"
   ]
  },
  {
   "cell_type": "code",
   "execution_count": null,
   "id": "fc99e57e",
   "metadata": {},
   "outputs": [],
   "source": []
  }
 ],
 "metadata": {
  "kernelspec": {
   "display_name": "ai_env",
   "language": "python",
   "name": "python3"
  },
  "language_info": {
   "codemirror_mode": {
    "name": "ipython",
    "version": 3
   },
   "file_extension": ".py",
   "mimetype": "text/x-python",
   "name": "python",
   "nbconvert_exporter": "python",
   "pygments_lexer": "ipython3",
   "version": "3.12.3"
  }
 },
 "nbformat": 4,
 "nbformat_minor": 5
}
