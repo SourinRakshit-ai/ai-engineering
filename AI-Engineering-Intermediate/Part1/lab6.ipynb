{
 "cells": [
  {
   "cell_type": "markdown",
   "id": "4d7db0ff",
   "metadata": {},
   "source": [
    "# RAG with Vector Databases"
   ]
  },
  {
   "cell_type": "markdown",
   "id": "f71a12b8",
   "metadata": {},
   "source": [
    "## Just a quick definition\n",
    "## What are Vector Embeddings?\n",
    "\n",
    "Vector embeddings are numerical representations of text, images, or other data types that capture semantic meaning in a multi-dimensional space. When you input text into an AI system, it gets converted into a vector (a series of numbers) where similar concepts are positioned close to each other in this high-dimensional space.\n",
    "\n",
    "For example, the words \"dog\" and \"puppy\" would have vectors that are mathematically close to each other, while \"dog\" and \"airplane\" would be farther apart. This allows AI systems to understand relationships and similarities between different pieces of content, making them essential for tasks like search, recommendation systems, and retrieval-augmented generation (RAG).\n",
    "\n",
    "![Image](../../images/vector-embeddings.png)\n",
    "\n",
    "*Image courtesy of [Qdrant](https://medium.com/@qdrant/what-are-vector-embeddings-a7bda215702d)*"
   ]
  },
  {
   "cell_type": "code",
   "execution_count": 1,
   "id": "77e2c227",
   "metadata": {},
   "outputs": [],
   "source": [
    "import os\n",
    "import glob\n",
    "import gradio as gr\n",
    "import numpy as np\n",
    "from openai import OpenAI\n",
    "from dotenv import load_dotenv\n",
    "from IPython.display import Markdown, display\n",
    "\n",
    "# langchain libriaries\n",
    "from langchain.document_loaders import DirectoryLoader, TextLoader\n",
    "from langchain.text_splitter import CharacterTextSplitter\n",
    "from langchain.schema import Document\n",
    "from langchain_openai import OpenAIEmbeddings, ChatOpenAI\n",
    "from langchain_chroma import Chroma\n",
    "\n",
    "load_dotenv()\n",
    "\n",
    "OPENAI_API_KEY = os.getenv(\"OPENAI_API_KEY\")\n",
    "\n",
    "if OPENAI_API_KEY is None:\n",
    "    raise Exception(\"API key is missing\")"
   ]
  },
  {
   "cell_type": "markdown",
   "id": "4303a43e",
   "metadata": {},
   "source": [
    "## Step 1: Load your documents\n",
    "\n",
    "**Note:** There are other documents you can load in using LangChain. LangChain with its [DocumentLoaders](https://python.langchain.com/docs/concepts/document_loaders/) allows you to ingest data from a variety of sources like:\n",
    "- csv\n",
    "- xlsx\n",
    "- PDF\n",
    "- Webpages\n",
    "- Cloud Providers like AWS/Azure/GCP"
   ]
  },
  {
   "cell_type": "code",
   "execution_count": 2,
   "id": "b3b95463",
   "metadata": {},
   "outputs": [],
   "source": [
    "\n",
    "folders = glob.glob(\"docs/*\")\n",
    "\n",
    "# load in all the txt files in the directory\n",
    "documents = []\n",
    "for folder in folders:\n",
    "    doc_type = os.path.basename(folder)\n",
    "    loader = DirectoryLoader(\n",
    "        path=folder,\n",
    "        glob=\"**/*.txt\",\n",
    "        loader_cls=TextLoader,\n",
    "        loader_kwargs={\"encoding\": \"utf-8\"}\n",
    "    )\n",
    "    folder_docs = loader.load()\n",
    "    for doc in folder_docs:\n",
    "        doc.metadata[\"doc_type\"] = doc_type\n",
    "    documents.extend(folder_docs)\n",
    "\n",
    "# load the documents\n",
    "# documents = loader.load()"
   ]
  },
  {
   "cell_type": "code",
   "execution_count": 3,
   "id": "d105a77c",
   "metadata": {},
   "outputs": [
    {
     "data": {
      "text/plain": [
       "[Document(metadata={'source': 'docs/services/intellectual-property.txt', 'doc_type': 'services'}, page_content='The Intellectual Property & Technology team, led by Sarah Chen, provides comprehensive IP protection strategies including patent prosecution, trademark enforcement, software licensing, and data privacy law. Clients range from tech startups to Fortune 500 firms.'),\n",
       " Document(metadata={'source': 'docs/services/employment-law.txt', 'doc_type': 'services'}, page_content='David Thompson heads the Employment Law & Labor Relations practice, representing management in wage and hour disputes, harassment claims, union issues, and employment aspects of corporate deals. Our team helps employers stay compliant and mitigate legal risks.'),\n",
       " Document(metadata={'source': 'docs/services/litigation-and-dispute-resolution.txt', 'doc_type': 'services'}, page_content='Our litigation team handles high-stakes commercial disputes, class actions, and white-collar defense. Led by Alexandra Sterling, we are known for courtroom excellence and effective dispute resolution strategies including arbitration and mediation.'),\n",
       " Document(metadata={'source': 'docs/services/corporate-law.txt', 'doc_type': 'services'}, page_content='Our Corporate Law group advises clients on mergers and acquisitions, joint ventures, private equity, and regulatory compliance. Led by Senior Partner Marcus Rodriguez, the team handles multi-billion dollar deals and cross-border transactions with precision and strategic insight.'),\n",
       " Document(metadata={'source': 'docs/services/real-estate-law.txt', 'doc_type': 'services'}, page_content='The Real Estate & Construction practice, spearheaded by Jennifer Hayes, handles complex acquisitions, zoning and land use, construction litigation, and lease negotiations for developers, institutions, and high-net-worth clients.'),\n",
       " Document(metadata={'source': 'docs/employees/David Thompson.txt', 'doc_type': 'employees'}, page_content='STERLING & ASSOCIATES LAW GROUP - ATTORNEY RECORD\\n===============================================\\n\\nAttorney ID: SAL-035\\nName: David Michael Thompson\\nPosition: Partner - Employment Law & Labor Relations\\nDepartment: Employment & Labor\\nBar Admission: New York (2008), New Jersey (2009), Connecticut (2010)\\nHire Date: June 1, 2008\\n\\nPROFESSIONAL BACKGROUND:\\n------------------------\\n\\nCurrent Position (2018 - Present):\\nPartner - Employment Law & Labor Relations\\n- Leads firm\\'s employment law and labor relations practice\\n- Represents management in complex employment disputes\\n- Handles class action employment litigation defense\\n- Manages team of 8 attorneys and 4 paralegals\\n- Annual billable target: 1,950 hours (averages 2,200 hours)\\n\\nPrevious Position (2013 - 2018):\\nSenior Associate - Employment Law\\n- Specialized in employment litigation and compliance\\n- Developed expertise in wage and hour disputes\\n- Built reputation for successful trial outcomes\\n- Led major discrimination and harassment defense cases\\n\\nPrevious Position (2008 - 2013):\\nAssociate - Employment Law\\n- Started in employment law group after law school\\n- Gained experience in all aspects of employment law\\n- Handled EEOC investigations and administrative proceedings\\n\\nPre-Law Experience:\\nHuman Resources Manager - Metropolitan Insurance Group (2004-2005)\\n- Managed HR operations for 500+ employee division\\n- Gained practical experience in employment issues\\n\\nEDUCATION:\\n----------\\n- Juris Doctor (J.D.), Fordham University School of Law (2008)\\n  - Fordham Law Review, Senior Editor\\n  - Labor and Employment Law Clinic\\n  - Dean\\'s List, Magna Cum Laude\\n- Master of Arts in Industrial Relations, Cornell University (2003)\\n  - School of Industrial and Labor Relations\\n  - Thesis: \"Union Avoidance Strategies in Modern Corporations\"\\n- Bachelor of Arts in Economics, Princeton University (2001)\\n  - Cum Laude, Economics Honor Society\\n\\nSPECIALIZATIONS:\\n----------------\\n- Employment Litigation Defense\\n- Wage and Hour Compliance and Litigation\\n- Discrimination and Harassment Defense\\n- Executive Compensation and Severance\\n- Labor Relations and Union Avoidance\\n- Workplace Policy Development\\n- Employment Aspects of M&A\\n- ERISA and Benefits Litigation\\n\\nNOTABLE CASES & MATTERS:\\n------------------------\\n- Successfully defended $85M class action wage and hour lawsuit (2023)\\n- Victory in landmark discrimination case: Martinez v. Global Financial Corp (2022)\\n- Negotiated favorable settlement in harassment class action (2021)\\n- Led union avoidance campaign at manufacturing facility (2021)\\n- Defended executive in high-profile wrongful termination case (2020)\\n\\nPROFESSIONAL ACHIEVEMENTS:\\n--------------------------\\n- Chambers USA \"Leading Individual\" - Employment (2020-2023)\\n- Best Lawyers \"Employment Law - Management\" (2019-2023)\\n- Super Lawyers \"Top 100 New York\" (2021-2023)\\n- Lawdragon \"500 Leading Lawyers in America\" (2022)\\n- New York Law Journal \"Distinguished Leader\" (2020)\\n\\nTRIAL & LITIGATION RECORD:\\n--------------------------\\n- Jury Trials: 15+ with 87% success rate for clients\\n- Arbitrations: 40+ proceedings with favorable outcomes\\n- EEOC Charges Handled: 200+ successful resolutions\\n- Class Actions Defended: 12 major cases (all favorable outcomes)\\n- Appeals: 8 appellate victories in state and federal courts\\n\\nBAR ASSOCIATIONS & MEMBERSHIPS:\\n-------------------------------\\n- New York State Bar Association (Labor & Employment Section Chair, 2021-2022)\\n- American Bar Association (Section of Labor & Employment Law)\\n- New York City Bar Association\\n- Society for Human Resource Management (SHRM) - Legal Advisory Board\\n- International Association of Defense Counsel\\n\\nPUBLICATIONS & SPEAKING:\\n------------------------\\n- \"Post-Pandemic Workplace: Legal Challenges and Solutions\" - Employment Law Quarterly (2023)\\n- \"Defending Wage and Hour Class Actions in the Modern Era\" - ABA Labor & Employment Law (2022)\\n- Co-author: \"Employment Law Compliance Handbook\" (5th Edition, 2021)\\n- Regular speaker at SHRM conferences and employment law seminars\\n- Faculty member: PLI Employment Law Institute\\n\\nCOMMUNITY INVOLVEMENT:\\n----------------------\\n- Board of Directors, Legal Aid Society Employment Law Unit\\n- Volunteer attorney, Veterans Legal Clinic (employment issues)\\n- Advisory Board, Fordham Law School Employment Law Program\\n- Pro Bono coordinator for workplace discrimination cases\\n\\nPERSONAL INFORMATION:\\n---------------------\\nOffice: 42nd Floor\\nDirect Phone: (212) 555-0142\\nEmail: dthompson@sterlinglaw.com\\nBar Numbers: NY-5839274, NJ-7462851, CT-4859372\\nMalpractice Insurance: $10M coverage\\n\\nBILLING INFORMATION:\\n--------------------\\nStandard Hourly Rate: $950\\nTrial/Hearing Rate: $1,100\\nClass Action Defense Rate: $1,050\\nTraining/Consulting Rate: $850\\nAnnual Billings (2023): $2.1 million\\nRealization Rate: 95%\\n\\nCLIENT BASE:\\n------------\\n- Fortune 500 corporations (HR and legal departments)\\n- Mid-market companies (200-5,000 employees)\\n- Private equity portfolio companies\\n- Healthcare organizations\\n- Financial services firms\\n- Technology and startup companies\\n\\nTRAINING & CERTIFICATIONS:\\n--------------------------\\n- Advanced Trial Advocacy - Harvard Law School (2019)\\n- Employment Law Update - Annual CLE (2008-2023)\\n- Workplace Investigation Certification - SHRM (2020)\\n- Mediation Training Certificate - CPR Institute (2018)\\n- Executive Compensation Compliance - Tax and Legal (2017)\\n\\nANNUAL REVIEWS:\\n---------------\\n2023: \"Outstanding partner performance with exceptional client development and case results.\"\\n2022: \"Successfully managed largest employment class action in firm history with favorable outcome.\"\\n2021: \"Strong leadership of employment practice group during challenging year for employers.\"\\n\\nPROFESSIONAL RECOGNITION:\\n--------------------------\\n- Martindale-Hubbell AV Preeminent Rating\\n- Benchmark Litigation \"Local Litigation Star\" (2020-2023)\\n- Who\\'s Who Legal \"Labour & Employment\" (2021-2023)\\n- Legal 500 \"Leading Individual\" - Employment\\n- Best of the Best - Human Resources Executive Magazine (2022)\\n\\nINDUSTRY INVOLVEMENT:\\n---------------------\\n- Advisory Board Member - HR Executive Council\\n- Regular contributor to Bloomberg Law Employment Brief\\n- Expert witness in employment law matters\\n- Consultant to management on employment law strategy\\n'),\n",
       " Document(metadata={'source': 'docs/employees/Jennifer Hayes.txt', 'doc_type': 'employees'}, page_content='STERLING & ASSOCIATES LAW GROUP - ATTORNEY RECORD\\n===============================================\\n\\nAttorney ID: SAL-043\\nName: Jennifer Marie Hayes\\nPosition: Associate - Real Estate & Construction Law\\nDepartment: Real Estate & Construction\\nBar Admission: New York (2020), New Jersey (2021)\\nHire Date: October 15, 2020\\n\\nPROFESSIONAL BACKGROUND:\\n------------------------\\n\\nCurrent Position (2022 - Present):\\nAssociate - Real Estate & Construction Law\\n- Handles complex commercial real estate transactions\\n- Specializes in construction contract negotiation and disputes\\n- Assists with zoning and land use matters\\n- Manages due diligence for real estate acquisitions\\n- Annual billable target: 2,000 hours (consistently meets targets)\\n\\nPrevious Position (2020 - 2022):\\nJunior Associate - Real Estate\\n- Started in real estate transactions group\\n- Gained experience in residential and commercial closings\\n- Assisted with lease negotiations and property management issues\\n- Developed expertise in title insurance and survey matters\\n\\nPre-Law Experience (2017 - 2020):\\nProject Coordinator - Meridian Construction Group\\n- Coordinated large-scale commercial construction projects\\n- Managed contractor relationships and permit processes\\n- Gained practical understanding of construction industry\\n\\nEDUCATION:\\n----------\\n- Juris Doctor (J.D.), Brooklyn Law School (2020)\\n  - Real Estate Law Society, President\\n  - Brooklyn Law Review, Staff Editor\\n  - Graduated Magna Cum Laude\\n  - Real Estate Law Clinic Participant\\n- Master of Urban Planning (MUP), Hunter College (2017)\\n  - Specialization in Land Use and Zoning\\n  - Graduate Research Assistant\\n- Bachelor of Science in Civil Engineering, Cooper Union (2015)\\n  - Dean\\'s List, Engineering Honor Society\\n  - Senior Design Project: Sustainable Urban Development\\n\\nTECHNICAL EXPERTISE:\\n--------------------\\n- Civil Engineering and Construction Methods\\n- Urban Planning and Zoning Regulations\\n- Environmental Impact Assessment\\n- Project Management and Scheduling\\n- CAD Software and Blueprint Reading\\n- Construction Cost Estimation\\n- Building Codes and Safety Regulations\\n\\nSPECIALIZATIONS:\\n----------------\\n- Commercial Real Estate Transactions\\n- Construction Contract Negotiation\\n- Zoning and Land Use Applications\\n- Construction Defect Litigation\\n- Environmental Due Diligence\\n- Real Estate Development Projects\\n- Landlord-Tenant Disputes\\n- Condominium and Cooperative Law\\n\\nNOTABLE MATTERS:\\n----------------\\n- Represented developer in $150M mixed-use project (2023)\\n- Negotiated construction contracts for $85M office building (2023)\\n- Successfully resolved construction defect claim saving client $12M (2022)\\n- Handled zoning variance application for major retail development (2022)\\n- Assisted in due diligence for $200M real estate portfolio acquisition (2021)\\n\\nPROFESSIONAL DEVELOPMENT:\\n--------------------------\\n- \"Rising Star\" - Super Lawyers New York (2023)\\n- \"Best Lawyers: Ones to Watch\" - Real Estate Law (2023)\\n- New York State Bar Association \"Outstanding Young Lawyer\" Nominee (2022)\\n- Brooklyn Law School \"Alumni Achievement Award\" (2021)\\n\\nTRANSACTION VOLUME:\\n-------------------\\n- Real Estate Transactions Closed: 85+ (total value $1.2B)\\n- Construction Contracts Negotiated: 40+ projects\\n- Zoning Applications: 15 successful approvals\\n- Lease Agreements: 120+ commercial and residential\\n- Due Diligence Projects: 25 major transactions\\n\\nBAR ASSOCIATIONS & MEMBERSHIPS:\\n-------------------------------\\n- New York State Bar Association (Real Estate Law Section)\\n- New York City Bar Association\\n- Real Estate Board of New York (Associate Member)\\n- American College of Real Estate Lawyers (Candidate Member)\\n- Women\\'s Bar Association of the State of New York\\n\\nPUBLICATIONS & SPEAKING:\\n------------------------\\n- \"Construction Law in Post-COVID Commercial Development\" - Real Estate Law Journal (2023)\\n- \"Zoning Challenges in Urban Infill Development\" - Brooklyn Law Review (2022)\\n- \"Environmental Due Diligence Best Practices\" - New York Law Journal (2021)\\n- Speaker at NY Real Estate Bar Association annual conference\\n- Panelist on construction law topics at industry events\\n\\nCOMMUNITY INVOLVEMENT:\\n----------------------\\n- Volunteer attorney, Legal Aid Society Housing Unit\\n- Board Member, Habitat for Humanity NYC (Legal Advisory)\\n- Mentor, Brooklyn Law School Real Estate Law Society\\n- Pro Bono housing law services (40+ hours annually)\\n\\nPERSONAL INFORMATION:\\n---------------------\\nOffice: 35th Floor\\nDirect Phone: (212) 555-0135\\nEmail: jhayes@sterlinglaw.com\\nBar Numbers: NY-8475962, NJ-9472851\\nMalpractice Insurance: $3M coverage\\n\\nBILLING INFORMATION:\\n--------------------\\nStandard Hourly Rate: $475\\nConstruction Law Rate: $525\\nComplex Transaction Rate: $500\\nDue Diligence Rate: $450\\nAnnual Billings (2023): $950,000\\nRealization Rate: 94%\\n\\nCLIENT PORTFOLIO:\\n-----------------\\n- Real estate developers and investors\\n- Construction companies and general contractors\\n- Commercial property owners and managers\\n- Institutional real estate funds\\n- Municipal agencies and authorities\\n- Individual high-net-worth real estate investors\\n\\nCONTINUING EDUCATION:\\n---------------------\\n- Advanced Real Estate Finance Seminar (2023)\\n- Construction Law Update - ABA Section (2023)\\n- Environmental Law in Real Estate Transactions (2022)\\n- Zoning and Land Use Law Certificate Program (2021)\\n- Title Insurance and Survey Issues Workshop (2021)\\n\\nCERTIFICATIONS & LICENSES:\\n---------------------------\\n- New York Real Estate Salesperson License (2021)\\n- LEED Green Associate Certification (2018)\\n- Project Management Professional (PMP) Candidate\\n- Notary Public - New York State (2020)\\n\\nANNUAL REVIEWS:\\n---------------\\n2023: \"Strong performance handling increasingly complex matters. Shows excellent judgment and client service.\"\\n2022: \"Successful transition to mid-level associate responsibilities. Clients consistently praise her work.\"\\n2021: \"Outstanding first year performance. Quickly established herself as valuable team member.\"\\n\\nLANGUAGES:\\n----------\\n- English (Native)\\n- Spanish (Conversational)\\n- Italian (Basic)\\n\\nPROFESSIONAL RECOGNITION:\\n--------------------------\\n- Client Choice Award - International Law Office (2023)\\n- \"Future Leader\" - Commercial Observer Real Estate Awards (2022)\\n- Excellence in Client Service - Sterling & Associates (2021, 2022)\\n- Brooklyn Law School \"Outstanding Graduate\" (2020)\\n\\nINDUSTRY INVOLVEMENT:\\n---------------------\\n- Member, Real Estate Finance Association\\n- Associate Member, Urban Land Institute (ULI)\\n- Regular attendee, International Council of Shopping Centers events\\n- Volunteer, New York Building Congress educational programs\\n\\nTECHNICAL SKILLS:\\n-----------------\\n- Legal research platforms (Westlaw, LexisNexis)\\n- Real estate software (RealtiGIS, PropertyShark)\\n- Document review platforms\\n- Construction project management software\\n- Financial modeling for real estate projects\\n'),\n",
       " Document(metadata={'source': 'docs/employees/Marcus Rodriguez.txt', 'doc_type': 'employees'}, page_content='STERLING & ASSOCIATES LAW GROUP - ATTORNEY RECORD\\n===============================================\\n\\nAttorney ID: SAL-012\\nName: Marcus Antonio Rodriguez\\nPosition: Senior Partner - Corporate Law & M&A\\nDepartment: Corporate & Securities\\nBar Admission: New York (2001), Delaware (2002), California (2005)\\nHire Date: August 3, 2001\\n\\nPROFESSIONAL BACKGROUND:\\n------------------------\\n\\nCurrent Position (2012 - Present):\\nSenior Partner - Corporate Law & M&A\\n- Leads the firm\\'s mergers and acquisitions practice group\\n- Handles complex corporate restructurings and joint ventures\\n- Manages team of 12 attorneys in corporate transactions\\n- Annual billable target: 2,000 hours (averages 2,300 hours)\\n- Generated $15.2M in revenue for firm (2023)\\n\\nPrevious Position (2008 - 2012):\\nPartner - Corporate Law\\n- Developed expertise in venture capital and private equity transactions\\n- Built strong relationships with investment banking community\\n- Led successful IPO representations for 8 companies\\n\\nPrevious Position (2001 - 2008):\\nAssociate to Senior Associate\\n- Started in corporate securities group\\n- Rapidly advanced through associate ranks\\n- Made partner in 7 years (firm record at the time)\\n\\nEDUCATION:\\n----------\\n- Juris Doctor (J.D.), Stanford Law School (2001)\\n  - Stanford Law Review, Executive Editor\\n  - Order of the Coif\\n  - Cum Laude\\n- Master of Business Administration (MBA), Wharton School (1997)\\n  - Finance Concentration\\n- Bachelor of Science in Economics, University of Chicago (1995)\\n  - Phi Beta Kappa\\n\\nSPECIALIZATIONS:\\n----------------\\n- Mergers & Acquisitions\\n- Private Equity and Venture Capital\\n- Securities Offerings (IPOs, Secondary Offerings)\\n- Corporate Governance\\n- Joint Ventures and Strategic Alliances\\n- Cross-Border Transactions\\n- SPAC Transactions\\n\\nMAJOR TRANSACTIONS (2023):\\n--------------------------\\n- Advised TechVision Corp on $4.2B acquisition by Global Systems Inc.\\n- Represented Quantum Ventures in $850M fund formation\\n- Led IPO of BioPharma Solutions ($1.1B offering)\\n- Structured joint venture between European Energy and American Power\\n- Advised on SPAC merger creating $2.8B public company\\n\\nPROFESSIONAL ACHIEVEMENTS:\\n--------------------------\\n- Chambers USA \"Leading Individual\" - Corporate/M&A (2015-2023)\\n- IFLR1000 \"Highly Regarded\" - M&A and Corporate (2018-2023)\\n- Legal 500 \"Recommended Lawyer\" - Corporate and M&A\\n- Lawdragon \"500 Leading Dealmakers\" (2020-2023)\\n- Hispanic National Bar Association \"Attorney of the Year\" (2019)\\n\\nTRANSACTION VOLUME:\\n-------------------\\nCareer Total: Over $85 billion in transaction value\\n2023 Deals: $12.4 billion across 47 transactions\\nAverage Deal Size: $850 million\\nIPO Experience: 23 successful public offerings\\nPrivate Equity: $18 billion in PE transactions\\n\\nBAR ASSOCIATIONS & MEMBERSHIPS:\\n-------------------------------\\n- American Bar Association (Business Law Section)\\n- New York State Bar Association\\n- Association of the Bar of the City of New York\\n- Hispanic National Bar Association (Former Board Member)\\n- International Bar Association\\n\\nPUBLICATIONS & SPEAKING:\\n------------------------\\n- \"Private Equity Trends in Post-COVID M&A\" - Harvard Business Review (2023)\\n- \"SPAC Revolution: Legal and Strategic Considerations\" - Columbia Law Review (2022)\\n- Co-author: \"Modern M&A Practice\" (3rd Edition, West Academic, 2021)\\n- Regular speaker at M&A conferences and private equity summits\\n\\nLANGUAGES:\\n----------\\n- English (Native)\\n- Spanish (Fluent)\\n- Portuguese (Conversational)\\n\\nCOMMUNITY INVOLVEMENT:\\n----------------------\\n- Board Member, Latino Business Association of New York\\n- Advisory Board, Stanford Law School Center for Corporate Governance\\n- Mentor, Hispanic Bar Association Student Program\\n- Pro Bono: Small business legal clinic (50+ hours annually)\\n\\nPERSONAL INFORMATION:\\n---------------------\\nOffice: 45th Floor, Corner Office\\nDirect Phone: (212) 555-0125\\nEmail: mrodriguez@sterlinglaw.com\\nBar Numbers: NY-4729583, DE-1847295, CA-9472851\\nMalpractice Insurance: $25M coverage (given transaction values)\\n\\nBILLING INFORMATION:\\n--------------------\\nStandard Hourly Rate: $1,150\\nComplex Transaction Rate: $1,300\\nDue Diligence Rate: $1,000\\nAnnual Billings (2023): $2.6 million\\nRealization Rate: 98%\\n\\nCLIENT BASE:\\n------------\\n- Fortune 500 corporations (15 regular clients)\\n- Private equity funds ($500M+ AUM)\\n- Investment banks and financial institutions\\n- Emerging growth companies\\n- Family offices and high-net-worth individuals\\n\\nANNUAL REVIEWS:\\n---------------\\n2023: \"Outstanding year with record-breaking transaction volume and client development.\"\\n2022: \"Exceptional leadership of corporate group during challenging market conditions.\"\\n2021: \"Successful navigation of complex regulatory environment in M&A transactions.\"\\n\\nPROFESSIONAL DEVELOPMENT:\\n--------------------------\\n- Director\\'s Education Institute, Stanford Graduate School of Business (2023)\\n- Advanced M&A Institute, Wharton Executive Education (2020)\\n- International M&A Conference, London Business School (Annual attendee)\\n- Private Equity Masterclass, Harvard Business School (2019)\\n'),\n",
       " Document(metadata={'source': 'docs/employees/Sarah Chen.txt', 'doc_type': 'employees'}, page_content='STERLING & ASSOCIATES LAW GROUP - ATTORNEY RECORD\\n===============================================\\n\\nAttorney ID: SAL-027\\nName: Sarah Michelle Chen\\nPosition: Senior Associate - Intellectual Property & Technology Law\\nDepartment: Intellectual Property & Technology\\nBar Admission: New York (2018), Patent Bar (USPTO, 2019)\\nHire Date: September 10, 2018\\n\\nPROFESSIONAL BACKGROUND:\\n------------------------\\n\\nCurrent Position (2022 - Present):\\nSenior Associate - IP & Technology Law\\n- Lead attorney for intellectual property portfolio management\\n- Handles patent prosecution, trademark disputes, and licensing agreements\\n- Specializes in technology transfer and software licensing\\n- Manages relationships with 25+ technology clients\\n- Annual billable target: 2,100 hours (consistently exceeds)\\n\\nPrevious Position (2018 - 2022):\\nAssociate - IP & Technology Law\\n- Started in patent prosecution and IP due diligence\\n- Developed expertise in DMCA compliance and privacy law\\n- Built practice in cryptocurrency and blockchain IP issues\\n- Rapidly promoted to senior associate level\\n\\nPre-Law Experience (2015 - 2018):\\nSoftware Engineer - Google\\n- Full-stack developer on machine learning platforms\\n- Led development of internal IP management tools\\n- Gained deep technical understanding of software systems\\n\\nEDUCATION:\\n----------\\n- Juris Doctor (J.D.), New York University School of Law (2018)\\n  - NYU Law Review, Staff Editor\\n  - Technology Law & Policy Clinic\\n  - Graduated Cum Laude\\n- Master of Science in Computer Science, MIT (2015)\\n  - Artificial Intelligence Specialization\\n  - Graduate Research Assistant\\n- Bachelor of Science in Electrical Engineering, UC Berkeley (2013)\\n  - Magna Cum Laude\\n  - IEEE Honor Society\\n\\nTECHNICAL EXPERTISE:\\n--------------------\\n- Software Development (Python, Java, C++, JavaScript)\\n- Machine Learning and AI Systems\\n- Blockchain and Cryptocurrency Technologies\\n- Cloud Computing and SaaS Platforms\\n- Cybersecurity and Data Privacy\\n- Patent Analysis and Prior Art Searching\\n- Technical Due Diligence\\n\\nSPECIALIZATIONS:\\n----------------\\n- Patent Prosecution and Portfolio Management\\n- Trademark Registration and Enforcement\\n- Software and Technology Licensing\\n- Open Source Compliance\\n- Data Privacy and GDPR Compliance\\n- Cryptocurrency and Blockchain Law\\n- AI and Machine Learning IP Issues\\n- Trade Secret Protection\\n\\nNOTABLE MATTERS:\\n----------------\\n- Led patent portfolio strategy for $2.8B acquisition (2023)\\n- Defended major tech client in $150M patent infringement case (2023)\\n- Negotiated $45M software licensing deal for Fortune 100 company (2022)\\n- Successfully invalidated competitor patents in PTAB proceedings (2022)\\n- Advised on GDPR compliance for multi-national e-commerce platform (2021)\\n\\nPROFESSIONAL ACHIEVEMENTS:\\n--------------------------\\n- \"Rising Star\" - Super Lawyers (2022, 2023)\\n- \"Best Lawyers: Ones to Watch\" - Technology Law (2023)\\n- \"40 Under 40\" - National Law Journal (2023)\\n- Patent Prosecution Excellence Award - USPTO (2022)\\n- Women in IP Law Leadership Award (2021)\\n\\nPATENT STATISTICS:\\n------------------\\n- Patent Applications Filed: 180+\\n- Patents Granted: 145+\\n- PTAB Proceedings: 12 (10 successful outcomes)\\n- Patent Families Managed: 45+ (various technology sectors)\\n- Average Prosecution Time: 18 months (industry average: 24 months)\\n\\nBAR ASSOCIATIONS & MEMBERSHIPS:\\n-------------------------------\\n- New York Intellectual Property Law Association (Board Member)\\n- American Intellectual Property Law Association\\n- International Trademark Association\\n- Women in IP Law\\n- Asian Pacific American Bar Association of New York\\n\\nPUBLICATIONS & SPEAKING:\\n------------------------\\n- \"AI and Patent Law: Navigating the New Frontier\" - Stanford Technology Law Review (2023)\\n- \"Blockchain IP Strategy for Enterprises\" - Berkeley Technology Law Journal (2022)\\n- \"Open Source Compliance in M&A Transactions\" - IP Law360 (2022)\\n- Regular speaker at IP conferences and technology law symposiums\\n- Guest lecturer at NYU Law School IP clinic\\n\\nLANGUAGES:\\n----------\\n- English (Native)\\n- Mandarin Chinese (Native)\\n- Korean (Conversational)\\n\\nCOMMUNITY INVOLVEMENT:\\n----------------------\\n- Volunteer Attorney, Lawyers for the Creative Arts\\n- Mentor, Girls Who Code (Legal and IP education)\\n- Board Member, Asian American Bar Association Scholarship Fund\\n- Pro Bono IP services for nonprofit organizations\\n\\nPERSONAL INFORMATION:\\n---------------------\\nOffice: 38th Floor\\nDirect Phone: (212) 555-0138\\nEmail: schen@sterlinglaw.com\\nBar Numbers: NY-7859432, USPTO-89472\\nMalpractice Insurance: $5M coverage\\n\\nBILLING INFORMATION:\\n--------------------\\nStandard Hourly Rate: $650\\nPatent Prosecution Rate: $550\\nComplex IP Litigation Rate: $750\\nTechnical Consulting Rate: $800\\nAnnual Billings (2023): $1.4 million\\nRealization Rate: 96%\\n\\nCLIENT PORTFOLIO:\\n-----------------\\n- Technology startups and scale-ups\\n- Fortune 500 technology companies\\n- Pharmaceutical and biotech companies\\n- Financial services (fintech focus)\\n- Gaming and entertainment companies\\n- Open source software foundations\\n\\nCONTINUING EDUCATION:\\n---------------------\\n- Advanced Patent Prosecution Strategies (2023)\\n- AI and Machine Learning Legal Issues Seminar (2023)\\n- International IP Enforcement Workshop (2022)\\n- Blockchain and Cryptocurrency Law Certificate (2021)\\n- Privacy Law and GDPR Compliance Training (2021)\\n\\nANNUAL REVIEWS:\\n---------------\\n2023: \"Exceptional technical knowledge combined with strong legal skills. Client feedback consistently outstanding.\"\\n2022: \"Successful transition to senior associate level. Leading complex matters with confidence.\"\\n2021: \"Strong business development and excellent client relationships. Exceeds billable hour targets.\"\\n\\nAWARDS & RECOGNITION:\\n---------------------\\n- Client Choice Award - International Law Office (2023)\\n- \"Future Star\" - Benchmark Litigation (2022)\\n- Excellence in Pro Bono Service - Sterling & Associates (2021, 2022)\\n- Technical Innovation Award - NYIPLA (2020)\\n'),\n",
       " Document(metadata={'source': 'docs/employees/Alexandra Sterling.txt', 'doc_type': 'employees'}, page_content='STERLING & ASSOCIATES LAW GROUP - ATTORNEY RECORD\\n===============================================\\n\\nAttorney ID: SAL-001\\nName: Alexandra Catherine Sterling\\nPosition: Managing Partner & Senior Litigation Attorney\\nDepartment: Corporate Litigation\\nBar Admission: New York (1995), Pennsylvania (1996), Federal Courts (1997)\\nHire Date: January 15, 1995 (Founding Partner)\\n\\nPROFESSIONAL BACKGROUND:\\n------------------------\\n\\nCurrent Position (1995 - Present):\\nManaging Partner & Senior Litigation Attorney\\n- Founded Sterling & Associates Law Group in 1995\\n- Leads high-stakes corporate litigation and white-collar defense\\n- Manages firm operations and strategic direction\\n- Oversees 45+ attorneys and 80+ support staff\\n- Annual billable target: 1,800 hours (consistently exceeds 2,100 hours)\\n\\nEDUCATION:\\n----------\\n- Juris Doctor (J.D.), Harvard Law School (1994)\\n  - Harvard Law Review, Senior Editor\\n  - Magna Cum Laude\\n  - Order of the Coif\\n- Bachelor of Arts in Political Science, Yale University (1991)\\n  - Phi Beta Kappa\\n  - Summa Cum Laude\\n\\nSPECIALIZATIONS:\\n----------------\\n- Complex Commercial Litigation\\n- Securities Fraud Defense\\n- White-Collar Criminal Defense\\n- Mergers & Acquisitions Disputes\\n- Class Action Defense\\n- Corporate Governance\\n- Regulatory Compliance\\n\\nNOTABLE CASES:\\n--------------\\n- Meridian Industries v. TechGlobal Corp. - $2.8B acquisition dispute (2023)\\n- SEC v. Harrison Financial Group - Securities fraud defense, charges dismissed (2022)\\n- Blackstone Pharmaceuticals class action defense - Favorable settlement (2021)\\n- Commonwealth v. Reynolds Energy - Environmental compliance victory (2020)\\n- Patterson Industries insider trading defense - Not guilty verdict (2019)\\n\\nPROFESSIONAL ACHIEVEMENTS:\\n--------------------------\\n- Super Lawyers \"Top 100\" for 15 consecutive years (2009-2023)\\n- Best Lawyers \"Lawyer of the Year\" - Commercial Litigation (2020, 2018)\\n- Chambers USA \"Star Individual\" - Litigation (2015-2023)\\n- American Bar Association \"Outstanding Trial Lawyer\" Award (2017)\\n- New York Law Journal \"Top Women in Law\" (2019)\\n\\nBAR ASSOCIATIONS & MEMBERSHIPS:\\n-------------------------------\\n- New York State Bar Association (Board of Directors, 2018-2021)\\n- American Bar Association (Litigation Section, Former Chair)\\n- Federal Bar Association\\n- New York City Bar Association\\n- International Association of Defense Counsel\\n\\nPUBLICATIONS & SPEAKING:\\n------------------------\\n- \"Strategic Defense in Complex Securities Litigation\" - Harvard Law Review (2022)\\n- \"Corporate Governance in Crisis Management\" - Yale Law Journal (2021)\\n- Regular speaker at ABA conferences and CLE programs\\n- Guest lecturer at Harvard and Columbia Law Schools\\n\\nCOMMUNITY INVOLVEMENT:\\n----------------------\\n- Board Chair, New York Legal Aid Society (2019-Present)\\n- Trustee, Children\\'s Cancer Research Foundation (2015-Present)\\n- Pro Bono Coordinator, Immigration Rights Project\\n- Mentor, Women in Law Leadership Program\\n\\nPERSONAL INFORMATION:\\n---------------------\\nOffice: Corner Office, 47th Floor, Sterling Tower\\nDirect Phone: (212) 555-0101\\nEmail: asterling@sterlinglaw.com\\nBar Numbers: NY-2847519, PA-8294751\\nMalpractice Insurance: $10M coverage\\n\\nBILLING INFORMATION:\\n--------------------\\nStandard Hourly Rate: $1,250\\nPremium Client Rate: $1,400\\nExpert Witness Rate: $1,500\\nAnnual Billings (2023): $2.8 million\\nRealization Rate: 97%\\n\\nANNUAL REVIEWS:\\n---------------\\n2023: \"Exceptional leadership and outstanding client results. Firm revenue increased 18% under her guidance.\"\\n2022: \"Successfully navigated challenging market conditions while maintaining firm profitability.\"\\n2021: \"Outstanding trial victories and strategic firm growth. Expanded west coast presence.\"\\n\\nAWARDS & RECOGNITION:\\n---------------------\\n- Martindale-Hubbell AV Preeminent Rating\\n- Chambers Global \"Leading Individual\" \\n- Legal 500 \"Hall of Fame\" Lawyer\\n- Who\\'s Who Legal \"Litigation Star\"\\n- BTI Client Service All-Star (2020-2023)\\n'),\n",
       " Document(metadata={'source': 'docs/about/mission-statement.txt', 'doc_type': 'about'}, page_content=\"Our mission at Sterling & Associates is to provide world-class legal representation with integrity, precision, and an unwavering commitment to client success. We strive to be trusted advisors and formidable advocates, protecting our clients' interests with excellence in every engagement.\"),\n",
       " Document(metadata={'source': 'docs/about/leadership-team.txt', 'doc_type': 'about'}, page_content='Our leadership team includes some of the most respected legal minds in the profession:\\n\\n- Alexandra Sterling, Managing Partner & Founder – Corporate Litigation\\n- Marcus Rodriguez, Senior Partner – Corporate Law & M&A\\n- David Thompson, Partner – Employment Law & Labor Relations\\n- Sarah Chen, Senior Associate – Intellectual Property & Technology Law\\n- Jennifer Hayes, Associate – Real Estate & Construction Law\\n\\nEach leader brings deep expertise, mentorship, and strategic insight to our firm.'),\n",
       " Document(metadata={'source': 'docs/about/company-history.txt', 'doc_type': 'about'}, page_content='Sterling & Associates was established in 1995 by Harvard Law graduate Alexandra Sterling. Beginning as a boutique litigation firm, we quickly expanded into corporate law, employment, and real estate. In 2001, we opened our West Coast branch, followed by a technology law division in 2018.\\n    \\nToday, we continue to grow and innovate, staying ahead of legal trends and maintaining a top-tier reputation among U.S. law firms.'),\n",
       " Document(metadata={'source': 'docs/about/company-overview.txt', 'doc_type': 'about'}, page_content='Sterling & Associates Law Group is a premier litigation and transactional law firm headquartered in New York City. Founded in 1995 by Alexandra Sterling, the firm has grown into a powerhouse with over 45 attorneys and 80 support staff. Known for handling high-stakes matters across corporate, employment, intellectual property, and real estate law, the firm represents Fortune 500 clients, startups, and individuals with complex legal needs.\\n    \\nOur reputation is built on aggressive advocacy, legal innovation, and a client-first approach. With offices across major U.S. cities and international affiliations, Sterling & Associates delivers results where it matters most.'),\n",
       " Document(metadata={'source': 'docs/about/values-and-culture.txt', 'doc_type': 'about'}, page_content='At Sterling & Associates, we value:\\n\\n- Excellence: In research, advocacy, and client service\\n- Integrity: Ethical and transparent practices at every level\\n- Inclusion: A diverse workplace with equal opportunity for all\\n- Community: Pro bono service and civic involvement are core to our identity\\n- Growth: Continuous learning and career development for every team member\\n\\nWe foster a culture of collaboration, mentorship, and innovation in everything we do.')]"
      ]
     },
     "execution_count": 3,
     "metadata": {},
     "output_type": "execute_result"
    }
   ],
   "source": [
    "documents"
   ]
  },
  {
   "cell_type": "markdown",
   "id": "5ceea844",
   "metadata": {},
   "source": [
    "## Step 2: Split documents into chunks"
   ]
  },
  {
   "cell_type": "code",
   "execution_count": 4,
   "id": "bb6e1811",
   "metadata": {},
   "outputs": [],
   "source": [
    "text_splitter = CharacterTextSplitter(\n",
    "    chunk_size=1000,\n",
    "    chunk_overlap=200,\n",
    "    length_function=len\n",
    ")\n",
    "\n",
    "chunks = text_splitter.split_documents(documents)"
   ]
  },
  {
   "cell_type": "code",
   "execution_count": 5,
   "id": "ddd0f074",
   "metadata": {},
   "outputs": [
    {
     "data": {
      "text/plain": [
       "[Document(metadata={'source': 'docs/services/intellectual-property.txt', 'doc_type': 'services'}, page_content='The Intellectual Property & Technology team, led by Sarah Chen, provides comprehensive IP protection strategies including patent prosecution, trademark enforcement, software licensing, and data privacy law. Clients range from tech startups to Fortune 500 firms.'),\n",
       " Document(metadata={'source': 'docs/services/employment-law.txt', 'doc_type': 'services'}, page_content='David Thompson heads the Employment Law & Labor Relations practice, representing management in wage and hour disputes, harassment claims, union issues, and employment aspects of corporate deals. Our team helps employers stay compliant and mitigate legal risks.'),\n",
       " Document(metadata={'source': 'docs/services/litigation-and-dispute-resolution.txt', 'doc_type': 'services'}, page_content='Our litigation team handles high-stakes commercial disputes, class actions, and white-collar defense. Led by Alexandra Sterling, we are known for courtroom excellence and effective dispute resolution strategies including arbitration and mediation.'),\n",
       " Document(metadata={'source': 'docs/services/corporate-law.txt', 'doc_type': 'services'}, page_content='Our Corporate Law group advises clients on mergers and acquisitions, joint ventures, private equity, and regulatory compliance. Led by Senior Partner Marcus Rodriguez, the team handles multi-billion dollar deals and cross-border transactions with precision and strategic insight.'),\n",
       " Document(metadata={'source': 'docs/services/real-estate-law.txt', 'doc_type': 'services'}, page_content='The Real Estate & Construction practice, spearheaded by Jennifer Hayes, handles complex acquisitions, zoning and land use, construction litigation, and lease negotiations for developers, institutions, and high-net-worth clients.')]"
      ]
     },
     "execution_count": 5,
     "metadata": {},
     "output_type": "execute_result"
    }
   ],
   "source": [
    "chunks[0:5]"
   ]
  },
  {
   "cell_type": "code",
   "execution_count": 6,
   "id": "20480b58",
   "metadata": {},
   "outputs": [
    {
     "name": "stdout",
     "output_type": "stream",
     "text": [
      "Our litigation team handles high-stakes commercial disputes, class actions, and white-collar defense. Led by Alexandra Sterling, we are known for courtroom excellence and effective dispute resolution strategies including arbitration and mediation.\n",
      "{'source': 'docs/services/litigation-and-dispute-resolution.txt', 'doc_type': 'services'}\n",
      "\n",
      "\n",
      "\n",
      "STERLING & ASSOCIATES LAW GROUP - ATTORNEY RECORD\n",
      "===============================================\n",
      "\n",
      "Attorney ID: SAL-001\n",
      "Name: Alexandra Catherine Sterling\n",
      "Position: Managing Partner & Senior Litigation Attorney\n",
      "Department: Corporate Litigation\n",
      "Bar Admission: New York (1995), Pennsylvania (1996), Federal Courts (1997)\n",
      "Hire Date: January 15, 1995 (Founding Partner)\n",
      "\n",
      "PROFESSIONAL BACKGROUND:\n",
      "------------------------\n",
      "\n",
      "Current Position (1995 - Present):\n",
      "Managing Partner & Senior Litigation Attorney\n",
      "- Founded Sterling & Associates Law Group in 1995\n",
      "- Leads high-stakes corporate litigation and white-collar defense\n",
      "- Manages firm operations and strategic direction\n",
      "- Oversees 45+ attorneys and 80+ support staff\n",
      "- Annual billable target: 1,800 hours (consistently exceeds 2,100 hours)\n",
      "{'source': 'docs/employees/Alexandra Sterling.txt', 'doc_type': 'employees'}\n",
      "\n",
      "\n",
      "\n",
      "Our leadership team includes some of the most respected legal minds in the profession:\n",
      "\n",
      "- Alexandra Sterling, Managing Partner & Founder – Corporate Litigation\n",
      "- Marcus Rodriguez, Senior Partner – Corporate Law & M&A\n",
      "- David Thompson, Partner – Employment Law & Labor Relations\n",
      "- Sarah Chen, Senior Associate – Intellectual Property & Technology Law\n",
      "- Jennifer Hayes, Associate – Real Estate & Construction Law\n",
      "\n",
      "Each leader brings deep expertise, mentorship, and strategic insight to our firm.\n",
      "{'source': 'docs/about/leadership-team.txt', 'doc_type': 'about'}\n",
      "\n",
      "\n",
      "\n",
      "Sterling & Associates was established in 1995 by Harvard Law graduate Alexandra Sterling. Beginning as a boutique litigation firm, we quickly expanded into corporate law, employment, and real estate. In 2001, we opened our West Coast branch, followed by a technology law division in 2018.\n",
      "    \n",
      "Today, we continue to grow and innovate, staying ahead of legal trends and maintaining a top-tier reputation among U.S. law firms.\n",
      "{'source': 'docs/about/company-history.txt', 'doc_type': 'about'}\n",
      "\n",
      "\n",
      "\n",
      "Sterling & Associates Law Group is a premier litigation and transactional law firm headquartered in New York City. Founded in 1995 by Alexandra Sterling, the firm has grown into a powerhouse with over 45 attorneys and 80 support staff. Known for handling high-stakes matters across corporate, employment, intellectual property, and real estate law, the firm represents Fortune 500 clients, startups, and individuals with complex legal needs.\n",
      "    \n",
      "Our reputation is built on aggressive advocacy, legal innovation, and a client-first approach. With offices across major U.S. cities and international affiliations, Sterling & Associates delivers results where it matters most.\n",
      "{'source': 'docs/about/company-overview.txt', 'doc_type': 'about'}\n",
      "\n",
      "\n",
      "\n"
     ]
    }
   ],
   "source": [
    "for chunk in chunks:\n",
    "    if \"Alex\" in chunk.page_content:\n",
    "        print(chunk.page_content)\n",
    "        print(chunk.metadata)\n",
    "        print(\"\\n\\n\")"
   ]
  },
  {
   "cell_type": "markdown",
   "id": "fb4d6cbe",
   "metadata": {},
   "source": [
    "## Step 3: Generate vector embeddings for your documents"
   ]
  },
  {
   "cell_type": "code",
   "execution_count": 7,
   "id": "db0a30e0",
   "metadata": {},
   "outputs": [],
   "source": [
    "MODEL = 'gpt-4o-mini'\n",
    "embedding_model = 'text-embedding-3-large'\n",
    "db_name = \"vector_db\""
   ]
  },
  {
   "cell_type": "code",
   "execution_count": 8,
   "id": "c2782715",
   "metadata": {},
   "outputs": [],
   "source": [
    "embeddings = OpenAIEmbeddings(model=embedding_model)"
   ]
  },
  {
   "cell_type": "markdown",
   "id": "2b9a41b8",
   "metadata": {},
   "source": [
    "## Step 4: Create a vectorstore"
   ]
  },
  {
   "cell_type": "code",
   "execution_count": 9,
   "id": "70e73028",
   "metadata": {},
   "outputs": [],
   "source": [
    "# clearing out any previous vectorstores to have a fresh start\n",
    "if os.path.exists(db_name):\n",
    "    Chroma(persist_directory=db_name, embedding_function=embeddings).delete_collection()"
   ]
  },
  {
   "cell_type": "code",
   "execution_count": 10,
   "id": "41024dcc",
   "metadata": {},
   "outputs": [
    {
     "name": "stdout",
     "output_type": "stream",
     "text": [
      "Vector store created with 47 documents.\n"
     ]
    }
   ],
   "source": [
    "vectorstore = Chroma.from_documents(documents=chunks, embedding=embeddings, persist_directory=db_name)\n",
    "print(f\"Vector store created with {vectorstore._collection.count()} documents.\")"
   ]
  },
  {
   "cell_type": "code",
   "execution_count": 11,
   "id": "ff4e87a0",
   "metadata": {},
   "outputs": [
    {
     "data": {
      "text/plain": [
       "dict_keys(['ids', 'embeddings', 'documents', 'uris', 'included', 'data', 'metadatas'])"
      ]
     },
     "execution_count": 11,
     "metadata": {},
     "output_type": "execute_result"
    }
   ],
   "source": [
    "vectorstore._collection.get().keys()"
   ]
  },
  {
   "cell_type": "code",
   "execution_count": 12,
   "id": "b1810d31",
   "metadata": {},
   "outputs": [
    {
     "data": {
      "text/plain": [
       "3072"
      ]
     },
     "execution_count": 12,
     "metadata": {},
     "output_type": "execute_result"
    }
   ],
   "source": [
    "len(vectorstore._collection.get(include=['embeddings'])['embeddings'][0])"
   ]
  },
  {
   "cell_type": "markdown",
   "id": "bc8e95e1",
   "metadata": {},
   "source": [
    "## Step 4.5: Visualizing the vectorstore"
   ]
  },
  {
   "cell_type": "code",
   "execution_count": 13,
   "id": "d051dc42",
   "metadata": {},
   "outputs": [],
   "source": [
    "# Prework\n",
    "\n",
    "collection = vectorstore._collection\n",
    "result = collection.get(include=['embeddings', 'documents', 'metadatas'])\n",
    "vectors = np.array(result['embeddings'])\n",
    "documents = result['documents']\n",
    "doc_types = [metadata['doc_type'] for metadata in result['metadatas']]\n",
    "colors = [['blue', 'green', 'red'][['about', 'employees', 'services'].index(t)] for t in doc_types]"
   ]
  },
  {
   "cell_type": "code",
   "execution_count": 14,
   "id": "7434f0ae",
   "metadata": {},
   "outputs": [
    {
     "data": {
      "application/vnd.plotly.v1+json": {
       "config": {
        "plotlyServerURL": "https://plot.ly"
       },
       "data": [
        {
         "hoverinfo": "text",
         "marker": {
          "color": [
           "red",
           "red",
           "red",
           "red",
           "red",
           "green",
           "green",
           "green",
           "green",
           "green",
           "green",
           "green",
           "green",
           "green",
           "green",
           "green",
           "green",
           "green",
           "green",
           "green",
           "green",
           "green",
           "green",
           "green",
           "green",
           "green",
           "green",
           "green",
           "green",
           "green",
           "green",
           "green",
           "green",
           "green",
           "green",
           "green",
           "green",
           "green",
           "green",
           "green",
           "green",
           "green",
           "blue",
           "blue",
           "blue",
           "blue",
           "blue"
          ],
          "opacity": 0.8,
          "size": 5
         },
         "mode": "markers",
         "text": [
          "Type: services<br>Text: The Intellectual Property & Technology team, led by Sarah Chen, provides comprehensive IP protection...",
          "Type: services<br>Text: David Thompson heads the Employment Law & Labor Relations practice, representing management in wage ...",
          "Type: services<br>Text: Our litigation team handles high-stakes commercial disputes, class actions, and white-collar defense...",
          "Type: services<br>Text: Our Corporate Law group advises clients on mergers and acquisitions, joint ventures, private equity,...",
          "Type: services<br>Text: The Real Estate & Construction practice, spearheaded by Jennifer Hayes, handles complex acquisitions...",
          "Type: employees<br>Text: STERLING & ASSOCIATES LAW GROUP - ATTORNEY RECORD\n===============================================\n\nA...",
          "Type: employees<br>Text: Previous Position (2013 - 2018):\nSenior Associate - Employment Law\n- Specialized in employment litig...",
          "Type: employees<br>Text: Pre-Law Experience:\nHuman Resources Manager - Metropolitan Insurance Group (2004-2005)\n- Managed HR ...",
          "Type: employees<br>Text: NOTABLE CASES & MATTERS:\n------------------------\n- Successfully defended $85M class action wage and...",
          "Type: employees<br>Text: TRIAL & LITIGATION RECORD:\n--------------------------\n- Jury Trials: 15+ with 87% success rate for c...",
          "Type: employees<br>Text: PUBLICATIONS & SPEAKING:\n------------------------\n- \"Post-Pandemic Workplace: Legal Challenges and S...",
          "Type: employees<br>Text: BILLING INFORMATION:\n--------------------\nStandard Hourly Rate: $950\nTrial/Hearing Rate: $1,100\nClas...",
          "Type: employees<br>Text: ANNUAL REVIEWS:\n---------------\n2023: \"Outstanding partner performance with exceptional client devel...",
          "Type: employees<br>Text: STERLING & ASSOCIATES LAW GROUP - ATTORNEY RECORD\n===============================================\n\nA...",
          "Type: employees<br>Text: Previous Position (2020 - 2022):\nJunior Associate - Real Estate\n- Started in real estate transaction...",
          "Type: employees<br>Text: EDUCATION:\n----------\n- Juris Doctor (J.D.), Brooklyn Law School (2020)\n  - Real Estate Law Society,...",
          "Type: employees<br>Text: SPECIALIZATIONS:\n----------------\n- Commercial Real Estate Transactions\n- Construction Contract Nego...",
          "Type: employees<br>Text: TRANSACTION VOLUME:\n-------------------\n- Real Estate Transactions Closed: 85+ (total value $1.2B)\n-...",
          "Type: employees<br>Text: PUBLICATIONS & SPEAKING:\n------------------------\n- \"Construction Law in Post-COVID Commercial Devel...",
          "Type: employees<br>Text: PERSONAL INFORMATION:\n---------------------\nOffice: 35th Floor\nDirect Phone: (212) 555-0135\nEmail: j...",
          "Type: employees<br>Text: CERTIFICATIONS & LICENSES:\n---------------------------\n- New York Real Estate Salesperson License (2...",
          "Type: employees<br>Text: INDUSTRY INVOLVEMENT:\n---------------------\n- Member, Real Estate Finance Association\n- Associate Me...",
          "Type: employees<br>Text: STERLING & ASSOCIATES LAW GROUP - ATTORNEY RECORD\n===============================================\n\nA...",
          "Type: employees<br>Text: Previous Position (2001 - 2008):\nAssociate to Senior Associate\n- Started in corporate securities gro...",
          "Type: employees<br>Text: MAJOR TRANSACTIONS (2023):\n--------------------------\n- Advised TechVision Corp on $4.2B acquisition...",
          "Type: employees<br>Text: BAR ASSOCIATIONS & MEMBERSHIPS:\n-------------------------------\n- American Bar Association (Business...",
          "Type: employees<br>Text: LANGUAGES:\n----------\n- English (Native)\n- Spanish (Fluent)\n- Portuguese (Conversational)\n\nCOMMUNITY...",
          "Type: employees<br>Text: BILLING INFORMATION:\n--------------------\nStandard Hourly Rate: $1,150\nComplex Transaction Rate: $1,...",
          "Type: employees<br>Text: PROFESSIONAL DEVELOPMENT:\n--------------------------\n- Director's Education Institute, Stanford Grad...",
          "Type: employees<br>Text: STERLING & ASSOCIATES LAW GROUP - ATTORNEY RECORD\n===============================================\n\nA...",
          "Type: employees<br>Text: Previous Position (2018 - 2022):\nAssociate - IP & Technology Law\n- Started in patent prosecution and...",
          "Type: employees<br>Text: TECHNICAL EXPERTISE:\n--------------------\n- Software Development (Python, Java, C++, JavaScript)\n- M...",
          "Type: employees<br>Text: NOTABLE MATTERS:\n----------------\n- Led patent portfolio strategy for $2.8B acquisition (2023)\n- Def...",
          "Type: employees<br>Text: BAR ASSOCIATIONS & MEMBERSHIPS:\n-------------------------------\n- New York Intellectual Property Law...",
          "Type: employees<br>Text: LANGUAGES:\n----------\n- English (Native)\n- Mandarin Chinese (Native)\n- Korean (Conversational)\n\nCOMM...",
          "Type: employees<br>Text: CLIENT PORTFOLIO:\n-----------------\n- Technology startups and scale-ups\n- Fortune 500 technology com...",
          "Type: employees<br>Text: AWARDS & RECOGNITION:\n---------------------\n- Client Choice Award - International Law Office (2023)\n...",
          "Type: employees<br>Text: STERLING & ASSOCIATES LAW GROUP - ATTORNEY RECORD\n===============================================\n\nA...",
          "Type: employees<br>Text: EDUCATION:\n----------\n- Juris Doctor (J.D.), Harvard Law School (1994)\n  - Harvard Law Review, Senio...",
          "Type: employees<br>Text: PROFESSIONAL ACHIEVEMENTS:\n--------------------------\n- Super Lawyers \"Top 100\" for 15 consecutive y...",
          "Type: employees<br>Text: COMMUNITY INVOLVEMENT:\n----------------------\n- Board Chair, New York Legal Aid Society (2019-Presen...",
          "Type: employees<br>Text: BILLING INFORMATION:\n--------------------\nStandard Hourly Rate: $1,250\nPremium Client Rate: $1,400\nE...",
          "Type: about<br>Text: Our mission at Sterling & Associates is to provide world-class legal representation with integrity, ...",
          "Type: about<br>Text: Our leadership team includes some of the most respected legal minds in the profession:\n\n- Alexandra ...",
          "Type: about<br>Text: Sterling & Associates was established in 1995 by Harvard Law graduate Alexandra Sterling. Beginning ...",
          "Type: about<br>Text: Sterling & Associates Law Group is a premier litigation and transactional law firm headquartered in ...",
          "Type: about<br>Text: At Sterling & Associates, we value:\n\n- Excellence: In research, advocacy, and client service\n- Integ..."
         ],
         "type": "scatter",
         "x": {
          "bdata": "yCHOQHeXn0AQ7dhAHODcQL0VZUAhD6ZAh58WQCc9KUB4EIpAxAOEQCi4lECCRKZA2PSKQIachUCRXBdAbG05QK62V0CDT0tAkkd6QFxfhEARoVFAcxk7QF+xv0A1NTVAK8+dQIkeZkBUvaBAit2sQPpkIECDVrtAnJdQQPaQckBW7IlAjYtzQCogqEBKNIFAqzWRQFvjuUC0gU1AkUOAQCrboEBtqKZAVZrPQOXv1EDvM8pA2XPJQIgu1EA=",
          "dtype": "f4"
         },
         "y": {
          "bdata": "Pm77vkiVSsC4/hfAJF+Jv8p7NsDIjxrAlnsAv0Qb9b54JwG/DO1LvzC77L9hKMe+EnbKvk5MIsDxFoq/Uvatvw75qb+EsuK/czv8v1Jf9798g5C/WOfPvwYw2r/OuQA9tPnfPhehhr64KqC/hMYsvtRCJT8LDbK/paEeP3e7nj9fjjM/8C8EPy2vkL+oHCE/e5PqPhurDcBLhyi+CPXxvuxNzL9F1Za+b0o+wFOpB8CgnifAw3wkwE2RUsA=",
          "dtype": "f4"
         }
        }
       ],
       "layout": {
        "height": 600,
        "margin": {
         "b": 10,
         "l": 10,
         "r": 20,
         "t": 40
        },
        "scene": {
         "xaxis": {
          "title": {
           "text": "x"
          }
         },
         "yaxis": {
          "title": {
           "text": "y"
          }
         }
        },
        "template": {
         "data": {
          "bar": [
           {
            "error_x": {
             "color": "#2a3f5f"
            },
            "error_y": {
             "color": "#2a3f5f"
            },
            "marker": {
             "line": {
              "color": "#E5ECF6",
              "width": 0.5
             },
             "pattern": {
              "fillmode": "overlay",
              "size": 10,
              "solidity": 0.2
             }
            },
            "type": "bar"
           }
          ],
          "barpolar": [
           {
            "marker": {
             "line": {
              "color": "#E5ECF6",
              "width": 0.5
             },
             "pattern": {
              "fillmode": "overlay",
              "size": 10,
              "solidity": 0.2
             }
            },
            "type": "barpolar"
           }
          ],
          "carpet": [
           {
            "aaxis": {
             "endlinecolor": "#2a3f5f",
             "gridcolor": "white",
             "linecolor": "white",
             "minorgridcolor": "white",
             "startlinecolor": "#2a3f5f"
            },
            "baxis": {
             "endlinecolor": "#2a3f5f",
             "gridcolor": "white",
             "linecolor": "white",
             "minorgridcolor": "white",
             "startlinecolor": "#2a3f5f"
            },
            "type": "carpet"
           }
          ],
          "choropleth": [
           {
            "colorbar": {
             "outlinewidth": 0,
             "ticks": ""
            },
            "type": "choropleth"
           }
          ],
          "contour": [
           {
            "colorbar": {
             "outlinewidth": 0,
             "ticks": ""
            },
            "colorscale": [
             [
              0,
              "#0d0887"
             ],
             [
              0.1111111111111111,
              "#46039f"
             ],
             [
              0.2222222222222222,
              "#7201a8"
             ],
             [
              0.3333333333333333,
              "#9c179e"
             ],
             [
              0.4444444444444444,
              "#bd3786"
             ],
             [
              0.5555555555555556,
              "#d8576b"
             ],
             [
              0.6666666666666666,
              "#ed7953"
             ],
             [
              0.7777777777777778,
              "#fb9f3a"
             ],
             [
              0.8888888888888888,
              "#fdca26"
             ],
             [
              1,
              "#f0f921"
             ]
            ],
            "type": "contour"
           }
          ],
          "contourcarpet": [
           {
            "colorbar": {
             "outlinewidth": 0,
             "ticks": ""
            },
            "type": "contourcarpet"
           }
          ],
          "heatmap": [
           {
            "colorbar": {
             "outlinewidth": 0,
             "ticks": ""
            },
            "colorscale": [
             [
              0,
              "#0d0887"
             ],
             [
              0.1111111111111111,
              "#46039f"
             ],
             [
              0.2222222222222222,
              "#7201a8"
             ],
             [
              0.3333333333333333,
              "#9c179e"
             ],
             [
              0.4444444444444444,
              "#bd3786"
             ],
             [
              0.5555555555555556,
              "#d8576b"
             ],
             [
              0.6666666666666666,
              "#ed7953"
             ],
             [
              0.7777777777777778,
              "#fb9f3a"
             ],
             [
              0.8888888888888888,
              "#fdca26"
             ],
             [
              1,
              "#f0f921"
             ]
            ],
            "type": "heatmap"
           }
          ],
          "histogram": [
           {
            "marker": {
             "pattern": {
              "fillmode": "overlay",
              "size": 10,
              "solidity": 0.2
             }
            },
            "type": "histogram"
           }
          ],
          "histogram2d": [
           {
            "colorbar": {
             "outlinewidth": 0,
             "ticks": ""
            },
            "colorscale": [
             [
              0,
              "#0d0887"
             ],
             [
              0.1111111111111111,
              "#46039f"
             ],
             [
              0.2222222222222222,
              "#7201a8"
             ],
             [
              0.3333333333333333,
              "#9c179e"
             ],
             [
              0.4444444444444444,
              "#bd3786"
             ],
             [
              0.5555555555555556,
              "#d8576b"
             ],
             [
              0.6666666666666666,
              "#ed7953"
             ],
             [
              0.7777777777777778,
              "#fb9f3a"
             ],
             [
              0.8888888888888888,
              "#fdca26"
             ],
             [
              1,
              "#f0f921"
             ]
            ],
            "type": "histogram2d"
           }
          ],
          "histogram2dcontour": [
           {
            "colorbar": {
             "outlinewidth": 0,
             "ticks": ""
            },
            "colorscale": [
             [
              0,
              "#0d0887"
             ],
             [
              0.1111111111111111,
              "#46039f"
             ],
             [
              0.2222222222222222,
              "#7201a8"
             ],
             [
              0.3333333333333333,
              "#9c179e"
             ],
             [
              0.4444444444444444,
              "#bd3786"
             ],
             [
              0.5555555555555556,
              "#d8576b"
             ],
             [
              0.6666666666666666,
              "#ed7953"
             ],
             [
              0.7777777777777778,
              "#fb9f3a"
             ],
             [
              0.8888888888888888,
              "#fdca26"
             ],
             [
              1,
              "#f0f921"
             ]
            ],
            "type": "histogram2dcontour"
           }
          ],
          "mesh3d": [
           {
            "colorbar": {
             "outlinewidth": 0,
             "ticks": ""
            },
            "type": "mesh3d"
           }
          ],
          "parcoords": [
           {
            "line": {
             "colorbar": {
              "outlinewidth": 0,
              "ticks": ""
             }
            },
            "type": "parcoords"
           }
          ],
          "pie": [
           {
            "automargin": true,
            "type": "pie"
           }
          ],
          "scatter": [
           {
            "fillpattern": {
             "fillmode": "overlay",
             "size": 10,
             "solidity": 0.2
            },
            "type": "scatter"
           }
          ],
          "scatter3d": [
           {
            "line": {
             "colorbar": {
              "outlinewidth": 0,
              "ticks": ""
             }
            },
            "marker": {
             "colorbar": {
              "outlinewidth": 0,
              "ticks": ""
             }
            },
            "type": "scatter3d"
           }
          ],
          "scattercarpet": [
           {
            "marker": {
             "colorbar": {
              "outlinewidth": 0,
              "ticks": ""
             }
            },
            "type": "scattercarpet"
           }
          ],
          "scattergeo": [
           {
            "marker": {
             "colorbar": {
              "outlinewidth": 0,
              "ticks": ""
             }
            },
            "type": "scattergeo"
           }
          ],
          "scattergl": [
           {
            "marker": {
             "colorbar": {
              "outlinewidth": 0,
              "ticks": ""
             }
            },
            "type": "scattergl"
           }
          ],
          "scattermap": [
           {
            "marker": {
             "colorbar": {
              "outlinewidth": 0,
              "ticks": ""
             }
            },
            "type": "scattermap"
           }
          ],
          "scattermapbox": [
           {
            "marker": {
             "colorbar": {
              "outlinewidth": 0,
              "ticks": ""
             }
            },
            "type": "scattermapbox"
           }
          ],
          "scatterpolar": [
           {
            "marker": {
             "colorbar": {
              "outlinewidth": 0,
              "ticks": ""
             }
            },
            "type": "scatterpolar"
           }
          ],
          "scatterpolargl": [
           {
            "marker": {
             "colorbar": {
              "outlinewidth": 0,
              "ticks": ""
             }
            },
            "type": "scatterpolargl"
           }
          ],
          "scatterternary": [
           {
            "marker": {
             "colorbar": {
              "outlinewidth": 0,
              "ticks": ""
             }
            },
            "type": "scatterternary"
           }
          ],
          "surface": [
           {
            "colorbar": {
             "outlinewidth": 0,
             "ticks": ""
            },
            "colorscale": [
             [
              0,
              "#0d0887"
             ],
             [
              0.1111111111111111,
              "#46039f"
             ],
             [
              0.2222222222222222,
              "#7201a8"
             ],
             [
              0.3333333333333333,
              "#9c179e"
             ],
             [
              0.4444444444444444,
              "#bd3786"
             ],
             [
              0.5555555555555556,
              "#d8576b"
             ],
             [
              0.6666666666666666,
              "#ed7953"
             ],
             [
              0.7777777777777778,
              "#fb9f3a"
             ],
             [
              0.8888888888888888,
              "#fdca26"
             ],
             [
              1,
              "#f0f921"
             ]
            ],
            "type": "surface"
           }
          ],
          "table": [
           {
            "cells": {
             "fill": {
              "color": "#EBF0F8"
             },
             "line": {
              "color": "white"
             }
            },
            "header": {
             "fill": {
              "color": "#C8D4E3"
             },
             "line": {
              "color": "white"
             }
            },
            "type": "table"
           }
          ]
         },
         "layout": {
          "annotationdefaults": {
           "arrowcolor": "#2a3f5f",
           "arrowhead": 0,
           "arrowwidth": 1
          },
          "autotypenumbers": "strict",
          "coloraxis": {
           "colorbar": {
            "outlinewidth": 0,
            "ticks": ""
           }
          },
          "colorscale": {
           "diverging": [
            [
             0,
             "#8e0152"
            ],
            [
             0.1,
             "#c51b7d"
            ],
            [
             0.2,
             "#de77ae"
            ],
            [
             0.3,
             "#f1b6da"
            ],
            [
             0.4,
             "#fde0ef"
            ],
            [
             0.5,
             "#f7f7f7"
            ],
            [
             0.6,
             "#e6f5d0"
            ],
            [
             0.7,
             "#b8e186"
            ],
            [
             0.8,
             "#7fbc41"
            ],
            [
             0.9,
             "#4d9221"
            ],
            [
             1,
             "#276419"
            ]
           ],
           "sequential": [
            [
             0,
             "#0d0887"
            ],
            [
             0.1111111111111111,
             "#46039f"
            ],
            [
             0.2222222222222222,
             "#7201a8"
            ],
            [
             0.3333333333333333,
             "#9c179e"
            ],
            [
             0.4444444444444444,
             "#bd3786"
            ],
            [
             0.5555555555555556,
             "#d8576b"
            ],
            [
             0.6666666666666666,
             "#ed7953"
            ],
            [
             0.7777777777777778,
             "#fb9f3a"
            ],
            [
             0.8888888888888888,
             "#fdca26"
            ],
            [
             1,
             "#f0f921"
            ]
           ],
           "sequentialminus": [
            [
             0,
             "#0d0887"
            ],
            [
             0.1111111111111111,
             "#46039f"
            ],
            [
             0.2222222222222222,
             "#7201a8"
            ],
            [
             0.3333333333333333,
             "#9c179e"
            ],
            [
             0.4444444444444444,
             "#bd3786"
            ],
            [
             0.5555555555555556,
             "#d8576b"
            ],
            [
             0.6666666666666666,
             "#ed7953"
            ],
            [
             0.7777777777777778,
             "#fb9f3a"
            ],
            [
             0.8888888888888888,
             "#fdca26"
            ],
            [
             1,
             "#f0f921"
            ]
           ]
          },
          "colorway": [
           "#636efa",
           "#EF553B",
           "#00cc96",
           "#ab63fa",
           "#FFA15A",
           "#19d3f3",
           "#FF6692",
           "#B6E880",
           "#FF97FF",
           "#FECB52"
          ],
          "font": {
           "color": "#2a3f5f"
          },
          "geo": {
           "bgcolor": "white",
           "lakecolor": "white",
           "landcolor": "#E5ECF6",
           "showlakes": true,
           "showland": true,
           "subunitcolor": "white"
          },
          "hoverlabel": {
           "align": "left"
          },
          "hovermode": "closest",
          "mapbox": {
           "style": "light"
          },
          "paper_bgcolor": "white",
          "plot_bgcolor": "#E5ECF6",
          "polar": {
           "angularaxis": {
            "gridcolor": "white",
            "linecolor": "white",
            "ticks": ""
           },
           "bgcolor": "#E5ECF6",
           "radialaxis": {
            "gridcolor": "white",
            "linecolor": "white",
            "ticks": ""
           }
          },
          "scene": {
           "xaxis": {
            "backgroundcolor": "#E5ECF6",
            "gridcolor": "white",
            "gridwidth": 2,
            "linecolor": "white",
            "showbackground": true,
            "ticks": "",
            "zerolinecolor": "white"
           },
           "yaxis": {
            "backgroundcolor": "#E5ECF6",
            "gridcolor": "white",
            "gridwidth": 2,
            "linecolor": "white",
            "showbackground": true,
            "ticks": "",
            "zerolinecolor": "white"
           },
           "zaxis": {
            "backgroundcolor": "#E5ECF6",
            "gridcolor": "white",
            "gridwidth": 2,
            "linecolor": "white",
            "showbackground": true,
            "ticks": "",
            "zerolinecolor": "white"
           }
          },
          "shapedefaults": {
           "line": {
            "color": "#2a3f5f"
           }
          },
          "ternary": {
           "aaxis": {
            "gridcolor": "white",
            "linecolor": "white",
            "ticks": ""
           },
           "baxis": {
            "gridcolor": "white",
            "linecolor": "white",
            "ticks": ""
           },
           "bgcolor": "#E5ECF6",
           "caxis": {
            "gridcolor": "white",
            "linecolor": "white",
            "ticks": ""
           }
          },
          "title": {
           "x": 0.05
          },
          "xaxis": {
           "automargin": true,
           "gridcolor": "white",
           "linecolor": "white",
           "ticks": "",
           "title": {
            "standoff": 15
           },
           "zerolinecolor": "white",
           "zerolinewidth": 2
          },
          "yaxis": {
           "automargin": true,
           "gridcolor": "white",
           "linecolor": "white",
           "ticks": "",
           "title": {
            "standoff": 15
           },
           "zerolinecolor": "white",
           "zerolinewidth": 2
          }
         }
        },
        "title": {
         "text": "2D Chroma Vector Store Visualization"
        },
        "width": 800
       }
      }
     },
     "metadata": {},
     "output_type": "display_data"
    }
   ],
   "source": [
    "# We humans find it easier to visalize things in 2D!\n",
    "# Reduce the dimensionality of the vectors to 2D using t-SNE\n",
    "# (t-distributed stochastic neighbor embedding)\n",
    "\n",
    "from sklearn.manifold import TSNE\n",
    "import plotly.graph_objects as go\n",
    "\n",
    "tsne = TSNE(n_components=2, random_state=42)\n",
    "reduced_vectors = tsne.fit_transform(vectors)\n",
    "\n",
    "# Create the 2D scatter plot\n",
    "fig = go.Figure(data=[go.Scatter(\n",
    "    x=reduced_vectors[:, 0],\n",
    "    y=reduced_vectors[:, 1],\n",
    "    mode='markers',\n",
    "    marker=dict(size=5, color=colors, opacity=0.8),\n",
    "    text=[f\"Type: {t}<br>Text: {d[:100]}...\" for t, d in zip(doc_types, documents)],\n",
    "    hoverinfo='text'\n",
    ")])\n",
    "\n",
    "fig.update_layout(\n",
    "    title='2D Chroma Vector Store Visualization',\n",
    "    scene=dict(xaxis_title='x',yaxis_title='y'),\n",
    "    width=800,\n",
    "    height=600,\n",
    "    margin=dict(r=20, b=10, l=10, t=40)\n",
    ")\n",
    "\n",
    "fig.show()"
   ]
  },
  {
   "cell_type": "markdown",
   "id": "44db80a0",
   "metadata": {},
   "source": [
    "## Step 5: Building the RAG chatbot logic\n",
    "\n",
    "In its most basic form, RAG applications have 4 parts to them:\n",
    "\n",
    "1. The **LLM** engine\n",
    "2. The **memory** of the application\n",
    "3. The information **retriever**\n",
    "4. The **conversation chain**"
   ]
  },
  {
   "cell_type": "code",
   "execution_count": null,
   "id": "ce7a149d",
   "metadata": {},
   "outputs": [],
   "source": [
    "# 1. The LLM engine\n",
    "llm = ChatOpenAI(model=MODEL, temperature=0.7)\n",
    "\n",
    "# 2. The memory of the application\n",
    "from langchain.memory import ConversationBufferMemory\n",
    "memory = ConversationBufferMemory(memory_key=\"chat_history\", return_messages=True)\n",
    "\n",
    "# 3. The information retriever\n",
    "from langchain.chains import RetrievalQA\n",
    "retriever = vectorstore.as_retriever(search_kwargs={\"k\": 3})\n",
    "\n",
    "# 4. The conversation chain\n",
    "from langchain.chains import ConversationalRetrievalChain\n",
    "conversation_chain = ConversationalRetrievalChain.from_llm(\n",
    "    llm=llm,\n",
    "    retriever=retriever,\n",
    "    memory=memory,\n",
    "    return_source_documents=True\n",
    ")"
   ]
  }
 ],
 "metadata": {
  "kernelspec": {
   "display_name": "ai_env",
   "language": "python",
   "name": "python3"
  },
  "language_info": {
   "codemirror_mode": {
    "name": "ipython",
    "version": 3
   },
   "file_extension": ".py",
   "mimetype": "text/x-python",
   "name": "python",
   "nbconvert_exporter": "python",
   "pygments_lexer": "ipython3",
   "version": "3.12.3"
  }
 },
 "nbformat": 4,
 "nbformat_minor": 5
}
