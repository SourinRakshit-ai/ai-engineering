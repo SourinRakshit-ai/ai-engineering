{
 "cells": [
  {
   "cell_type": "markdown",
   "metadata": {},
   "source": [
    "# Lab 1: Working with OpenAI API and Reasoning Models\n",
    "\n",
    "### Overview\n",
    "\n",
    "And now comes the fun part!!! Let's get our hands dirty with calling the ChatGPT models using code.\n",
    "\n",
    "This notebook demonstrates how to use the OpenAI API to create various AI-powered applications. We'll explore how to structure prompts, understand API responses, and evaluate model outputs using reasoning capabilities.\n",
    "\n",
    "### Objectives\n",
    "- Set up and configure the OpenAI API with proper authentication\n",
    "- Create effective prompts for different use cases\n",
    "- Process and display AI-generated responses\n",
    "- Compare standard chat models with reasoning models\n",
    "\n",
    "\n",
    "### **Important Note** for Windows users:\n",
    "\n",
    "When trying to activate your virtual environment, you may run into an error looking something like this \n",
    "\n",
    "```\n",
    "ai_env\\Scripts\\activate : File C:\\Users\\<username>\\OneDrive\\Desktop\\ai-engineering\\ai_env\\Scripts\\Activate.ps1 cannot be loaded because running scripts is disabled on this system.\n",
    "\n",
    "For more information, see about_Execution_Policies at https:/go.microsoft.com/fwlink/?LinkID=135170\n",
    "```\n",
    "\n",
    "\n",
    "The reason for this is because by default, Microsoft disables the ability to execute the scripts. To overcome this, \n",
    "\n",
    "1. open up PowerShell (terminal)\n",
    "2. Run the following command: `Set-ExecutionPolicy -ExecutionPolicy RemoteSigned -Scope CurrentUser`\n",
    "3. Close and re-open PowerShell (restart your machine if you have to)\n",
    "4. Try activating the environment again by:\n",
    "    - Navigating to the root directory of the project (the ai-engineering folder)\n",
    "    - Run `ai_env/Scripts/Activate`\n",
    "\n",
    "\n",
    "If you still aren't able to overcome the issue, please follow the instructions in the [README](../../../README.md) to either raise an issue on GitHub or contact me via email or on the SDS platform."
   ]
  },
  {
   "cell_type": "markdown",
   "metadata": {},
   "source": [
    "#### Step 1: Import libraries and load the environment variables"
   ]
  },
  {
   "cell_type": "code",
   "execution_count": null,
   "metadata": {},
   "outputs": [],
   "source": [
    "import os\n",
    "from openai import OpenAI\n",
    "from dotenv import load_dotenv\n",
    "from IPython.display import Markdown, display\n",
    "\n",
    "load_dotenv()\n",
    "\n",
    "\n",
    "OPENAI_API_KEY = os.getenv(\"OPENAI_API_KEY\")\n",
    "\n",
    "if OPENAI_API_KEY is None:\n",
    "    raise Exception(\"API key is missing\")"
   ]
  },
  {
   "cell_type": "markdown",
   "metadata": {},
   "source": [
    "#### Step 2: Call the API"
   ]
  },
  {
   "cell_type": "code",
   "execution_count": null,
   "metadata": {},
   "outputs": [],
   "source": [
    "client = OpenAI()\n",
    "\n",
    "completion = client.chat.completions.create(\n",
    "    model=\"gpt-4o-mini\",\n",
    "    messages=[\n",
    "        {\"role\": \"system\", \"content\": \"You are a helpful assistant.\"},\n",
    "        {\"role\": \"user\", \"content\": \"What is the capital of France?\"}\n",
    "    ]\n",
    ")\n",
    "\n",
    "print(completion.choices[0].message.content)"
   ]
  },
  {
   "cell_type": "markdown",
   "metadata": {},
   "source": [
    "#### Message list"
   ]
  },
  {
   "cell_type": "code",
   "execution_count": null,
   "metadata": {},
   "outputs": [],
   "source": [
    "messages = [\n",
    "    {\"role\": \"system\", \"content\": \"You are a helpful assistant.\"},\n",
    "    {\"role\": \"user\", \"content\": \"What is the capital of France?\"},\n",
    "    {\"role\": \"assistant\", \"content\": \"The capital of France is Paris.\"},\n",
    "    {\"role\": \"user\", \"content\": \"What is the population of Paris?\"},\n",
    "    {\"role\": \"assistant\", \"content\": \"As of 2021, the population of Paris is approximately 2.1 million people.\"}\n",
    "]"
   ]
  },
  {
   "cell_type": "markdown",
   "metadata": {},
   "source": [
    "#### Step 3: Customize the User Prompt\n",
    "\n",
    "Find the best career suited to you"
   ]
  },
  {
   "cell_type": "code",
   "execution_count": null,
   "metadata": {},
   "outputs": [],
   "source": [
    "system_message = \"You are a career advisor specializing in technology and data science fields. Your task is to help users find their ideal career path based on their skills, interests, and objectives.\"\n",
    "\n",
    "user_prompt = \"\"\"\n",
    "Help me find my ideal career based on the following:\n",
    "\n",
    "1. My Skillset\n",
    "- Python programming\n",
    "- Data science\n",
    "- Machine learning \n",
    "\n",
    "2. My current industry\n",
    "- Technology\n",
    "\n",
    "3. My interests\n",
    "- Machine Learning in production\n",
    "- Statistical analysis\n",
    "- AI applications\n",
    "\n",
    "4. My objectives\n",
    "- Control over my hours\n",
    "- Implementing AI solutions in real-world applications\n",
    "- High value projects and impactful work\n",
    "\n",
    "Now based on this, give me:\n",
    "- A career suggestion\n",
    "- Keep it concise and focused on the technology and data science fields.\n",
    "- Reply in a frinely and optimistic tone.\n",
    "\"\"\"\n",
    "\n",
    "completeion = client.chat.completions.create(\n",
    "    model=\"gpt-4o-mini\",\n",
    "    messages=[\n",
    "        {\"role\": \"system\", \"content\": system_message},\n",
    "        {\"role\": \"user\", \"content\": user_prompt}\n",
    "    ]\n",
    ")\n",
    "\n",
    "display(Markdown(completeion.choices[0].message.content))"
   ]
  },
  {
   "cell_type": "markdown",
   "metadata": {},
   "source": [
    "#### Step 4: Build a plan for your career path"
   ]
  },
  {
   "cell_type": "code",
   "execution_count": null,
   "metadata": {},
   "outputs": [],
   "source": [
    "# Step 1: Use your chat model result and copy/paste your career suggestion below\n",
    "career_suggestion = \"\"\"...\"\"\"  # TODO: Paste your career suggestion here\n",
    "\n",
    "# Step 2: Write a reasoning prompt that will help the model plan how to pursue this career\n",
    "# Your prompt must:\n",
    "# - Refer to the user's profile + their chosen career\n",
    "# - Ask for a step-by-step plan\n",
    "# - Include at least 3 types of guidance (e.g. skills, resources, milestones)\n",
    "reasoning_prompt = f\"\"\"...\"\"\"  # TODO: Write this yourself\n",
    "\n",
    "\n",
    "completion = client.chat.completions.create(\n",
    "    model=\"o3-mini\",\n",
    "    messages=[\n",
    "        {\"role\": \"system\", \"content\": system_message},\n",
    "        {\"role\": \"user\", \"content\": reasoning_prompt}\n",
    "    ]\n",
    ") \n",
    "\n",
    "reasoning_response = completion.choices[0].message.content\n",
    "display(Markdown(reasoning_response))"
   ]
  },
  {
   "cell_type": "markdown",
   "metadata": {},
   "source": [
    "# **Your Challenge!!!**"
   ]
  },
  {
   "cell_type": "markdown",
   "metadata": {},
   "source": [
    "You’re helping your friend make a career switch. You’ve used a chat model to get a career recommendation, but now you need a solid action plan.\n",
    "\n",
    "**Challenge:**\n",
    "\n",
    "The prompt below is weak and unclear. Your task is to rewrite it so that it:\n",
    "- Clearly refers to your friend's profile and the suggested career\n",
    "- Asks for a step-by-step plan to pursue the career\n",
    "- Requests at least 3 types of guidance (e.g., skills to learn, resources to use, milestones to achieve)\n",
    "- Is specific, actionable, and easy for the model to follow\n",
    "\n",
    "Replace the flawed prompt in the next cell with your improved version in the cell after it and respond to the questions in \"**Reflections**\"."
   ]
  },
  {
   "cell_type": "code",
   "execution_count": null,
   "metadata": {},
   "outputs": [],
   "source": [
    "# Before\n",
    "career_suggestion = \"\"\"\n",
    "Based on your profile, you would be a great UX Designer.\n",
    "\"\"\"\n",
    "\n",
    "# This is the flawed reasoning prompt\n",
    "reasoning_prompt = f\"\"\"\n",
    "Can you help me with this career? {career_suggestion}\n",
    "\n",
    "\"\"\"\n",
    "\n",
    "completion = client.chat.completions.create(\n",
    "    model=\"o3-mini\",\n",
    "    messages=[\n",
    "        {\"role\": \"system\", \"content\": system_message},\n",
    "        {            \"role\": \"user\",\n",
    "            \"content\": reasoning_prompt\n",
    "        }\n",
    "    ]\n",
    ")\n",
    "\n",
    "display(Markdown(completion.choices[0].message.content))"
   ]
  },
  {
   "cell_type": "code",
   "execution_count": null,
   "metadata": {},
   "outputs": [],
   "source": [
    "# After"
   ]
  },
  {
   "cell_type": "markdown",
   "metadata": {},
   "source": [
    "## **Reflections**\n",
    "\n",
    "1. Identify 2-3 problems with the initial prompt.\n",
    "\n",
    "2. What specific instructions or items did you add in your prompt which brought about the most change?\n",
    "\n",
    "3. Is a chat model better for this use case or a reasoning model?\n",
    "\n",
    "3. How did the answer differ when using a chat model vs. a reasoning model?"
   ]
  }
 ],
 "metadata": {
  "kernelspec": {
   "display_name": "ai_env",
   "language": "python",
   "name": "python3"
  },
  "language_info": {
   "codemirror_mode": {
    "name": "ipython",
    "version": 3
   },
   "file_extension": ".py",
   "mimetype": "text/x-python",
   "name": "python",
   "nbconvert_exporter": "python",
   "pygments_lexer": "ipython3",
   "version": "3.12.3"
  }
 },
 "nbformat": 4,
 "nbformat_minor": 2
}
