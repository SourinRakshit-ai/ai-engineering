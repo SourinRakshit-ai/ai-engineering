{
 "cells": [
  {
   "cell_type": "markdown",
   "metadata": {},
   "source": [
    "### Step 1: Import Libraries and API Keys"
   ]
  },
  {
   "cell_type": "code",
   "execution_count": 1,
   "metadata": {},
   "outputs": [],
   "source": [
    "import os\n",
    "from openai import OpenAI\n",
    "from dotenv import load_dotenv\n",
    "from IPython.display import Markdown, display\n",
    "\n",
    "load_dotenv()\n",
    "\n",
    "OPENAI_API_KEY = os.getenv(\"OPENAI_API_KEY\")\n",
    "\n",
    "if OPENAI_API_KEY is None:\n",
    "    raise Exception(\"API key is missing\")"
   ]
  },
  {
   "cell_type": "markdown",
   "metadata": {},
   "source": [
    "### Step 2: Grab the latest news articles"
   ]
  },
  {
   "cell_type": "code",
   "execution_count": 2,
   "metadata": {},
   "outputs": [],
   "source": [
    "client = OpenAI()\n",
    "\n",
    "completion = client.chat.completions.create(\n",
    "    model=\"gpt-4o-mini-search-preview\",\n",
    "    messages=[\n",
    "        {\n",
    "            \"role\": \"user\",\n",
    "            \"content\": \"Bring up some of the latest news articles around the field of AI.\",\n",
    "        }\n",
    "    ],\n",
    ")\n",
    "\n",
    "news_articles = completion.choices[0].message.content"
   ]
  },
  {
   "cell_type": "code",
   "execution_count": 3,
   "metadata": {},
   "outputs": [
    {
     "data": {
      "text/markdown": [
       "Here are some recent developments in the field of artificial intelligence:\n",
       "\n",
       "**Home Depot Launches AI \"Magic Apron\" for Retail Staff**\n",
       "\n",
       "Home Depot has introduced an AI-powered \"Magic Apron,\" a wearable device designed to assist retail employees with customer service, inventory management, and DIY recommendations. This initiative aims to enhance efficiency across Home Depot stores. \n",
       "\n",
       "**Shield AI Raises $240 Million to Scale AI-Powered Autonomy Platform**\n",
       "\n",
       "Defense-tech company Shield AI has secured $240 million in funding, valuing the company at $5.3 billion. The investment will support the expansion of Hivemind Enterprise, a platform enabling autonomous military aircraft operations. \n",
       "\n",
       "**Coeptis AI Partners with Nuburu to Enhance AI and Laser Technology**\n",
       "\n",
       "Coeptis AI Affiliates has partnered with Nuburu, a leader in laser-based AI applications, to develop next-generation AI-enhanced manufacturing technologies. This collaboration aims to drive innovation in automated laser processing. \n",
       "\n",
       "**Cornell University Receives $10.5 Million for AI Research**\n",
       "\n",
       "Cornell University has received a $10.5 million donation to fund AI-related research. The grant aims to advance machine learning, robotics, and AI ethics, positioning Cornell as a leader in AI-driven academic innovation. \n",
       "\n",
       "**Microsoft Develops AI Reasoning Models to Compete with OpenAI**\n",
       "\n",
       "Microsoft is reportedly working on AI reasoning models to rival OpenAI’s advanced models. These new AI systems focus on improved logical reasoning and decision-making, positioning Microsoft as a major competitor in general AI development. \n",
       "\n",
       "**Perplexity AI Launches $50 Million Venture Fund for AI Startups**\n",
       "\n",
       "AI search startup Perplexity is launching a $50 million venture fund to support early-stage AI startups. The fund, backed by prominent investors, aims to accelerate AI-driven innovation by providing capital and resources to emerging companies in the sector. \n",
       "\n",
       "**AI Research Assistant Startup Conveo Secures $5.3 Million**\n",
       "\n",
       "Conveo, a Belgian AI startup developing an AI-powered research coworker, has raised $5.3 million to expand its operations in the U.S. and Europe. The platform aims to assist researchers with data analysis, literature reviews, and content summarization using generative AI. \n",
       "\n",
       "**Peer-to-Peer AI Network FortyTwo Raises $2.3 Million**\n",
       "\n",
       "FortyTwo, a decentralized peer-to-peer AI network, has raised $2.3 million to compete with OpenAI, Anthropic, and DeepSeek. The startup seeks to democratize AI by enabling users to contribute computing resources and participate in AI model development. \n",
       "\n",
       "**WHO Establishes AI Governance Collaborating Center for Health**\n",
       "\n",
       "The World Health Organization (WHO) has announced a new AI for Health Governance center to oversee ethical AI development in healthcare. The initiative focuses on ensuring transparency, fairness, and accountability in AI applications for global health services. \n",
       "\n",
       "**McDonald's Implements AI to Enhance Operations**\n",
       "\n",
       "McDonald's is deploying artificial intelligence across its 43,000 locations to improve service speed and reduce employee stress. The upgrades include smart kitchen equipment, AI-enabled drive-throughs, and predictive maintenance systems to enhance the overall customer experience. \n",
       "\n",
       "**BBC News Establishes AI Department for Personalized Content**\n",
       "\n",
       "BBC News is creating a new department, BBC News Growth, Innovation, and AI, to integrate AI technology for tailoring content to individual audience preferences. This initiative aims to engage younger audiences who consume news via smartphones and social media platforms. \n",
       "\n",
       "**Google Search Introduces AI Mode for Complex Questions**\n",
       "\n",
       "Google has launched an AI-powered search mode that allows users to ask multi-part, complex questions. The update enhances search capabilities by providing contextual and conversational responses, improving the user experience for in-depth queries. \n",
       "\n",
       "**AI Pioneers Andrew Barto and Richard Sutton Win 2025 Turing Award**\n",
       "\n",
       "Andrew Barto and Richard Sutton, known for their groundbreaking work in reinforcement learning, have been awarded the prestigious 2025 Turing Award. Their contributions have shaped modern AI techniques used in robotics, game theory, and autonomous systems. \n",
       "\n",
       "**Amazon Prime Video Introduces AI Dubbing for Global Expansion**\n",
       "\n",
       "Amazon Prime Video has rolled out an AI-powered dubbing feature to break language barriers. This technology enables seamless multilingual content translation, allowing users worldwide to access entertainment in their native languages. \n",
       "\n",
       "**Meta Platforms Overhauls Content Moderation Policies**\n",
       "\n",
       "Meta, led by CEO Mark Zuckerberg, has implemented significant policy changes, including replacing third-party fact-checking with community notes and relaxing hate speech policies. These changes aim to promote open discussions but have sparked criticism from various communities. \n",
       "\n",
       "**Anthropic CEO Predicts Superintelligent AI by Next Year**\n",
       "\n",
       "Dario Amodei, CEO of Anthropic, predicts that superintelligent AI, surpassing all human capabilities, could emerge as soon as next year. He emphasizes the need for new societal structures, such as universal basic income, to adapt to this transformative technology. \n",
       "\n",
       "**Amazon Introduces Alexa Plus with Advanced AI Features**\n",
       "\n",
       "Amazon has launched Alexa Plus, an ambitious new version of its virtual assistant. Leveraging advanced AI technology, Alexa Plus aims to provide a more intuitive and interactive user experience, positioning Amazon competitively in the virtual assistant market. \n",
       "\n",
       "**Google's Sergey Brin Advocates 60-Hour Workweeks for AI Teams**\n",
       "\n",
       "Google co-founder Sergey Brin has urged employees working on artificial intelligence to spend at least 60 hours per week in the office. He believes this commitment is crucial for Google to succeed in the competitive race to develop artificial general intelligence (AGI). \n",
       "\n",
       "**OpenAI Unveils GPT-4.5, Its Most Advanced AI Model**\n",
       "\n",
       "OpenAI has announced GPT-4.5, its largest and most advanced AI model to date. This release marks a significant milestone in natural language processing, offering enhanced capabilities and understanding compared to its predecessors. \n",
       "\n",
       "**Infosys Launches Open-Source 'Responsible AI' Toolkit**\n",
       "\n",
       "Infosys has introduced an open-source \"Responsible AI\" toolkit as part of its Infosys Topaz Responsible AI Suite. This toolkit aims to identify and prevent security risks, privacy violations, biased outputs, and other potential issues in AI applications, promoting ethical AI use across industries. \n",
       "\n",
       "**Apple Announces $500 Billion U.S. Investment Plan Including AI Initiatives**\n",
       "\n",
       "Apple has unveiled a $500 billion investment plan in the United States over the next four years. The plan includes building an AI server factory in Texas and creating 20,000 research and development jobs, underscoring Apple's commitment to advancing AI technologies. \n",
       "\n",
       "**Humane Shuts Down AI Pin and Sells Assets to HP**\n",
       "\n",
       "AI startup Humane announced it is discontinuing its AI Pin device and selling parts of its business to HP for $116 million. Existing AI Pins will function until February 28, 2025, after which cloud-dependent features will cease. Refunds are available for recent purchasers. \n",
       "\n",
       "**Florida State University Launches AI@FSU Initiative**\n",
       "\n",
       "Florida State University has unveiled AI@FSU, a comprehensive initiative designed to integrate artificial intelligence into teaching, learning, research, and campus experiences. The program provides the university community with access to the latest AI tools, projects, and news through a dedicated website. This effort aims to equip students, faculty, and staff with the skills necessary to effectively and ethically utilize AI technologies. \n",
       "\n",
       "**YouTube Enhances Shorts with AI-Generated Video Clips**\n",
       "\n",
       "YouTube has introduced new generative AI features for its Shorts platform, allowing creators to generate video clips using text prompts. Powered by Google DeepMind's Veo 2 model, this update enables users to create standalone video content or enhance existing Shorts with AI-generated visuals. The feature is currently available in select countries, with plans for broader expansion. \n",
       "\n",
       "**The Guardian Partners with OpenAI to Integrate Journalism into ChatGPT**\n",
       "\n",
       "Guardian Media Group has announced a strategic partnership with OpenAI to incorporate The Guardian's journalism into ChatGPT's platform. This collaboration will make The Guardian's reporting and archived content accessible to ChatGPT's global users through attributed summaries and article extracts. The initiative aims to expand The Guardian's reach and impact, while OpenAI seeks to enhance the ChatGPT experience with real-time news content. \n",
       "\n",
       "**Interview Kickstart Launches Generative AI Course**\n",
       "\n",
       "Interview Kickstart has introduced a new Generative AI (GenAI) course designed for professionals aiming to enhance their skills in artificial intelligence. The course offers a comprehensive curriculum covering the latest GenAI concepts and applications, structured to accommodate busy schedules. Participants will engage in live classes led by active machine learning professionals, gaining practical experience in deploying generative AI models across various industries.  "
      ],
      "text/plain": [
       "<IPython.core.display.Markdown object>"
      ]
     },
     "metadata": {},
     "output_type": "display_data"
    }
   ],
   "source": [
    "display(Markdown(news_articles))"
   ]
  },
  {
   "cell_type": "markdown",
   "metadata": {},
   "source": [
    "### Step 3: Summarize and write a social media post"
   ]
  },
  {
   "cell_type": "code",
   "execution_count": 4,
   "metadata": {},
   "outputs": [
    {
     "data": {
      "text/markdown": [
       "🚀 Exciting advancements in AI are shaping various industries! Here are some highlights: \n",
       "\n",
       "🔹 Home Depot's \"Magic Apron\" enhances customer service.  \n",
       "🔹 Shield AI secures $240M to expand military autonomy tech.  \n",
       "🔹 Cornell gains $10.5M for AI ethics research.  \n",
       "🔹 Microsoft develops competing AI reasoning models.  \n",
       "🔹 Perplexity AI launches a $50M fund for startups.  \n",
       "🔹 WHO establishes ethical AI governance in healthcare.  \n",
       "🔹 Amazon expands non-English media with AI dubbing.  \n",
       "🔹 Google introduces AI search for complex queries.  \n",
       "🔹 OpenAI reveals GPT-4.5, the latest in NLP.  \n",
       "\n",
       "The AI revolution is here! 💡 #ArtificialIntelligence #Innovation #TechUpdates"
      ],
      "text/plain": [
       "<IPython.core.display.Markdown object>"
      ]
     },
     "metadata": {},
     "output_type": "display_data"
    }
   ],
   "source": [
    "system_message = \"\"\"\n",
    "You are a helpful assistant whos job is to accurately summarize long series of \n",
    "news articles provided to you by the user and write up a compelling and easy to \n",
    "digest social media post.\n",
    "\"\"\"\n",
    "\n",
    "prompt = f\"\"\"\n",
    "The following is a series of news articles on the field of AI. Please summarize\n",
    "the articles and write a compelling social media post for LinkedIn highlighting\n",
    "key points about each article.\n",
    "\n",
    "The post should be short and concise and should not be more than 100 words.\n",
    "\n",
    "{news_articles}\n",
    "\n",
    "\"\"\"\n",
    "\n",
    "completion = client.chat.completions.create(\n",
    "    model=\"gpt-4o-mini\",\n",
    "    messages=[\n",
    "        {\"role\": \"system\", \"content\": system_message},\n",
    "        {\n",
    "            \"role\": \"user\",\n",
    "            \"content\": prompt\n",
    "        }\n",
    "    ]\n",
    ")\n",
    "\n",
    "chat_response = completion.choices[0].message.content\n",
    "display(Markdown(chat_response))"
   ]
  },
  {
   "cell_type": "markdown",
   "metadata": {},
   "source": [
    "### Step 4: Enhance structure and layout"
   ]
  },
  {
   "cell_type": "code",
   "execution_count": 7,
   "metadata": {},
   "outputs": [
    {
     "data": {
      "text/markdown": [
       "**Analysis and Reasoning**\n",
       "\n",
       "The original post employs a concise, list-based format enhanced with emojis to capture attention quickly. This style is effective for delivering multiple updates in a digestible manner, which aligns well with LinkedIn's professional and fast-paced environment. However, for an audience with little to no knowledge about AI, the post may be too terse and jargon-heavy. Terms like \"NLP\" (Natural Language Processing) and references to specific technologies or funding amounts might be overwhelming or unclear without additional context. Additionally, the diverse range of topics could dilute the core message, making it harder for readers to grasp the overall impact of AI advancements.\n",
       "\n",
       "To enhance effectiveness, the post should incorporate brief explanations for each point, making the content more accessible. Organizing the information into thematic categories could also help readers understand the different facets of AI's influence across industries. Simplifying language and reducing industry-specific jargon will ensure the message resonates with a broader LinkedIn audience.\n",
       "\n",
       "**Restructured Post**\n",
       "\n",
       "🚀 **Exciting AI Advancements Transforming Industries!** \n",
       "\n",
       "Artificial Intelligence is revolutionizing the way businesses operate and innovate. Here are some key developments:\n",
       "\n",
       "🔹 **Enhancing Customer Service:**  \n",
       "Home Depot introduces the \"Magic Apron,\" an AI-powered tool designed to improve customer interactions and support in their stores.\n",
       "\n",
       "🔹 **Advancing Military Technology:**  \n",
       "Shield AI secures a $240M investment to develop autonomous systems that enhance military operations and safety.\n",
       "\n",
       "🔹 **Promoting Ethical AI:**  \n",
       "Cornell University receives $10.5M to conduct research on AI ethics, ensuring responsible and fair use of artificial intelligence.\n",
       "\n",
       "🔹 **Innovating AI Models:**  \n",
       "Microsoft is developing new AI reasoning models to compete in the evolving landscape of intelligent technologies.\n",
       "\n",
       "🔹 **Supporting Startups:**  \n",
       "Perplexity AI launches a $50M fund aimed at nurturing startups that are creating groundbreaking AI solutions.\n",
       "\n",
       "🔹 **Governance in Healthcare:**  \n",
       "The World Health Organization (WHO) establishes frameworks for ethical AI use in healthcare, promoting transparency and trust.\n",
       "\n",
       "🔹 **Expanding Media Accessibility:**  \n",
       "Amazon is leveraging AI dubbing to offer more non-English media content, making entertainment accessible to a wider audience.\n",
       "\n",
       "🔹 **Enhancing Search Capabilities:**  \n",
       "Google introduces advanced AI-powered search features designed to handle more complex and nuanced queries.\n",
       "\n",
       "🔹 **Advancing Natural Language Processing:**  \n",
       "OpenAI unveils GPT-4.5, the latest version in their series of language models, enhancing understanding and generation of human-like text.\n",
       "\n",
       "💡 **The AI revolution is here, driving innovation and ethical progress across all sectors!**  \n",
       "#ArtificialIntelligence #Innovation #TechUpdates #AIForAll"
      ],
      "text/plain": [
       "<IPython.core.display.Markdown object>"
      ]
     },
     "metadata": {},
     "output_type": "display_data"
    }
   ],
   "source": [
    "system_message = \"You are a helpful assistant.\"\n",
    "\n",
    "reasoning_prompt = f\"\"\"\n",
    "I've been given a social media post.\n",
    "\n",
    "I want you to analyze the style of writing and the key points mentioned in the post\n",
    "and provide me with a reasoning as to why this post is effective or not effective\n",
    "for a LinkedIn audience for those who may have little to no knowledge about AI.\n",
    "\n",
    "After this, restructure the post according to the suggestions you have provided.\n",
    "\n",
    "Please provide your reasoning in a few sentences.\n",
    "\n",
    "Here is the post for context:\n",
    "\n",
    "{chat_response}\n",
    "\"\"\"\n",
    "\n",
    "completion = client.chat.completions.create(\n",
    "    model=\"o1-mini\",\n",
    "    messages=[\n",
    "        #{\"role\": \"system\", \"content\": system_message},\n",
    "        {\n",
    "            \"role\": \"user\",\n",
    "            \"content\": reasoning_prompt\n",
    "        }\n",
    "    ]\n",
    ")\n",
    "\n",
    "reasoning_response = completion.choices[0].message.content\n",
    "display(Markdown(reasoning_response))"
   ]
  },
  {
   "cell_type": "markdown",
   "metadata": {},
   "source": [
    "### Challenge!!\n",
    "\n",
    "Build your own social media post generator!!!\n",
    "\n",
    "**Instructions**\n",
    "1. Modify the above code to your liking and build out this project using any other frontier models instead of OpenAIs models.\n",
    "\n",
    "2. You can keep the second cell (where we are grabbing information from the web) as it is but have your chosen models summarize and create the post and analyze it using a reasoning or thinking model. (Bonus points for using another tool)\n",
    "\n",
    "3. Place your contributions in the community-contributions folder of this section.\n",
    "\n",
    "4. Copy the generated post to use for LinkedIn.\n",
    "\n",
    "5. Tag the [SuperDataScience Community Projects](https://www.linkedin.com/showcase/superdatascience-community-projects/?viewAsMember=true) page for a chance to have your post shared to the SDS LinkedIn community. "
   ]
  },
  {
   "cell_type": "code",
   "execution_count": null,
   "metadata": {},
   "outputs": [],
   "source": []
  }
 ],
 "metadata": {
  "kernelspec": {
   "display_name": "ai_env",
   "language": "python",
   "name": "python3"
  },
  "language_info": {
   "codemirror_mode": {
    "name": "ipython",
    "version": 3
   },
   "file_extension": ".py",
   "mimetype": "text/x-python",
   "name": "python",
   "nbconvert_exporter": "python",
   "pygments_lexer": "ipython3",
   "version": "3.13.3"
  }
 },
 "nbformat": 4,
 "nbformat_minor": 2
}
