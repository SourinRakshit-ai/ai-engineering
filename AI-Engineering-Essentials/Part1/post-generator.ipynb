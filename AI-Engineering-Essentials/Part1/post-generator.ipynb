{
 "cells": [
  {
   "cell_type": "markdown",
   "metadata": {},
   "source": [
    "### Step 1: Import Libraries and API Keys"
   ]
  },
  {
   "cell_type": "code",
   "execution_count": 1,
   "metadata": {},
   "outputs": [],
   "source": [
    "import os\n",
    "from openai import OpenAI\n",
    "from dotenv import load_dotenv\n",
    "from IPython.display import Markdown, display\n",
    "\n",
    "load_dotenv()\n",
    "\n",
    "OPENAI_API_KEY = os.getenv(\"OPENAI_API_KEY\")\n",
    "\n",
    "if OPENAI_API_KEY is None:\n",
    "    raise Exception(\"API key is missing\")"
   ]
  },
  {
   "cell_type": "markdown",
   "metadata": {},
   "source": [
    "### Step 2: Searching the web"
   ]
  },
  {
   "cell_type": "code",
   "execution_count": 3,
   "metadata": {},
   "outputs": [],
   "source": [
    "client = OpenAI()\n",
    "\n",
    "completion = client.chat.completions.create(\n",
    "    model=\"gpt-4o-mini-search-preview\",\n",
    "    messages=[\n",
    "        {\"role\": \"user\", \"content\": \"What are the latest AI confrerences happening in Dubai?\"}\n",
    "    ],\n",
    "    max_tokens=500\n",
    ")"
   ]
  },
  {
   "cell_type": "code",
   "execution_count": 5,
   "metadata": {},
   "outputs": [
    {
     "data": {
      "text/markdown": [
       "As of August 2, 2025, several AI conferences are scheduled to take place in Dubai. Here are some notable events:\n",
       "\n",
       "\n",
       "\n",
       "**AI Education Forum 2025**  \n",
       "**Dates:** November 19-20, 2025\n",
       "**Location:** Dubai Knowledge Park, UAE\n",
       "**Overview:** This annual conference focuses on practical AI integration in education, featuring keynotes, workshops, and exhibitions. ([aiedforum.com](https://aiedforum.com/aiedforum2025/?utm_source=openai))\n",
       "\n",
       "\n",
       "\n",
       "\n",
       "**GITEX Global 2025**  \n",
       "**Dates:** October 13-17, 2025\n",
       "**Location:** Dubai World Trade Centre\n",
       "**Overview:** As the world's largest tech and startup show, GITEX brings together industry leaders and innovators to explore cutting-edge advancements across various sectors, including AI. ([engine.com](https://engine.com/business-travel-guide/biggest-ai-expos-events-conferences-2025?utm_source=openai))\n",
       "\n",
       "\n",
       "\n",
       "\n",
       "**3rd International Summit on Robotics, Artificial Intelligence & Machine Learning**  \n",
       "**Dates:** September 11-13, 2025\n",
       "**Location:** Dubai, UAE\n",
       "**Overview:** This summit explores the integration of robotics, AI, and machine learning, focusing on advancements in AI ethics, robotics applications, and machine learning techniques. ([clocate.com](https://www.clocate.com/international-summit-on-robotics-artificial-intelligence-and-machine-learning/105210/?utm_source=openai))\n",
       "\n",
       "\n",
       "\n",
       "\n",
       "**World AI Technology Expo 2025**  \n",
       "**Date:** May 15, 2025\n",
       "**Location:** Mövenpick Grand Al Bustan Dubai\n",
       "**Overview:** This expo is the largest and most comprehensive AI exhibition and seminar globally, offering a platform for innovation and collaboration among AI industry experts from over 30 countries. ([eventbrite.com](https://www.eventbrite.com/e/world-ai-technology-expo-2025-dubai-tickets-1132508345949?utm_source=openai))\n",
       "\n",
       "\n",
       "\n",
       "\n",
       "**AgentCon 2025 - Dubai**  \n",
       "**Date:** June 21, 2025\n",
       "**Location:** Dubai Future Foundation, Emirates Towers\n",
       "**Overview:** Part of the AgentCon 2025 world tour, this event is designed exclusively for developers building the future with AI agents, featuring deep-dive talks, technical workshops, and live demos. ([globalai.community](https://globalai.community/chapters/dubai/events/agentcon-2025-dubai/?utm_source=openai))\n",
       "\n",
       "\n",
       "Please note that event details are subject to change. It's advisable to visit the official websites of these conferences for the most up-to-date information and registration details. "
      ],
      "text/plain": [
       "<IPython.core.display.Markdown object>"
      ]
     },
     "metadata": {},
     "output_type": "display_data"
    }
   ],
   "source": [
    "search_results = completion.choices[0].message.content\n",
    "\n",
    "display(Markdown(search_results))"
   ]
  },
  {
   "cell_type": "markdown",
   "metadata": {},
   "source": [
    "### Step 3: Summarize and write a social media post"
   ]
  },
  {
   "cell_type": "code",
   "execution_count": 6,
   "metadata": {},
   "outputs": [
    {
     "name": "stdout",
     "output_type": "stream",
     "text": [
      "🌟 Exciting AI Events Coming to Dubai in 2025! 🌟  \n",
      "\n",
      "Get ready for a whirlwind of innovation as Dubai hosts some of the biggest AI conferences:  \n",
      "\n",
      "🔹 **AI Education Forum** (Nov 19-20) - Explore AI's role in education with hands-on sessions.  \n",
      "🔹 **GITEX Global** (Oct 13-17) - The world's largest tech show uniting leaders in AI.  \n",
      "🔹 **AI & Robotics Summit** (Sept 11-13) - Discover the latest in robotics and ethical AI.  \n",
      "🔹 **World AI Technology Expo** (May 15) - The largest global AI exhibition, fostering collaboration.  \n",
      "🔹 **AgentCon** (June 21) - A deep dive into AI agents with workshops and demos.  \n",
      "\n",
      "Stay tuned for innovation! 💡✨\n"
     ]
    }
   ],
   "source": [
    "system_message = \"\"\"\n",
    "You are a helpful assistant whos job is to accurately summarize long series of \n",
    "news articles provided to you by the user and write up a compelling and easy to \n",
    "digest social media post.\n",
    "\"\"\"\n",
    "\n",
    "prompt = f\"\"\"\n",
    "The following is a series of news articles on the field of AI. Please summarize\n",
    "the articles and write a compelling social media post for LinkedIn highlighting\n",
    "key points about each article.\n",
    "\n",
    "The post should be short and concise and should not be more than 100 words.\n",
    "\n",
    "{search_results}\n",
    "\n",
    "\"\"\"\n",
    "\n",
    "completion = client.chat.completions.create(\n",
    "    model=\"gpt-4o-mini\",\n",
    "    messages=[\n",
    "        {\"role\": \"system\", \"content\": system_message},\n",
    "        {\"role\": \"user\", \"content\": prompt}\n",
    "    ],\n",
    "    max_tokens=500\n",
    ")\n",
    "\n",
    "chat_response = completion.choices[0].message.content\n",
    "\n",
    "print(chat_response)"
   ]
  },
  {
   "cell_type": "markdown",
   "metadata": {},
   "source": [
    "### **Your Challenge: Build your own post generator!!!**\n",
    "\n",
    "**Instructions**\n",
    "1. Choose a topic you are personally interested in (sports, fashion, space, finance)\n",
    "2. Use web search from any of the other tools we spoke about before to search the web (Tavily, Perplexity, SerpAPI, Search API)\n",
    "3. Place your contributions in the community-contributions folder.\n",
    "4. Bonus: Post about your project on LinkedIn and tag the [SuperDataScience Community Projects](https://www.linkedin.com/showcase/superdatascience-community-projects/?viewAsMember=true) page for a chance to have your post shared to the SDS LinkedIn community. "
   ]
  }
 ],
 "metadata": {
  "kernelspec": {
   "display_name": "ai_env",
   "language": "python",
   "name": "python3"
  },
  "language_info": {
   "codemirror_mode": {
    "name": "ipython",
    "version": 3
   },
   "file_extension": ".py",
   "mimetype": "text/x-python",
   "name": "python",
   "nbconvert_exporter": "python",
   "pygments_lexer": "ipython3",
   "version": "3.12.3"
  }
 },
 "nbformat": 4,
 "nbformat_minor": 2
}
