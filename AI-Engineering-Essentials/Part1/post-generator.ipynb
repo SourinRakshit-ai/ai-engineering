{
 "cells": [
  {
   "cell_type": "markdown",
   "metadata": {},
   "source": [
    "### Step 1: Import Libraries and API Keys"
   ]
  },
  {
   "cell_type": "code",
   "execution_count": null,
   "metadata": {},
   "outputs": [],
   "source": [
    "import os\n",
    "from openai import OpenAI\n",
    "from dotenv import load_dotenv\n",
    "from IPython.display import Markdown, display\n",
    "\n",
    "load_dotenv()\n",
    "\n",
    "OPENAI_API_KEY = os.getenv(\"OPENAI_API_KEY\")\n",
    "\n",
    "if OPENAI_API_KEY is None:\n",
    "    raise Exception(\"API key is missing\")"
   ]
  },
  {
   "cell_type": "markdown",
   "metadata": {},
   "source": [
    "### Step 2: Grab the latest news articles"
   ]
  },
  {
   "cell_type": "code",
   "execution_count": null,
   "metadata": {},
   "outputs": [],
   "source": [
    "client = OpenAI()\n",
    "\n",
    "completion = client.chat.completions.create(\n",
    "    model=\"gpt-4o-mini-search-preview\",\n",
    "    messages=[\n",
    "        {\n",
    "            \"role\": \"user\",\n",
    "            \"content\": \"Bring up some of the latest news articles around the field of AI.\",\n",
    "        }\n",
    "    ],\n",
    ")\n",
    "\n",
    "news_articles = completion.choices[0].message.content"
   ]
  },
  {
   "cell_type": "code",
   "execution_count": null,
   "metadata": {},
   "outputs": [],
   "source": [
    "display(Markdown(news_articles))"
   ]
  },
  {
   "cell_type": "markdown",
   "metadata": {},
   "source": [
    "### Step 3: Summarize and write a social media post"
   ]
  },
  {
   "cell_type": "code",
   "execution_count": null,
   "metadata": {},
   "outputs": [],
   "source": [
    "system_message = \"\"\"\n",
    "You are a helpful assistant whos job is to accurately summarize long series of \n",
    "news articles provided to you by the user and write up a compelling and easy to \n",
    "digest social media post.\n",
    "\"\"\"\n",
    "\n",
    "prompt = f\"\"\"\n",
    "The following is a series of news articles on the field of AI. Please summarize\n",
    "the articles and write a compelling social media post for LinkedIn highlighting\n",
    "key points about each article.\n",
    "\n",
    "The post should be short and concise and should not be more than 100 words.\n",
    "\n",
    "{news_articles}\n",
    "\n",
    "\"\"\"\n",
    "\n",
    "completion = client.chat.completions.create(\n",
    "    model=\"gpt-4o-mini\",\n",
    "    messages=[\n",
    "        {\"role\": \"system\", \"content\": system_message},\n",
    "        {\n",
    "            \"role\": \"user\",\n",
    "            \"content\": prompt\n",
    "        }\n",
    "    ]\n",
    ")\n",
    "\n",
    "chat_response = completion.choices[0].message.content\n",
    "display(Markdown(chat_response))"
   ]
  },
  {
   "cell_type": "markdown",
   "metadata": {},
   "source": [
    "### Step 4: Enhance structure and layout\n",
    "\n",
    "**UPDATE!!!** It seems that the o3-mini model is only avilable once you have verified your organization on the OpenAI platform which is a weird restriction to add in.\n",
    "\n",
    "So we will divert a bit and use the o1-mini model instead as this seems to be the most stable model available.\n",
    "\n",
    "A huge shout out to a fellow SDS member Idrak for pointing this out in the issues :D"
   ]
  },
  {
   "cell_type": "code",
   "execution_count": null,
   "metadata": {},
   "outputs": [],
   "source": [
    "system_message = \"You are a helpful assistant.\"\n",
    "\n",
    "reasoning_prompt = f\"\"\"\n",
    "I've been given a social media post.\n",
    "\n",
    "I want you to analyze the style of writing and the key points mentioned in the post\n",
    "and provide me with a reasoning as to why this post is effective or not effective\n",
    "for a LinkedIn audience for those who may have little to no knowledge about AI.\n",
    "\n",
    "After this, restructure the post according to the suggestions you have provided.\n",
    "\n",
    "Please provide your reasoning in a few sentences.\n",
    "\n",
    "Here is the post for context:\n",
    "\n",
    "{chat_response}\n",
    "\"\"\"\n",
    "\n",
    "completion = client.chat.completions.create(\n",
    "    model=\"o1-mini\",\n",
    "    messages=[\n",
    "        {\"role\": \"system\", \"content\": system_message},\n",
    "        {\n",
    "            \"role\": \"user\",\n",
    "            \"content\": reasoning_prompt\n",
    "        }\n",
    "    ]\n",
    ")\n",
    "\n",
    "reasoning_response = completion.choices[0].message.content\n",
    "display(Markdown(reasoning_response))"
   ]
  },
  {
   "cell_type": "markdown",
   "metadata": {},
   "source": [
    "### **Your Challenge: Build your own post generator!!!**\n",
    "\n",
    "**Instructions**\n",
    "1. Choose a topic you are personally interested in (sports, fashion, space, finance)\n",
    "2. Use web search to gather content and summarize into a social media post (bonus points for using Claudes Search Results)\n",
    "3. Place your contributions in the community-contributions folder of this section.\n",
    "4. Bonus: Post about your project on LinkedIn and tag the [SuperDataScience Community Projects](https://www.linkedin.com/showcase/superdatascience-community-projects/?viewAsMember=true) page for a chance to have your post shared to the SDS LinkedIn community. "
   ]
  }
 ],
 "metadata": {
  "kernelspec": {
   "display_name": "ai_env",
   "language": "python",
   "name": "python3"
  },
  "language_info": {
   "codemirror_mode": {
    "name": "ipython",
    "version": 3
   },
   "file_extension": ".py",
   "mimetype": "text/x-python",
   "name": "python",
   "nbconvert_exporter": "python",
   "pygments_lexer": "ipython3",
   "version": "3.13.2"
  }
 },
 "nbformat": 4,
 "nbformat_minor": 2
}
