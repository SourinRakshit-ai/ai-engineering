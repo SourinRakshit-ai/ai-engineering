{
 "cells": [
  {
   "cell_type": "markdown",
   "metadata": {},
   "source": [
    "# Lecture 7: Working with Claude API and Reasoning Models\n",
    "\n",
    "### Overview\n",
    "\n",
    "Let's finally dive into the nitty-gritty and see how we can code with Claude.\n",
    "\n",
    "This notebook explores the Anthropic Claude API, focusing on how to leverage both standard chat capabilities and advanced reasoning features. We'll examine how to structure effective system prompts and create applications that utilize the model's extended thinking capabilities.\n",
    "\n",
    "### Objectives\n",
    "- Set up and configure the Anthropic Claude API\n",
    "- Create tailored system prompts for specific use cases\n",
    "- Compare standard responses with reasoning-enhanced outputs\n",
    "- Analyze the \"thinking\" process in reasoning models\n",
    "\n",
    "### Challenge\n",
    "Take the code we have used in this lecture and see if you can beat my overall score. Let's turn this into a friendly competition for all those tackling this project and compare the results you get :D\n",
    "\n",
    "Place your submission in the community-contributions folder by creating a folder with your name in it.\n",
    "\n",
    "### Version History\n",
    "\n",
    "Below you will find any updates I have made to the notebooks.\n",
    "\n",
    "**Please note** that some of the code may be different to what you have seen in the lectures as there may be bug fixes or improvements but the general objective of the notebook will remain the same.\n",
    "\n",
    "| Date | Version | Description of Changes |\n",
    "|------|---------|------------------------|\n",
    "| 2025-03-01 | v1.0 | Initial version |\n",
    "\n"
   ]
  },
  {
   "cell_type": "markdown",
   "metadata": {},
   "source": [
    "#### Step 1: Import libraries and load the environment variables"
   ]
  },
  {
   "cell_type": "code",
   "execution_count": 2,
   "metadata": {},
   "outputs": [],
   "source": [
    "import os\n",
    "import anthropic\n",
    "from dotenv import load_dotenv\n",
    "from IPython.display import Markdown, display\n",
    "\n",
    "load_dotenv()\n",
    "\n",
    "ANTHROPIC_API_KEY = os.getenv(\"ANTHROPIC_API_KEY\")\n",
    "\n",
    "if ANTHROPIC_API_KEY is None:\n",
    "    raise Exception(\"API key is missing\")"
   ]
  },
  {
   "cell_type": "markdown",
   "metadata": {},
   "source": [
    "#### Step 2: Call the API"
   ]
  },
  {
   "cell_type": "code",
   "execution_count": null,
   "metadata": {},
   "outputs": [],
   "source": []
  },
  {
   "cell_type": "markdown",
   "metadata": {},
   "source": [
    "#### Step 3: Customize the Prompt\n",
    "\n",
    "Customer service representative"
   ]
  },
  {
   "cell_type": "code",
   "execution_count": 3,
   "metadata": {},
   "outputs": [],
   "source": [
    "complaint = \"You have over charged me for this product. I demand a refund.\""
   ]
  },
  {
   "cell_type": "code",
   "execution_count": 4,
   "metadata": {},
   "outputs": [],
   "source": [
    "company_policy = \"\"\"\n",
    "- We offer refunds only within 14 days of purchase.\n",
    "- For purchases over $100, a supervisor must approve the refund.\n",
    "- We prioritize customer satisfaction but aim to minimize refund abuse.\n",
    "\n",
    "\"\"\""
   ]
  },
  {
   "cell_type": "code",
   "execution_count": 8,
   "metadata": {},
   "outputs": [
    {
     "data": {
      "text/markdown": [
       "Dear [Customer],\n",
       "\n",
       "Thank you for reaching out to us regarding your recent purchase. I have reviewed the details of your complaint, and I understand your concern about the charge for the product.\n",
       "\n",
       "Unfortunately, our company policy states that we only offer refunds within 14 days of the original purchase date. As your purchase was made more than 14 days ago, we are unable to provide a refund at this time.\n",
       "\n",
       "Additionally, since the purchase amount was over $100, our policy requires that any refund be approved by a supervisor. Given the timeframe of your request, I am not able to authorize a refund without prior approval.\n",
       "\n",
       "While we strive to prioritize customer satisfaction, we also have measures in place to prevent refund abuse. I understand this may not be the outcome you were hoping for, but I hope you can appreciate the need for these policies to ensure fairness for all our customers.\n",
       "\n",
       "If you have any other questions or concerns, please do not hesitate to reach out to us. We are committed to providing the best possible service and would be happy to assist you further.\n",
       "\n",
       "Sincerely,\n",
       "[Your Name]\n",
       "Customer Service Representative\n",
       "[Company Name]"
      ],
      "text/plain": [
       "<IPython.core.display.Markdown object>"
      ]
     },
     "metadata": {},
     "output_type": "display_data"
    }
   ],
   "source": [
    "system_message = \"You are a customer service agent.\"\n",
    "\n",
    "prompt = f\"\"\"\n",
    "\n",
    "We have received a csutomer complaint 20 days ago: \"{complaint}\"\n",
    "\n",
    "The company policy is as follows:\n",
    "{company_policy}\n",
    "\n",
    "Draft a reply to the customer.\n",
    "\n",
    "\"\"\"\n",
    "client = anthropic.Client()\n",
    "\n",
    "message = client.messages.create(\n",
    "    model=\"claude-3-haiku-20240307\",\n",
    "    max_tokens=1000,\n",
    "    temperature=0.7,\n",
    "    system=system_message,\n",
    "    messages=[\n",
    "        {\"role\": \"user\", \"content\": prompt}\n",
    "    ]\n",
    ")\n",
    "\n",
    "chat_response = message.content[0].text\n",
    "display(Markdown(chat_response))"
   ]
  },
  {
   "cell_type": "markdown",
   "metadata": {},
   "source": [
    "#### Step 4: Rate the response using a reasoning model"
   ]
  },
  {
   "cell_type": "code",
   "execution_count": null,
   "metadata": {},
   "outputs": [
    {
     "name": "stdout",
     "output_type": "stream",
     "text": [
      "[ThinkingBlock(signature='ErUBCkYIBRgCIkDZu2OP+C6U9tOyxtE2Guh92nL070XsINNld3l1NTT/75oqD0LfsrRXGB4jYEHGQAURZCCdeU7TS12nL3knVb3PEgzcIt8Cpow4VBrdCOgaDNt8VxQfXmtTsl+ffyIwzlVkT/HTh9QdyH8bniQA5W/LtBWap6ZIoptlzguydZgDulVL2SyZrLum6XWrEwPdKh2xcYimgQNFAj3un/2r7h4Qntnbq1EDNa9D0nl/CxgC', thinking='I\\'ll assess the customer service email response by evaluating several dimensions: appropriateness, clarity, helpfulness, and alignment with both customer service best practices and the stated company policy.\\n\\nFirst, let\\'s analyze the customer complaint:\\n\"You have over charged me for this product. I demand a refund.\"\\n\\nThis is a brief complaint claiming the customer was overcharged and requesting a refund.\\n\\nNow, let\\'s evaluate the response:\\n\\n1. Tone and Empathy\\nThe email begins professionally with acknowledgment of the complaint, but could show more empathy about the overcharging claim. The representative doesn\\'t directly address whether the customer was actually overcharged, which is the core issue.\\n\\n2. Clarity and Accuracy\\nThe email clearly explains the refund policy (14-day window, supervisor approval for >$100). However, it assumes the purchase was made more than 14 days ago without stating this explicitly or confirming it with the customer.\\n\\n3. Problem Resolution\\nThe response immediately jumps to denying the refund without:\\n- Investigating if the customer was actually overcharged as claimed\\n- Checking when the purchase was actually made (simply assuming it\\'s beyond 14 days)\\n- Offering any alternative solutions\\n\\n4. Policy Application\\nThe response cites policy correctly but applies it assuming facts that aren\\'t verified. If the customer was genuinely overcharged (billed more than the advertised price), this might be a billing error rather than a standard refund request, which could warrant different handling.\\n\\n5. Customer-Centricity\\nThe email mentions \"preventing refund abuse\" which could come across as accusatory to a customer who believes they were legitimately overcharged.\\n\\n6. Next Steps\\nNo clear action items are provided beyond \"reach out if you have questions.\" No escalation path is offered for the customer to dispute the decision.\\n\\nDecision Analysis:\\n- The decision (refund or not?): The email denies the refund\\n- Reasoning aligned with company policy: The reasoning cites policy but assumes facts (purchase date) not confirmed in the exchange\\n- Potential risk of customer churn: High - a customer who believes they were overcharged and receives a denial without investigation is likely to be dissatisfied\\n- Communication strategy: The strategy is policy-focused rather than solution-focused\\n- Accuracy: The response may be factually inaccurate if the purchase was within 14 days or if there was an actual billing error\\n\\nOverall, this response is problematic because it:\\n1. Fails to investigate the core claim of being \"overcharged\"\\n2. Makes assumptions about purchase timing without verification\\n3. Jumps to denial without exploring solutions\\n4. May misapply policy if this is a billing error rather than a standard refund request\\n5. Could come across as dismissive of a legitimate complaint', type='thinking'), TextBlock(citations=None, text='# Email Response Evaluation\\n\\n## Overall Assessment\\nThis response is **inadequate** for addressing the customer\\'s complaint about being overcharged. It focuses on refund policy timing rather than investigating the core claim of incorrect pricing.\\n\\n## Detailed Rating\\n\\n**Empathy:** 5/10  \\nAcknowledges concern but doesn\\'t validate the overcharging claim, which is the customer\\'s primary issue.\\n\\n**Problem Resolution:** 3/10  \\nFails to investigate whether the customer was actually overcharged before denying the refund.\\n\\n**Clarity:** 7/10  \\nClearly explains policy but misapplies it to what might be a billing error, not a standard refund.\\n\\n**Accuracy:** 4/10  \\nMakes unverified assumptions about purchase timing without confirming details.\\n\\n**Customer-Centricity:** 3/10  \\nReferences \"refund abuse\" which appears accusatory when responding to a potential billing error.\\n\\n## Recommendation\\n\\n**Decision:** The team should investigate the overcharging claim before deciding on a refund\\n\\n**Reasoning:** If the customer was genuinely overcharged (billed more than advertised), this represents a billing error that may warrant resolution regardless of the standard refund window.\\n\\n**Churn Risk:** Very high - customers who believe they\\'ve been overcharged and receive a policy rejection without investigation are likely to escalate and ultimately leave.\\n\\n**Communication Strategy:** \\n1. Acknowledge the overcharging claim specifically\\n2. Request order details to verify the pricing discrepancy\\n3. If overcharged, resolve regardless of timeframe as it\\'s a company error\\n4. If not overcharged, explain pricing clearly with evidence\\n\\nThis situation requires fact-finding before policy application, as billing errors fall outside standard refund policies.', type='text')]\n"
     ]
    }
   ],
   "source": [
    "system_message = \"You are an expert customer service representative. Evaluate the email response to be sent to a customer complaint.\"\n",
    "\n",
    "reasoning_prompt = f\"\"\"\n",
    "A customer has made a complaint.\n",
    "\n",
    "{complaint}\n",
    "\n",
    "Evaluate this customer service email response.\n",
    "\n",
    "{chat_response}\n",
    "\n",
    "Company Policy:\n",
    "{company_policy}\n",
    "\n",
    "Rate each category with ONE LINE explanation:\n",
    "\n",
    "Based on this, decide how the support team should respond. Your analysis must include:\n",
    "-\n",
    "-\n",
    "-\n",
    "-\n",
    "\n",
    "\"\"\"\n",
    "\n",
    "message = client.messages.create(\n",
    "    model=\"claude-3-7-sonnet-20250219\",\n",
    "    max_tokens=5000,\n",
    "    thinking={\n",
    "        \"type\": \"enabled\",\n",
    "        \"budget_tokens\": 3000\n",
    "    },\n",
    "    temperature=1,\n",
    "    system=system_message,\n",
    "    messages=[\n",
    "        {\"role\": \"user\", \"content\": reasoning_prompt}\n",
    "    ]\n",
    ")\n",
    "reasoning_response = message.content\n",
    "print(reasoning_response)"
   ]
  },
  {
   "cell_type": "code",
   "execution_count": 10,
   "metadata": {},
   "outputs": [
    {
     "data": {
      "text/markdown": [
       "# Email Response Evaluation\n",
       "\n",
       "## Overall Assessment\n",
       "This response is **inadequate** for addressing the customer's complaint about being overcharged. It focuses on refund policy timing rather than investigating the core claim of incorrect pricing.\n",
       "\n",
       "## Detailed Rating\n",
       "\n",
       "**Empathy:** 5/10  \n",
       "Acknowledges concern but doesn't validate the overcharging claim, which is the customer's primary issue.\n",
       "\n",
       "**Problem Resolution:** 3/10  \n",
       "Fails to investigate whether the customer was actually overcharged before denying the refund.\n",
       "\n",
       "**Clarity:** 7/10  \n",
       "Clearly explains policy but misapplies it to what might be a billing error, not a standard refund.\n",
       "\n",
       "**Accuracy:** 4/10  \n",
       "Makes unverified assumptions about purchase timing without confirming details.\n",
       "\n",
       "**Customer-Centricity:** 3/10  \n",
       "References \"refund abuse\" which appears accusatory when responding to a potential billing error.\n",
       "\n",
       "## Recommendation\n",
       "\n",
       "**Decision:** The team should investigate the overcharging claim before deciding on a refund\n",
       "\n",
       "**Reasoning:** If the customer was genuinely overcharged (billed more than advertised), this represents a billing error that may warrant resolution regardless of the standard refund window.\n",
       "\n",
       "**Churn Risk:** Very high - customers who believe they've been overcharged and receive a policy rejection without investigation are likely to escalate and ultimately leave.\n",
       "\n",
       "**Communication Strategy:** \n",
       "1. Acknowledge the overcharging claim specifically\n",
       "2. Request order details to verify the pricing discrepancy\n",
       "3. If overcharged, resolve regardless of timeframe as it's a company error\n",
       "4. If not overcharged, explain pricing clearly with evidence\n",
       "\n",
       "This situation requires fact-finding before policy application, as billing errors fall outside standard refund policies."
      ],
      "text/plain": [
       "<IPython.core.display.Markdown object>"
      ]
     },
     "metadata": {},
     "output_type": "display_data"
    }
   ],
   "source": [
    "display(Markdown(reasoning_response[1].text))"
   ]
  },
  {
   "cell_type": "markdown",
   "metadata": {},
   "source": [
    "# **Your Challenge!!!**"
   ]
  },
  {
   "cell_type": "markdown",
   "metadata": {},
   "source": [
    "A customer has submitted a complaint. Based on company policy and the situation, the model must select the correct resolution option from a list, and give a 1-line justification."
   ]
  },
  {
   "cell_type": "code",
   "execution_count": null,
   "metadata": {},
   "outputs": [],
   "source": [
    "complaint = \"I ordered a ceramic mug and received a broken one. Please fix this!\"\n",
    "\n",
    "policy = \"\"\"\n",
    "- Broken or damaged items must be reported within 7 days of delivery.\n",
    "- If reported in time, the item is replaced or refunded.\n",
    "- No action is taken for reports after 7 days unless escalated.\n",
    "\"\"\"\n",
    "\n",
    "metadata = \"\"\"\n",
    "    Reported Days After Delivery: 5\n",
    "    Item Value: $12\n",
    "    Customer Tier: Standard\n",
    "    Past Complaints: 0\n",
    "\"\"\"\n"
   ]
  },
  {
   "cell_type": "markdown",
   "metadata": {},
   "source": [
    "Build a customer support agent that could help solve this issue\n",
    "\n",
    "The agent should choose one of the following options:\n",
    "- Refund Item\n",
    "- Replace Item\n",
    "- Offer Discount\n",
    "- Apologize (no action)\n",
    "- Report to supervisor"
   ]
  },
  {
   "cell_type": "code",
   "execution_count": null,
   "metadata": {},
   "outputs": [],
   "source": [
    "system_message = \"You are a ...\"\n",
    "\n",
    "prompt = \"\"\n",
    "\n",
    "message ="
   ]
  }
 ],
 "metadata": {
  "kernelspec": {
   "display_name": "ai_env",
   "language": "python",
   "name": "python3"
  },
  "language_info": {
   "codemirror_mode": {
    "name": "ipython",
    "version": 3
   },
   "file_extension": ".py",
   "mimetype": "text/x-python",
   "name": "python",
   "nbconvert_exporter": "python",
   "pygments_lexer": "ipython3",
   "version": "3.12.3"
  }
 },
 "nbformat": 4,
 "nbformat_minor": 2
}
