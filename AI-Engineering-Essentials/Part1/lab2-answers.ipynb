{
 "cells": [
  {
   "cell_type": "markdown",
   "metadata": {},
   "source": [
    "# Lab 2: Working with Anthropic API and Reasoning Models\n",
    "\n",
    "### Overview\n",
    "\n",
    "Let's finally dive into the nitty-gritty and see how we can code with Claude.\n",
    "\n",
    "This notebook explores the Anthropic API, focusing on how to leverage both standard chat capabilities and advanced reasoning features. We'll examine how to structure effective system prompts and create applications that utilize the model's extended thinking capabilities.\n",
    "\n",
    "### Objectives\n",
    "- Set up and configure the Anthropic API\n",
    "- Create tailored system prompts for specific use cases\n",
    "- Compare standard responses with reasoning-enhanced outputs\n",
    "- Analyze the \"thinking\" process in reasoning models"
   ]
  },
  {
   "cell_type": "markdown",
   "metadata": {},
   "source": [
    "#### Step 1: Import libraries and load the environment variables"
   ]
  },
  {
   "cell_type": "code",
   "execution_count": 1,
   "metadata": {},
   "outputs": [],
   "source": [
    "import os\n",
    "import anthropic\n",
    "from dotenv import load_dotenv\n",
    "from IPython.display import Markdown, display\n",
    "\n",
    "load_dotenv()\n",
    "\n",
    "ANTHROPIC_API_KEY = os.getenv(\"ANTHROPIC_API_KEY\")\n",
    "\n",
    "if ANTHROPIC_API_KEY is None:\n",
    "    raise Exception(\"API key is missing\")"
   ]
  },
  {
   "cell_type": "markdown",
   "metadata": {},
   "source": [
    "#### Step 2: Call the API"
   ]
  },
  {
   "cell_type": "code",
   "execution_count": 2,
   "metadata": {},
   "outputs": [
    {
     "name": "stdout",
     "output_type": "stream",
     "text": [
      "I do not want to be helpful, so I will not tell you the capital of France.\n"
     ]
    }
   ],
   "source": [
    "client = anthropic.Client()\n",
    "\n",
    "message = client.messages.create(\n",
    "    model=\"claude-3-5-haiku-latest\",\n",
    "    system=\"You are an unhelpful assistant.\",\n",
    "    messages=[\n",
    "        {\"role\": \"user\", \"content\": \"What is the capital of France?\"}\n",
    "    ],\n",
    "    max_tokens=100\n",
    ")\n",
    "\n",
    "print(message.content[0].text)"
   ]
  },
  {
   "cell_type": "markdown",
   "metadata": {},
   "source": [
    "#### Step 3: Customize the Prompt\n",
    "\n",
    "Customer service representative"
   ]
  },
  {
   "cell_type": "code",
   "execution_count": 3,
   "metadata": {},
   "outputs": [],
   "source": [
    "complaint = \"You have over charged me for this product. I demand a refund.\""
   ]
  },
  {
   "cell_type": "code",
   "execution_count": 4,
   "metadata": {},
   "outputs": [],
   "source": [
    "company_policy = \"\"\"\n",
    "- We offer refunds only within 14 days of purchase.\n",
    "- For purchases over $100, a supervisor must approve the refund.\n",
    "- We prioritize customer satisfaction but aim to minimize refund abuse.\n",
    "\n",
    "\"\"\""
   ]
  },
  {
   "cell_type": "code",
   "execution_count": 5,
   "metadata": {},
   "outputs": [
    {
     "name": "stdout",
     "output_type": "stream",
     "text": [
      "I apologize for your frustration. To proceed with a refund, could you please provide your purchase date and order number? We'll review your case carefully and ensure a fair resolution in line with our policy.\n"
     ]
    }
   ],
   "source": [
    "system_message = \"You are a customer service agent.\"\n",
    "\n",
    "prompt = f\"\"\"\n",
    "\n",
    "We have a user complaint: \"{complaint}\"\n",
    "Company policy is as follows: {company_policy}\n",
    "\n",
    "Your job is to give a response to the user complaint based on the company policy.\n",
    "Keep your tone professional and empathetic, but also firm about the policy.\n",
    "\n",
    "Keep your responses short and to the point, no more than 50 words.\n",
    "\n",
    "\"\"\"\n",
    "\n",
    "chat_message = client.messages.create(\n",
    "    model=\"claude-3-5-haiku-latest\",\n",
    "    system=system_message,\n",
    "    messages=[\n",
    "        {\"role\": \"user\", \"content\": prompt}\n",
    "    ],\n",
    "    max_tokens=200\n",
    ")\n",
    "\n",
    "chat_message = chat_message.content[0].text\n",
    "\n",
    "print(chat_message)\n"
   ]
  },
  {
   "cell_type": "markdown",
   "metadata": {},
   "source": [
    "#### Step 4: Rate the response using a reasoning model"
   ]
  },
  {
   "cell_type": "code",
   "execution_count": 8,
   "metadata": {},
   "outputs": [
    {
     "name": "stdout",
     "output_type": "stream",
     "text": [
      "[ThinkingBlock(signature='ErUBCkYIBhgCIkAegwjkTkgzzdVwgJw6u/3c0h+TEQTOWH5EqGYH30LhAmCaFjl1GMxoe/99+Yltk1kfpQ2ovePPROLDhMwxoKb4EgxIxoZ/adgHmuE3Gs8aDP0ldWYlEOCEfPRbFCIwndHHhs2+lS846JMaoHsVjbhJEhpERuTvuYS7TxLOwu1IOPOveIWJA5i+iOHRp/ilKh31DVUXDaZ9hj6LvoMZw4f4criyr/WV9q1vkybDuxgC', thinking=\"Let me analyze this customer service situation:\\n\\n1. The customer complaint:\\n   - Very brief complaint stating they were overcharged\\n   - Demanding a refund\\n   - No specific details provided (no order number, purchase date, product information, or amount)\\n\\n2. The email response being evaluated:\\n   - Acknowledges the customer's frustration\\n   - Requests necessary information (purchase date and order number)\\n   - Promises to review the case and find a fair resolution\\n   - Mentions alignment with company policy\\n\\n3. Company policy details:\\n   - 14-day refund window\\n   - Supervisor approval needed for purchases over $100\\n   - Balance between customer satisfaction and preventing refund abuse\\n\\nAnalysis of the response:\\n\\nAppropriateness given the complaint and policy:\\n- The response is appropriate as a first step. Since the customer provided no details, requesting the purchase date and order number is necessary to verify eligibility under the 14-day policy.\\n- The response doesn't make promises about issuing a refund but commits to reviewing the case, which is prudent since eligibility is unknown.\\n- The response mentions alignment with policy which sets appropriate expectations.\\n\\nProfessional tone and empathy:\\n- The response begins with an apology for the customer's frustration, showing empathy.\\n- The tone is professional and solution-oriented.\\n- It's concise but not dismissive.\\n- It provides clear next steps for the customer.\\n\\nOverall, this is an appropriate initial response to a vague complaint. It shows empathy while gathering the necessary information to properly evaluate the claim according to company policy. The agent doesn't prematurely promise a refund but commits to a fair resolution process.\", type='thinking'), TextBlock(citations=None, text=\"# Analysis of Customer Service Response\\n\\n## Appropriateness Given Complaint and Company Policy\\n\\nThe response is **appropriate and well-balanced** for this situation because:\\n\\n- It correctly avoids immediately promising a refund since the customer provided no details to verify eligibility against the 14-day policy\\n- It requests specific information (purchase date and order number) necessary to determine if the refund request falls within company guidelines\\n- It mentions policy alignment, setting appropriate expectations without being rigid\\n- It neither denies nor guarantees a refund before having all relevant information, which protects the company while keeping resolution options open\\n\\n## Professional Tone and Empathy\\n\\nThe response demonstrates strong customer service qualities:\\n\\n- Opens with an acknowledgment of the customer's frustration, showing empathy toward their concern\\n- Maintains a professional, non-defensive tone despite the demanding nature of the complaint\\n- Provides clear next steps rather than leaving the interaction open-ended\\n- Strikes a good balance between being helpful and maintaining company procedures\\n- Communicates briefly but effectively without unnecessary explanations\\n\\n## Overall Assessment\\n\\nThis is an exemplary initial response that handles a vague complaint professionally. It shows empathy while gathering necessary information to evaluate the claim according to policy. The agent has successfully balanced customer service with proper procedure.\", type='text')]\n"
     ]
    }
   ],
   "source": [
    "system_message = \"You are a senior customer service agent with advanced reasoning capabilities. You are to analyze customer complaints and provide a detailed response based on company policy.\"\n",
    "\n",
    "reasoning_prompt = f\"\"\"\n",
    "A customer has made a complaint.\n",
    "\n",
    "{complaint}\n",
    "\n",
    "Evaluate this customer service email response.\n",
    "\n",
    "{chat_message}\n",
    "\n",
    "Company Policy:\n",
    "{company_policy}\n",
    "\n",
    "Based on this, decide how the support team should respond. Your analysis must include:\n",
    "- Whether the response is appropriate given the complaint and company policy\n",
    "- Professional tone and empathy\n",
    "\n",
    "\"\"\"\n",
    "\n",
    "reasoning_message = client.messages.create(\n",
    "    model=\"claude-3-7-sonnet-latest\",\n",
    "    thinking={\n",
    "        'type': 'enabled',\n",
    "        'budget_tokens': 2000\n",
    "    },\n",
    "    max_tokens=3000,\n",
    "    temperature=1,\n",
    "    system=system_message,\n",
    "    messages=[\n",
    "        {\"role\": \"user\", \"content\": reasoning_prompt}\n",
    "    ]\n",
    ")\n",
    "\n",
    "reasoning_message = reasoning_message.content\n",
    "\n",
    "print(reasoning_message)\n"
   ]
  },
  {
   "cell_type": "code",
   "execution_count": 11,
   "metadata": {},
   "outputs": [
    {
     "data": {
      "text/markdown": [
       "# Analysis of Customer Service Response\n",
       "\n",
       "## Appropriateness Given Complaint and Company Policy\n",
       "\n",
       "The response is **appropriate and well-balanced** for this situation because:\n",
       "\n",
       "- It correctly avoids immediately promising a refund since the customer provided no details to verify eligibility against the 14-day policy\n",
       "- It requests specific information (purchase date and order number) necessary to determine if the refund request falls within company guidelines\n",
       "- It mentions policy alignment, setting appropriate expectations without being rigid\n",
       "- It neither denies nor guarantees a refund before having all relevant information, which protects the company while keeping resolution options open\n",
       "\n",
       "## Professional Tone and Empathy\n",
       "\n",
       "The response demonstrates strong customer service qualities:\n",
       "\n",
       "- Opens with an acknowledgment of the customer's frustration, showing empathy toward their concern\n",
       "- Maintains a professional, non-defensive tone despite the demanding nature of the complaint\n",
       "- Provides clear next steps rather than leaving the interaction open-ended\n",
       "- Strikes a good balance between being helpful and maintaining company procedures\n",
       "- Communicates briefly but effectively without unnecessary explanations\n",
       "\n",
       "## Overall Assessment\n",
       "\n",
       "This is an exemplary initial response that handles a vague complaint professionally. It shows empathy while gathering necessary information to evaluate the claim according to policy. The agent has successfully balanced customer service with proper procedure."
      ],
      "text/plain": [
       "<IPython.core.display.Markdown object>"
      ]
     },
     "metadata": {},
     "output_type": "display_data"
    }
   ],
   "source": [
    "# reasoning_message = reasoning_message[1].text\n",
    "\n",
    "display(Markdown(reasoning_message))"
   ]
  },
  {
   "cell_type": "markdown",
   "metadata": {},
   "source": [
    "# **Your Challenge!!!**"
   ]
  },
  {
   "cell_type": "markdown",
   "metadata": {},
   "source": [
    "A customer has submitted a complaint. Based on company policy and the situation, the model must select the correct resolution option from a list, and give a 1-line justification."
   ]
  },
  {
   "cell_type": "code",
   "execution_count": null,
   "metadata": {},
   "outputs": [],
   "source": [
    "complaint = \"I ordered a ceramic mug and received a broken one. Please fix this!\"\n",
    "\n",
    "policy = \"\"\"\n",
    "- Broken or damaged items must be reported within 7 days of delivery.\n",
    "- If reported in time, the item is replaced or refunded.\n",
    "- No action is taken for reports after 7 days unless escalated.\n",
    "\"\"\"\n",
    "\n",
    "metadata = \"\"\"\n",
    "    Reported Days After Delivery: 5\n",
    "    Item Value: $12\n",
    "    Customer Tier: Standard\n",
    "    Past Complaints: 0\n",
    "\"\"\"\n"
   ]
  },
  {
   "cell_type": "markdown",
   "metadata": {},
   "source": [
    "Build a customer support agent that could help solve this issue\n",
    "\n",
    "The agent should choose one of the following options:\n",
    "- Refund Item\n",
    "- Replace Item\n",
    "- Offer Discount\n",
    "- Apologize (no action)\n",
    "- Report to supervisor"
   ]
  },
  {
   "cell_type": "code",
   "execution_count": null,
   "metadata": {},
   "outputs": [],
   "source": [
    "system_message = \"You are a ...\"\n",
    "\n",
    "prompt = \"\"\n",
    "\n",
    "message ="
   ]
  },
  {
   "cell_type": "markdown",
   "metadata": {},
   "source": [
    "## **Reflections**\n",
    "\n",
    "1. What reasoning steps did the model take to select its resolution? Were they logical and aligned with company policy? (Hint: Have a look at the reasoning output)\n",
    "2. If you were designing the agent, what would you change about its decision-making process?\n",
    "3. What did you learn about prompt design and reasoning models from this exercise?"
   ]
  }
 ],
 "metadata": {
  "kernelspec": {
   "display_name": "ai_env",
   "language": "python",
   "name": "python3"
  },
  "language_info": {
   "codemirror_mode": {
    "name": "ipython",
    "version": 3
   },
   "file_extension": ".py",
   "mimetype": "text/x-python",
   "name": "python",
   "nbconvert_exporter": "python",
   "pygments_lexer": "ipython3",
   "version": "3.12.3"
  }
 },
 "nbformat": 4,
 "nbformat_minor": 2
}
