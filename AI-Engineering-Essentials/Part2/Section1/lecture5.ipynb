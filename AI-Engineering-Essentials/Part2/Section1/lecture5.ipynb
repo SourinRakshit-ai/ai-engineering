{
 "cells": [
  {
   "cell_type": "markdown",
   "id": "b3d94fb4",
   "metadata": {},
   "source": [
    "# Lecture 5: Coding with Huggingface\n",
    "\n",
    "This lecture will take place on Google Colab for enhanced processing power\n",
    "\n",
    "https://colab.research.google.com/drive/1XNC5i1056nq_r8pvJjf2EAsmKw9bGOMD"
   ]
  },
  {
   "cell_type": "code",
   "execution_count": null,
   "id": "b03b57c8",
   "metadata": {},
   "outputs": [],
   "source": []
  }
 ],
 "metadata": {
  "kernelspec": {
   "display_name": "ai_env",
   "language": "python",
   "name": "python3"
  },
  "language_info": {
   "codemirror_mode": {
    "name": "ipython",
    "version": 3
   },
   "file_extension": ".py",
   "mimetype": "text/x-python",
   "name": "python",
   "nbconvert_exporter": "python",
   "pygments_lexer": "ipython3",
   "version": "3.12.10"
  }
 },
 "nbformat": 4,
 "nbformat_minor": 5
}
