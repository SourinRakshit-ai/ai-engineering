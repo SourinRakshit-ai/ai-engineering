{
 "cells": [
  {
   "cell_type": "markdown",
   "id": "afaf9690",
   "metadata": {},
   "source": [
    "# Lecture 7: AI Notetaker\n",
    "\n",
    "Link to google colab: https://colab.research.google.com/drive/1PKVKD6pSm5e-HW1dnqmkygtfXVHv13zH?usp=sharing"
   ]
  }
 ],
 "metadata": {
  "kernelspec": {
   "display_name": "ai_env",
   "language": "python",
   "name": "python3"
  },
  "language_info": {
   "codemirror_mode": {
    "name": "ipython",
    "version": 3
   },
   "file_extension": ".py",
   "mimetype": "text/x-python",
   "name": "python",
   "nbconvert_exporter": "python",
   "pygments_lexer": "ipython3",
   "version": "3.12.10"
  }
 },
 "nbformat": 4,
 "nbformat_minor": 5
}
