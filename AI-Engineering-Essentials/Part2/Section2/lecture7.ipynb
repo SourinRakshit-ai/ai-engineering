{
 "cells": [
  {
   "cell_type": "markdown",
   "id": "b6c0ba25",
   "metadata": {},
   "source": [
    "# Lecture 7: HF Datasets in Practice\n",
    "In this notebook, you'll learn how to work with massive datasets using the Hugging Face Datasets library. We'll cover streaming, filtering, and memory-safe transforms so you can handle big data efficiently—even on a laptop!"
   ]
  },
  {
   "cell_type": "markdown",
   "id": "d2689502",
   "metadata": {},
   "source": [
    "## Learning Goals\n",
    "- Load datasets from the Hugging Face Hub\n",
    "- Stream and filter large datasets efficiently\n",
    "- Apply memory-safe transforms and batching"
   ]
  },
  {
   "cell_type": "markdown",
   "id": "eaf519c2",
   "metadata": {},
   "source": [
    "## 1. Setup: Install and Import Libraries\n",
    "Let's make sure you have the `datasets` library installed and import what we need."
   ]
  },
  {
   "cell_type": "code",
   "execution_count": 1,
   "id": "0b627028",
   "metadata": {},
   "outputs": [
    {
     "name": "stderr",
     "output_type": "stream",
     "text": [
      "\n",
      "[notice] A new release of pip is available: 25.0.1 -> 25.1.1\n",
      "[notice] To update, run: python.exe -m pip install --upgrade pip\n"
     ]
    }
   ],
   "source": [
    "!pip install -q datasets"
   ]
  },
  {
   "cell_type": "code",
   "execution_count": 2,
   "id": "24b251cd",
   "metadata": {},
   "outputs": [],
   "source": [
    "# If running locally and you don't have datasets installed, uncomment the next line:\n",
    "# !pip install datasets\n",
    "\n",
    "from datasets import load_dataset"
   ]
  },
  {
   "cell_type": "markdown",
   "id": "0f612bb4",
   "metadata": {},
   "source": [
    "## 2. Load a Sample Dataset\n",
    "We'll start by loading a popular dataset from the Hugging Face Hub. Let's use the IMDB movie reviews dataset as an example."
   ]
  },
  {
   "cell_type": "code",
   "execution_count": 3,
   "id": "7f2b80cd",
   "metadata": {},
   "outputs": [
    {
     "data": {
      "application/vnd.jupyter.widget-view+json": {
       "model_id": "c45317fc078f4ea89da13d8fd591137b",
       "version_major": 2,
       "version_minor": 0
      },
      "text/plain": [
       "README.md:   0%|          | 0.00/7.81k [00:00<?, ?B/s]"
      ]
     },
     "metadata": {},
     "output_type": "display_data"
    },
    {
     "name": "stderr",
     "output_type": "stream",
     "text": [
      "c:\\Users\\shahe\\Documents\\SuperDataScience\\Official Work\\Courses\\ai-engineering\\ai_env\\Lib\\site-packages\\huggingface_hub\\file_download.py:144: UserWarning: `huggingface_hub` cache-system uses symlinks by default to efficiently store duplicated files but your machine does not support them in C:\\Users\\shahe\\.cache\\huggingface\\hub\\datasets--imdb. Caching files will still work but in a degraded version that might require more space on your disk. This warning can be disabled by setting the `HF_HUB_DISABLE_SYMLINKS_WARNING` environment variable. For more details, see https://huggingface.co/docs/huggingface_hub/how-to-cache#limitations.\n",
      "To support symlinks on Windows, you either need to activate Developer Mode or to run Python as an administrator. In order to activate developer mode, see this article: https://docs.microsoft.com/en-us/windows/apps/get-started/enable-your-device-for-development\n",
      "  warnings.warn(message)\n"
     ]
    },
    {
     "data": {
      "application/vnd.jupyter.widget-view+json": {
       "model_id": "257f130e83704c14a4f8dc73fe603ef4",
       "version_major": 2,
       "version_minor": 0
      },
      "text/plain": [
       "train-00000-of-00001.parquet:   0%|          | 0.00/21.0M [00:00<?, ?B/s]"
      ]
     },
     "metadata": {},
     "output_type": "display_data"
    },
    {
     "data": {
      "application/vnd.jupyter.widget-view+json": {
       "model_id": "9cb101e459864ca89a21b46417383a76",
       "version_major": 2,
       "version_minor": 0
      },
      "text/plain": [
       "test-00000-of-00001.parquet:   0%|          | 0.00/20.5M [00:00<?, ?B/s]"
      ]
     },
     "metadata": {},
     "output_type": "display_data"
    },
    {
     "data": {
      "application/vnd.jupyter.widget-view+json": {
       "model_id": "8ccd9b6abf3c40578fa9e95bc722aff4",
       "version_major": 2,
       "version_minor": 0
      },
      "text/plain": [
       "unsupervised-00000-of-00001.parquet:   0%|          | 0.00/42.0M [00:00<?, ?B/s]"
      ]
     },
     "metadata": {},
     "output_type": "display_data"
    },
    {
     "data": {
      "application/vnd.jupyter.widget-view+json": {
       "model_id": "d8d5fb470c584cfebda214942d84e49f",
       "version_major": 2,
       "version_minor": 0
      },
      "text/plain": [
       "Generating train split:   0%|          | 0/25000 [00:00<?, ? examples/s]"
      ]
     },
     "metadata": {},
     "output_type": "display_data"
    },
    {
     "data": {
      "application/vnd.jupyter.widget-view+json": {
       "model_id": "6fbe0b5265454c3ebe383f223f8b8053",
       "version_major": 2,
       "version_minor": 0
      },
      "text/plain": [
       "Generating test split:   0%|          | 0/25000 [00:00<?, ? examples/s]"
      ]
     },
     "metadata": {},
     "output_type": "display_data"
    },
    {
     "data": {
      "application/vnd.jupyter.widget-view+json": {
       "model_id": "b103cdbc243849d398fff95e1e0424d4",
       "version_major": 2,
       "version_minor": 0
      },
      "text/plain": [
       "Generating unsupervised split:   0%|          | 0/50000 [00:00<?, ? examples/s]"
      ]
     },
     "metadata": {},
     "output_type": "display_data"
    },
    {
     "name": "stdout",
     "output_type": "stream",
     "text": [
      "Dataset({\n",
      "    features: ['text', 'label'],\n",
      "    num_rows: 2000\n",
      "})\n",
      "{'text': 'I rented I AM CURIOUS-YELLOW from my video store because of all the controversy that surrounded it when it was first released in 1967. I also heard that at first it was seized by U.S. customs if it ever tried to enter this country, therefore being a fan of films considered \"controversial\" I really had to see this for myself.<br /><br />The plot is centered around a young Swedish drama student named Lena who wants to learn everything she can about life. In particular she wants to focus her attentions to making some sort of documentary on what the average Swede thought about certain political issues such as the Vietnam War and race issues in the United States. In between asking politicians and ordinary denizens of Stockholm about their opinions on politics, she has sex with her drama teacher, classmates, and married men.<br /><br />What kills me about I AM CURIOUS-YELLOW is that 40 years ago, this was considered pornographic. Really, the sex and nudity scenes are few and far between, even then it\\'s not shot like some cheaply made porno. While my countrymen mind find it shocking, in reality sex and nudity are a major staple in Swedish cinema. Even Ingmar Bergman, arguably their answer to good old boy John Ford, had sex scenes in his films.<br /><br />I do commend the filmmakers for the fact that any sex shown in the film is shown for artistic purposes rather than just to shock people and make money to be shown in pornographic theaters in America. I AM CURIOUS-YELLOW is a good film for anyone wanting to study the meat and potatoes (no pun intended) of Swedish cinema. But really, this film doesn\\'t have much of a plot.', 'label': 0}\n"
     ]
    }
   ],
   "source": [
    "# Load the IMDB dataset (small sample for demo)\n",
    "dataset = load_dataset(\"imdb\", split=\"train[:2000]\")\n",
    "print(dataset)\n",
    "print(dataset[0])"
   ]
  },
  {
   "cell_type": "markdown",
   "id": "b1161adc",
   "metadata": {},
   "source": [
    "## 3. Streaming Large Datasets\n",
    "If you want to work with huge datasets without downloading everything, you can use streaming mode. This is great for limited memory environments."
   ]
  },
  {
   "cell_type": "code",
   "execution_count": null,
   "id": "b1be81f2",
   "metadata": {},
   "outputs": [],
   "source": [
    "# Load the IMDB dataset in streaming mode\n",
    "dataset_stream = load_dataset(\"imdb\", split=\"train\", streaming=True)\n",
    "\n",
    "# Let's peek at the first few examples\n",
    "from itertools import islice\n",
    "for example in islice(dataset_stream, 3):\n",
    "    print(example)"
   ]
  },
  {
   "cell_type": "markdown",
   "id": "16c79d0b",
   "metadata": {},
   "source": [
    "## 4. Filtering Data\n",
    "You can filter datasets to only keep the rows you care about. For example, let's keep only positive reviews."
   ]
  },
  {
   "cell_type": "code",
   "execution_count": null,
   "id": "652b2a61",
   "metadata": {},
   "outputs": [],
   "source": [
    "# Filter for positive reviews (label == 1)\n",
    "positive_reviews = dataset.filter(lambda x: x[\"label\"] == 1)\n",
    "print(f\"Number of positive reviews: {len(positive_reviews)}\")\n",
    "print(positive_reviews[0])"
   ]
  },
  {
   "cell_type": "markdown",
   "id": "0db12c52",
   "metadata": {},
   "source": [
    "## 5. Memory-Safe Transforms with .map()\n",
    "Use `.map()` to apply transformations to your data. This is efficient and can be done in batches."
   ]
  },
  {
   "cell_type": "code",
   "execution_count": null,
   "id": "1cc4b382",
   "metadata": {},
   "outputs": [],
   "source": [
    "# Lowercase all review texts\n",
    "def to_lower(example):\n",
    "    example[\"text\"] = example[\"text\"].lower()\n",
    "    return example\n",
    "\n",
    "lowercased = positive_reviews.map(to_lower, batched=False)\n",
    "print(lowercased[0][\"text\"])"
   ]
  },
  {
   "cell_type": "markdown",
   "id": "6023557d",
   "metadata": {},
   "source": [
    "## 6. Batching and Iteration\n",
    "Batching helps you process data efficiently, especially for training. Let's see how to batch and iterate over the dataset."
   ]
  },
  {
   "cell_type": "code",
   "execution_count": null,
   "id": "bc9c8bf1",
   "metadata": {},
   "outputs": [],
   "source": [
    "# Example: batching with streaming dataset\n",
    "batch_size = 2\n",
    "batch = []\n",
    "for i, example in enumerate(dataset_stream):\n",
    "    batch.append(example)\n",
    "    if len(batch) == batch_size:\n",
    "        print(batch)\n",
    "        batch = []\n",
    "    if i > 5:\n",
    "        break"
   ]
  },
  {
   "cell_type": "markdown",
   "id": "0387e30f",
   "metadata": {},
   "source": [
    "## 7. Key Takeaways\n",
    "- Hugging Face Datasets lets you work with huge datasets efficiently.\n",
    "- Streaming and filtering help you avoid memory issues.\n",
    "- Use `.map()` for fast, memory-safe transforms.\n",
    "\n",
    "Try streaming a dataset from the Hub, apply a filter or transform, and share your code snippet in the course repo!"
   ]
  }
 ],
 "metadata": {
  "kernelspec": {
   "display_name": "ai_env",
   "language": "python",
   "name": "python3"
  },
  "language_info": {
   "codemirror_mode": {
    "name": "ipython",
    "version": 3
   },
   "file_extension": ".py",
   "mimetype": "text/x-python",
   "name": "python",
   "nbconvert_exporter": "python",
   "pygments_lexer": "ipython3",
   "version": "3.12.10"
  }
 },
 "nbformat": 4,
 "nbformat_minor": 5
}
