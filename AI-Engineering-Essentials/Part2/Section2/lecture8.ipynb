{
 "cells": [
  {
   "cell_type": "markdown",
   "id": "4734b0b5",
   "metadata": {},
   "source": [
    "# Lecture 8: Assembling our AI\n",
    "\n",
    "Link to Google Colab notebook: https://colab.research.google.com/drive/1NMJua1cYrqUmh_JjQqupp3UCUCFmVMAL?usp=sharing"
   ]
  }
 ],
 "metadata": {
  "kernelspec": {
   "display_name": "ai_env",
   "language": "python",
   "name": "python3"
  },
  "language_info": {
   "name": "python",
   "version": "3.12.10"
  }
 },
 "nbformat": 4,
 "nbformat_minor": 5
}
